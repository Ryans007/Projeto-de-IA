{
 "cells": [
  {
   "cell_type": "markdown",
   "metadata": {
    "id": "m1ydYFWBtGVX"
   },
   "source": [
    "# **Projeto Final: Inteligência Artificial**\n",
    "\n",
    "Este projeto tem por objetivo desenvolver um algoritmo de Machine Learning para prever a tendência de uma pessoa desenvolver algum tipo de doença cardíaca com base em alguns fatores clínicos e laboratoriais.\n",
    "\n",
    "**Equipe:** Ryan Soares, Luiz Neto e Gabriel Domingos\n"
   ]
  },
  {
   "cell_type": "code",
   "execution_count": 1,
   "metadata": {
    "id": "hUsNkutiOR8y"
   },
   "outputs": [],
   "source": [
    "# type: ignore\n",
    "# Bibliotecas essenciais\n",
    "import warnings\n",
    "import numpy as np\n",
    "import pandas as pd\n",
    "\n",
    "# Configurações\n",
    "warnings.filterwarnings(\"ignore\")\n",
    "\n",
    "# Visualização de dados\n",
    "import matplotlib.pyplot as plt\n",
    "import seaborn as sns\n",
    "import plotly.express as px\n",
    "import plotly.graph_objects as go\n",
    "from plotly.subplots import make_subplots\n",
    "from IPython.display import display, HTML\n",
    "from tabulate import tabulate\n",
    "\n",
    "# Machine Learning - Modelos\n",
    "from sklearn.linear_model import LogisticRegression\n",
    "from sklearn.tree import DecisionTreeClassifier\n",
    "from sklearn.ensemble import RandomForestClassifier\n",
    "from sklearn.svm import SVC\n",
    "\n",
    "# Machine Learning - Pré-processamento e avaliação\n",
    "from sklearn.model_selection import train_test_split\n",
    "from sklearn.preprocessing import StandardScaler\n",
    "from sklearn.metrics import accuracy_score, confusion_matrix, classification_report\n",
    "\n",
    "# Deep Learning (Keras & TensorFlow)\n",
    "from keras.models import Sequential  # type: ignore\n",
    "from keras.layers import Dense  # type: ignore\n",
    "from tensorflow.keras.callbacks import EarlyStopping"
   ]
  },
  {
   "cell_type": "code",
   "execution_count": 2,
   "metadata": {
    "id": "fC_EZAGZQJ_K"
   },
   "outputs": [],
   "source": [
    "# Importação dos dados\n",
    "data = pd.read_csv('heart.csv')"
   ]
  },
  {
   "cell_type": "code",
   "execution_count": 3,
   "metadata": {
    "colab": {
     "base_uri": "https://localhost:8080/",
     "height": 206
    },
    "id": "1nQp-eNNQOXC",
    "outputId": "a387cfaf-6961-4c84-d69b-c7771bcb366b"
   },
   "outputs": [
    {
     "data": {
      "text/html": [
       "<div>\n",
       "<style scoped>\n",
       "    .dataframe tbody tr th:only-of-type {\n",
       "        vertical-align: middle;\n",
       "    }\n",
       "\n",
       "    .dataframe tbody tr th {\n",
       "        vertical-align: top;\n",
       "    }\n",
       "\n",
       "    .dataframe thead th {\n",
       "        text-align: right;\n",
       "    }\n",
       "</style>\n",
       "<table border=\"1\" class=\"dataframe\">\n",
       "  <thead>\n",
       "    <tr style=\"text-align: right;\">\n",
       "      <th></th>\n",
       "      <th>age</th>\n",
       "      <th>sex</th>\n",
       "      <th>cp</th>\n",
       "      <th>trestbps</th>\n",
       "      <th>chol</th>\n",
       "      <th>fbs</th>\n",
       "      <th>restecg</th>\n",
       "      <th>thalach</th>\n",
       "      <th>exang</th>\n",
       "      <th>oldpeak</th>\n",
       "      <th>slope</th>\n",
       "      <th>ca</th>\n",
       "      <th>thal</th>\n",
       "      <th>target</th>\n",
       "    </tr>\n",
       "  </thead>\n",
       "  <tbody>\n",
       "    <tr>\n",
       "      <th>0</th>\n",
       "      <td>63</td>\n",
       "      <td>1</td>\n",
       "      <td>3</td>\n",
       "      <td>145</td>\n",
       "      <td>233</td>\n",
       "      <td>1</td>\n",
       "      <td>0</td>\n",
       "      <td>150</td>\n",
       "      <td>0</td>\n",
       "      <td>2.3</td>\n",
       "      <td>0</td>\n",
       "      <td>0</td>\n",
       "      <td>1</td>\n",
       "      <td>1</td>\n",
       "    </tr>\n",
       "    <tr>\n",
       "      <th>1</th>\n",
       "      <td>37</td>\n",
       "      <td>1</td>\n",
       "      <td>2</td>\n",
       "      <td>130</td>\n",
       "      <td>250</td>\n",
       "      <td>0</td>\n",
       "      <td>1</td>\n",
       "      <td>187</td>\n",
       "      <td>0</td>\n",
       "      <td>3.5</td>\n",
       "      <td>0</td>\n",
       "      <td>0</td>\n",
       "      <td>2</td>\n",
       "      <td>1</td>\n",
       "    </tr>\n",
       "    <tr>\n",
       "      <th>2</th>\n",
       "      <td>41</td>\n",
       "      <td>0</td>\n",
       "      <td>1</td>\n",
       "      <td>130</td>\n",
       "      <td>204</td>\n",
       "      <td>0</td>\n",
       "      <td>0</td>\n",
       "      <td>172</td>\n",
       "      <td>0</td>\n",
       "      <td>1.4</td>\n",
       "      <td>2</td>\n",
       "      <td>0</td>\n",
       "      <td>2</td>\n",
       "      <td>1</td>\n",
       "    </tr>\n",
       "    <tr>\n",
       "      <th>3</th>\n",
       "      <td>56</td>\n",
       "      <td>1</td>\n",
       "      <td>1</td>\n",
       "      <td>120</td>\n",
       "      <td>236</td>\n",
       "      <td>0</td>\n",
       "      <td>1</td>\n",
       "      <td>178</td>\n",
       "      <td>0</td>\n",
       "      <td>0.8</td>\n",
       "      <td>2</td>\n",
       "      <td>0</td>\n",
       "      <td>2</td>\n",
       "      <td>1</td>\n",
       "    </tr>\n",
       "    <tr>\n",
       "      <th>4</th>\n",
       "      <td>57</td>\n",
       "      <td>0</td>\n",
       "      <td>0</td>\n",
       "      <td>120</td>\n",
       "      <td>354</td>\n",
       "      <td>0</td>\n",
       "      <td>1</td>\n",
       "      <td>163</td>\n",
       "      <td>1</td>\n",
       "      <td>0.6</td>\n",
       "      <td>2</td>\n",
       "      <td>0</td>\n",
       "      <td>2</td>\n",
       "      <td>1</td>\n",
       "    </tr>\n",
       "  </tbody>\n",
       "</table>\n",
       "</div>"
      ],
      "text/plain": [
       "   age  sex  cp  trestbps  chol  fbs  restecg  thalach  exang  oldpeak  slope  \\\n",
       "0   63    1   3       145   233    1        0      150      0      2.3      0   \n",
       "1   37    1   2       130   250    0        1      187      0      3.5      0   \n",
       "2   41    0   1       130   204    0        0      172      0      1.4      2   \n",
       "3   56    1   1       120   236    0        1      178      0      0.8      2   \n",
       "4   57    0   0       120   354    0        1      163      1      0.6      2   \n",
       "\n",
       "   ca  thal  target  \n",
       "0   0     1       1  \n",
       "1   0     2       1  \n",
       "2   0     2       1  \n",
       "3   0     2       1  \n",
       "4   0     2       1  "
      ]
     },
     "execution_count": 3,
     "metadata": {},
     "output_type": "execute_result"
    }
   ],
   "source": [
    "# Primeira vizualização\n",
    "data.head(5)"
   ]
  },
  {
   "cell_type": "code",
   "execution_count": 4,
   "metadata": {
    "colab": {
     "base_uri": "https://localhost:8080/"
    },
    "id": "v5oVYfMLuEKG",
    "outputId": "8d997021-2521-4308-c2c1-245ec13cb0d8"
   },
   "outputs": [
    {
     "data": {
      "text/plain": [
       "(303, 14)"
      ]
     },
     "execution_count": 4,
     "metadata": {},
     "output_type": "execute_result"
    }
   ],
   "source": [
    "# Quantidade de linhas e colunas\n",
    "data.shape"
   ]
  },
  {
   "cell_type": "markdown",
   "metadata": {
    "id": "zbV3-KgoQYXA"
   },
   "source": [
    "## 📊 Análise Exploratória de Dados\n",
    "\n",
    "---\n",
    "\n"
   ]
  },
  {
   "cell_type": "markdown",
   "metadata": {
    "id": "u4apvSVowiSg"
   },
   "source": [
    "## 🔍 **Colunas Categóricas**\n",
    "As colunas categóricas serão analisadas para garantir que todos os valores estejam dentro do domínio esperado. Isso inclui:\n",
    "\n",
    "- **Identificação de Anomalias**: Detectar valores fora do padrão (ex.: misspellings, valores nulos, ou categorias não mapeadas).\n",
    "- **Consistência dos Dados**: Garantir que os valores estejam alinhados com o domínio definido para cada variável."
   ]
  },
  {
   "cell_type": "code",
   "execution_count": 5,
   "metadata": {
    "colab": {
     "base_uri": "https://localhost:8080/",
     "height": 293
    },
    "id": "PNEh-KMj1CPR",
    "outputId": "b3358c51-8965-40a1-8555-eaca16e426ab"
   },
   "outputs": [
    {
     "data": {
      "text/html": [
       "<table border=\"1\" class=\"dataframe\">\n",
       "  <thead>\n",
       "    <tr style=\"text-align: right;\">\n",
       "      <th>Sexo</th>\n",
       "      <th>Contagem</th>\n",
       "      <th>Tipo de Dor no Peito (CP)</th>\n",
       "      <th>Contagem</th>\n",
       "      <th>Glicemia em Jejum (FBS)</th>\n",
       "      <th>Contagem</th>\n",
       "      <th>Eletrocardiograma (RestECG)</th>\n",
       "      <th>Contagem</th>\n",
       "      <th>Angina Induzida (Exang)</th>\n",
       "      <th>Contagem</th>\n",
       "      <th>Inclinação (Slope)</th>\n",
       "      <th>Contagem</th>\n",
       "      <th>Número de Vasos (CA)</th>\n",
       "      <th>Contagem</th>\n",
       "      <th>Resultado do teste de estresse de tálio (Thal)</th>\n",
       "      <th>Contagem</th>\n",
       "      <th>Diagnóstico (Target)</th>\n",
       "      <th>Contagem</th>\n",
       "    </tr>\n",
       "  </thead>\n",
       "  <tbody>\n",
       "    <tr>\n",
       "      <td>Homem</td>\n",
       "      <td>96.0</td>\n",
       "      <td>Angina típica</td>\n",
       "      <td>143.0</td>\n",
       "      <td>Normal</td>\n",
       "      <td>258.0</td>\n",
       "      <td>Normal</td>\n",
       "      <td>147.0</td>\n",
       "      <td>Não</td>\n",
       "      <td>204.0</td>\n",
       "      <td>Inclinação 1</td>\n",
       "      <td>21.0</td>\n",
       "      <td>0</td>\n",
       "      <td>175</td>\n",
       "      <td>Normal</td>\n",
       "      <td>2.0</td>\n",
       "      <td>Sem doença</td>\n",
       "      <td>138.0</td>\n",
       "    </tr>\n",
       "    <tr>\n",
       "      <td>Mulher</td>\n",
       "      <td>207.0</td>\n",
       "      <td>Angina atípica</td>\n",
       "      <td>50.0</td>\n",
       "      <td>Alta</td>\n",
       "      <td>45.0</td>\n",
       "      <td>Anormalidade na onda ST-T</td>\n",
       "      <td>152.0</td>\n",
       "      <td>Sim</td>\n",
       "      <td>99.0</td>\n",
       "      <td>Inclinação 2</td>\n",
       "      <td>140.0</td>\n",
       "      <td>1</td>\n",
       "      <td>65</td>\n",
       "      <td>Defeito Fixo</td>\n",
       "      <td>18.0</td>\n",
       "      <td>Com doença</td>\n",
       "      <td>165.0</td>\n",
       "    </tr>\n",
       "    <tr>\n",
       "      <td></td>\n",
       "      <td></td>\n",
       "      <td>Dor não anginosa</td>\n",
       "      <td>87.0</td>\n",
       "      <td></td>\n",
       "      <td></td>\n",
       "      <td>Hipertrofia ventricular esquerda</td>\n",
       "      <td>4.0</td>\n",
       "      <td></td>\n",
       "      <td></td>\n",
       "      <td>Inclinação 3</td>\n",
       "      <td>142.0</td>\n",
       "      <td>2</td>\n",
       "      <td>38</td>\n",
       "      <td>Defeito Reversível</td>\n",
       "      <td>166.0</td>\n",
       "      <td></td>\n",
       "      <td></td>\n",
       "    </tr>\n",
       "    <tr>\n",
       "      <td></td>\n",
       "      <td></td>\n",
       "      <td>Assintomática</td>\n",
       "      <td>23.0</td>\n",
       "      <td></td>\n",
       "      <td></td>\n",
       "      <td></td>\n",
       "      <td></td>\n",
       "      <td></td>\n",
       "      <td></td>\n",
       "      <td></td>\n",
       "      <td></td>\n",
       "      <td>3</td>\n",
       "      <td>20</td>\n",
       "      <td>Sem descrição</td>\n",
       "      <td>117.0</td>\n",
       "      <td></td>\n",
       "      <td></td>\n",
       "    </tr>\n",
       "    <tr>\n",
       "      <td></td>\n",
       "      <td></td>\n",
       "      <td></td>\n",
       "      <td></td>\n",
       "      <td></td>\n",
       "      <td></td>\n",
       "      <td></td>\n",
       "      <td></td>\n",
       "      <td></td>\n",
       "      <td></td>\n",
       "      <td></td>\n",
       "      <td></td>\n",
       "      <td>4</td>\n",
       "      <td>5</td>\n",
       "      <td></td>\n",
       "      <td></td>\n",
       "      <td></td>\n",
       "      <td></td>\n",
       "    </tr>\n",
       "  </tbody>\n",
       "</table>"
      ],
      "text/plain": [
       "<IPython.core.display.HTML object>"
      ]
     },
     "metadata": {},
     "output_type": "display_data"
    }
   ],
   "source": [
    "# Criando os groupbys para as colunas originais\n",
    "groupby_sex = data.groupby(\"sex\").size().rename(\"Contagem\").reset_index()\n",
    "groupby_cp = data.groupby(\"cp\").size().rename(\"Contagem\").reset_index()\n",
    "groupby_fbs = data.groupby(\"fbs\").size().rename(\"Contagem\").reset_index()\n",
    "groupby_restecg = data.groupby(\"restecg\").size().rename(\"Contagem\").reset_index()\n",
    "groupby_exang = data.groupby(\"exang\").size().rename(\"Contagem\").reset_index()\n",
    "\n",
    "# Adicionando rótulos descritivos para as colunas originais\n",
    "groupby_sex[\"Sexo\"] = groupby_sex[\"sex\"].map({0: \"Homem\", 1: \"Mulher\"})\n",
    "groupby_cp[\"Tipo de Dor no Peito (CP)\"] = groupby_cp[\"cp\"].map({\n",
    "    0: \"Angina típica\",\n",
    "    1: \"Angina atípica\",\n",
    "    2: \"Dor não anginosa\",\n",
    "    3: \"Assintomática\"\n",
    "})\n",
    "groupby_fbs[\"Glicemia em Jejum (FBS)\"] = groupby_fbs[\"fbs\"].map({0: \"Normal\", 1: \"Alta\"})\n",
    "groupby_restecg[\"Eletrocardiograma (RestECG)\"] = groupby_restecg[\"restecg\"].map({\n",
    "    0: \"Normal\",\n",
    "    1: \"Anormalidade na onda ST-T\",\n",
    "    2: \"Hipertrofia ventricular esquerda\"\n",
    "})\n",
    "groupby_exang[\"Angina Induzida (Exang)\"] = groupby_exang[\"exang\"].map({0: \"Não\", 1: \"Sim\"})\n",
    "\n",
    "# Selecionando apenas as colunas de interesse dos groupbys originais\n",
    "groupby_sex = groupby_sex[[\"Sexo\", \"Contagem\"]]\n",
    "groupby_cp = groupby_cp[[\"Tipo de Dor no Peito (CP)\", \"Contagem\"]]\n",
    "groupby_fbs = groupby_fbs[[\"Glicemia em Jejum (FBS)\", \"Contagem\"]]\n",
    "groupby_restecg = groupby_restecg[[\"Eletrocardiograma (RestECG)\", \"Contagem\"]]\n",
    "groupby_exang = groupby_exang[[\"Angina Induzida (Exang)\", \"Contagem\"]]\n",
    "\n",
    "# Criando os groupbys para as novas colunas\n",
    "\n",
    "# Para slope\n",
    "groupby_slope = data.groupby(\"slope\").size().rename(\"Contagem\").reset_index()\n",
    "groupby_slope[\"Inclinação (Slope)\"] = groupby_slope[\"slope\"].map({\n",
    "    0: \"Inclinação 1\",\n",
    "    1: \"Inclinação 2\",\n",
    "    2: \"Inclinação 3\"\n",
    "})\n",
    "groupby_slope = groupby_slope[[\"Inclinação (Slope)\", \"Contagem\"]]\n",
    "\n",
    "# Para ca\n",
    "groupby_ca = data.groupby(\"ca\").size().rename(\"Contagem\").reset_index()\n",
    "groupby_ca[\"Número de Vasos (CA)\"] = groupby_ca[\"ca\"]\n",
    "groupby_ca = groupby_ca[[\"Número de Vasos (CA)\", \"Contagem\"]]\n",
    "\n",
    "# Para thal\n",
    "groupby_thal = data.groupby(\"thal\").size().rename(\"Contagem\").reset_index()\n",
    "groupby_thal[\"Resultado do teste de estresse de tálio (Thal)\"] = groupby_thal[\"thal\"].map({\n",
    "    0: \"Normal\",\n",
    "    1: \"Defeito Fixo\",\n",
    "    2: \"Defeito Reversível\",\n",
    "    3: \"Sem descrição\"\n",
    "})\n",
    "groupby_thal = groupby_thal[[\"Resultado do teste de estresse de tálio (Thal)\", \"Contagem\"]]\n",
    "\n",
    "# Para target\n",
    "groupby_target = data.groupby(\"target\").size().rename(\"Contagem\").reset_index()\n",
    "groupby_target[\"Diagnóstico (Target)\"] = groupby_target[\"target\"].map({\n",
    "    0: \"Sem doença\",\n",
    "    1: \"Com doença\"\n",
    "})\n",
    "groupby_target = groupby_target[[\"Diagnóstico (Target)\", \"Contagem\"]]\n",
    "\n",
    "# Juntando todos os resultados em um único DataFrame\n",
    "resultados = pd.concat(\n",
    "    [groupby_sex, groupby_cp, groupby_fbs, groupby_restecg, groupby_exang,\n",
    "     groupby_slope, groupby_ca, groupby_thal, groupby_target],\n",
    "    axis=1\n",
    ")\n",
    "\n",
    "# Substituindo NaN por string vazia (para melhor visualização)\n",
    "resultados = resultados.fillna(\"\")\n",
    "\n",
    "# Exibindo os resultados lado a lado\n",
    "display(HTML(resultados.to_html(index=False)))\n"
   ]
  },
  {
   "cell_type": "markdown",
   "metadata": {
    "id": "sqAsBg_Ggx0O"
   },
   "source": []
  },
  {
   "cell_type": "code",
   "execution_count": 6,
   "metadata": {
    "colab": {
     "base_uri": "https://localhost:8080/",
     "height": 917
    },
    "id": "R6K8sXMguqJn",
    "outputId": "443091b5-907a-4b07-bb85-2b4c3f7b7b93"
   },
   "outputs": [
    {
     "data": {
      "application/vnd.plotly.v1+json": {
       "config": {
        "plotlyServerURL": "https://plot.ly"
       },
       "data": [
        {
         "cliponaxis": false,
         "hovertemplate": "Categoria=%{x}<br>Frequência=%{text}<extra></extra>",
         "legendgroup": "Angina típica",
         "marker": {
          "color": "#636efa",
          "line": {
           "color": "White",
           "width": 1
          },
          "pattern": {
           "shape": ""
          }
         },
         "name": "Angina típica",
         "orientation": "v",
         "showlegend": true,
         "text": {
          "bdata": "AAAAAADgYUA=",
          "dtype": "f8"
         },
         "textfont": {
          "size": 12
         },
         "textposition": "outside",
         "texttemplate": "%{y:,}",
         "type": "bar",
         "width": 0.9,
         "x": [
          "Angina típica"
         ],
         "xaxis": "x",
         "y": {
          "bdata": "jwA=",
          "dtype": "i2"
         },
         "yaxis": "y"
        },
        {
         "cliponaxis": false,
         "hovertemplate": "Categoria=%{x}<br>Frequência=%{text}<extra></extra>",
         "legendgroup": "Angina atípica",
         "marker": {
          "color": "#EF553B",
          "line": {
           "color": "White",
           "width": 1
          },
          "pattern": {
           "shape": ""
          }
         },
         "name": "Angina atípica",
         "orientation": "v",
         "showlegend": true,
         "text": {
          "bdata": "AAAAAAAASUA=",
          "dtype": "f8"
         },
         "textfont": {
          "size": 12
         },
         "textposition": "outside",
         "texttemplate": "%{y:,}",
         "type": "bar",
         "width": 0.9,
         "x": [
          "Angina atípica"
         ],
         "xaxis": "x",
         "y": {
          "bdata": "Mg==",
          "dtype": "i1"
         },
         "yaxis": "y"
        },
        {
         "cliponaxis": false,
         "hovertemplate": "Categoria=%{x}<br>Frequência=%{text}<extra></extra>",
         "legendgroup": "Dor não anginosa",
         "marker": {
          "color": "#00cc96",
          "line": {
           "color": "White",
           "width": 1
          },
          "pattern": {
           "shape": ""
          }
         },
         "name": "Dor não anginosa",
         "orientation": "v",
         "showlegend": true,
         "text": {
          "bdata": "AAAAAADAVUA=",
          "dtype": "f8"
         },
         "textfont": {
          "size": 12
         },
         "textposition": "outside",
         "texttemplate": "%{y:,}",
         "type": "bar",
         "width": 0.9,
         "x": [
          "Dor não anginosa"
         ],
         "xaxis": "x",
         "y": {
          "bdata": "Vw==",
          "dtype": "i1"
         },
         "yaxis": "y"
        },
        {
         "cliponaxis": false,
         "hovertemplate": "Categoria=%{x}<br>Frequência=%{text}<extra></extra>",
         "legendgroup": "Assintomática",
         "marker": {
          "color": "#ab63fa",
          "line": {
           "color": "White",
           "width": 1
          },
          "pattern": {
           "shape": ""
          }
         },
         "name": "Assintomática",
         "orientation": "v",
         "showlegend": true,
         "text": {
          "bdata": "AAAAAAAAN0A=",
          "dtype": "f8"
         },
         "textfont": {
          "size": 12
         },
         "textposition": "outside",
         "texttemplate": "%{y:,}",
         "type": "bar",
         "width": 0.9,
         "x": [
          "Assintomática"
         ],
         "xaxis": "x",
         "y": {
          "bdata": "Fw==",
          "dtype": "i1"
         },
         "yaxis": "y"
        },
        {
         "cliponaxis": false,
         "hovertemplate": "Categoria=%{x}<br>Frequência=%{text}<extra></extra>",
         "legendgroup": "Homem",
         "marker": {
          "color": "#636efa",
          "line": {
           "color": "White",
           "width": 1
          },
          "pattern": {
           "shape": ""
          }
         },
         "name": "Homem",
         "orientation": "v",
         "showlegend": true,
         "text": {
          "bdata": "AAAAAAAAWEA=",
          "dtype": "f8"
         },
         "textfont": {
          "size": 12
         },
         "textposition": "outside",
         "texttemplate": "%{y:,}",
         "type": "bar",
         "width": 0.9,
         "x": [
          "Homem"
         ],
         "xaxis": "x2",
         "y": {
          "bdata": "YA==",
          "dtype": "i1"
         },
         "yaxis": "y2"
        },
        {
         "cliponaxis": false,
         "hovertemplate": "Categoria=%{x}<br>Frequência=%{text}<extra></extra>",
         "legendgroup": "Mulher",
         "marker": {
          "color": "#EF553B",
          "line": {
           "color": "White",
           "width": 1
          },
          "pattern": {
           "shape": ""
          }
         },
         "name": "Mulher",
         "orientation": "v",
         "showlegend": true,
         "text": {
          "bdata": "AAAAAADgaUA=",
          "dtype": "f8"
         },
         "textfont": {
          "size": 12
         },
         "textposition": "outside",
         "texttemplate": "%{y:,}",
         "type": "bar",
         "width": 0.9,
         "x": [
          "Mulher"
         ],
         "xaxis": "x2",
         "y": {
          "bdata": "zwA=",
          "dtype": "i2"
         },
         "yaxis": "y2"
        },
        {
         "cliponaxis": false,
         "hovertemplate": "Categoria=%{x}<br>Frequência=%{text}<extra></extra>",
         "legendgroup": "Glicose Normal",
         "marker": {
          "color": "#636efa",
          "line": {
           "color": "White",
           "width": 1
          },
          "pattern": {
           "shape": ""
          }
         },
         "name": "Glicose Normal",
         "orientation": "v",
         "showlegend": true,
         "text": {
          "bdata": "AAAAAAAgcEA=",
          "dtype": "f8"
         },
         "textfont": {
          "size": 12
         },
         "textposition": "outside",
         "texttemplate": "%{y:,}",
         "type": "bar",
         "width": 0.9,
         "x": [
          "Glicose Normal"
         ],
         "xaxis": "x3",
         "y": {
          "bdata": "AgE=",
          "dtype": "i2"
         },
         "yaxis": "y3"
        },
        {
         "cliponaxis": false,
         "hovertemplate": "Categoria=%{x}<br>Frequência=%{text}<extra></extra>",
         "legendgroup": "Glicose Alta",
         "marker": {
          "color": "#EF553B",
          "line": {
           "color": "White",
           "width": 1
          },
          "pattern": {
           "shape": ""
          }
         },
         "name": "Glicose Alta",
         "orientation": "v",
         "showlegend": true,
         "text": {
          "bdata": "AAAAAACARkA=",
          "dtype": "f8"
         },
         "textfont": {
          "size": 12
         },
         "textposition": "outside",
         "texttemplate": "%{y:,}",
         "type": "bar",
         "width": 0.9,
         "x": [
          "Glicose Alta"
         ],
         "xaxis": "x3",
         "y": {
          "bdata": "LQ==",
          "dtype": "i1"
         },
         "yaxis": "y3"
        },
        {
         "cliponaxis": false,
         "hovertemplate": "Categoria=%{x}<br>Frequência=%{text}<extra></extra>",
         "legendgroup": "Não",
         "marker": {
          "color": "#636efa",
          "line": {
           "color": "White",
           "width": 1
          },
          "pattern": {
           "shape": ""
          }
         },
         "name": "Não",
         "orientation": "v",
         "showlegend": true,
         "text": {
          "bdata": "AAAAAACAaUA=",
          "dtype": "f8"
         },
         "textfont": {
          "size": 12
         },
         "textposition": "outside",
         "texttemplate": "%{y:,}",
         "type": "bar",
         "width": 0.9,
         "x": [
          "Não"
         ],
         "xaxis": "x4",
         "y": {
          "bdata": "zAA=",
          "dtype": "i2"
         },
         "yaxis": "y4"
        },
        {
         "cliponaxis": false,
         "hovertemplate": "Categoria=%{x}<br>Frequência=%{text}<extra></extra>",
         "legendgroup": "Sim",
         "marker": {
          "color": "#EF553B",
          "line": {
           "color": "White",
           "width": 1
          },
          "pattern": {
           "shape": ""
          }
         },
         "name": "Sim",
         "orientation": "v",
         "showlegend": true,
         "text": {
          "bdata": "AAAAAADAWEA=",
          "dtype": "f8"
         },
         "textfont": {
          "size": 12
         },
         "textposition": "outside",
         "texttemplate": "%{y:,}",
         "type": "bar",
         "width": 0.9,
         "x": [
          "Sim"
         ],
         "xaxis": "x4",
         "y": {
          "bdata": "Yw==",
          "dtype": "i1"
         },
         "yaxis": "y4"
        },
        {
         "cliponaxis": false,
         "hovertemplate": "Categoria=%{x}<br>Frequência=%{text}<extra></extra>",
         "legendgroup": "Normal",
         "marker": {
          "color": "#636efa",
          "line": {
           "color": "White",
           "width": 1
          },
          "pattern": {
           "shape": ""
          }
         },
         "name": "Normal",
         "orientation": "v",
         "showlegend": true,
         "text": {
          "bdata": "AAAAAABgYkA=",
          "dtype": "f8"
         },
         "textfont": {
          "size": 12
         },
         "textposition": "outside",
         "texttemplate": "%{y:,}",
         "type": "bar",
         "width": 0.9,
         "x": [
          "Normal"
         ],
         "xaxis": "x5",
         "y": {
          "bdata": "kwA=",
          "dtype": "i2"
         },
         "yaxis": "y5"
        },
        {
         "cliponaxis": false,
         "hovertemplate": "Categoria=%{x}<br>Frequência=%{text}<extra></extra>",
         "legendgroup": "Anormalidade\nST-T",
         "marker": {
          "color": "#EF553B",
          "line": {
           "color": "White",
           "width": 1
          },
          "pattern": {
           "shape": ""
          }
         },
         "name": "Anormalidade\nST-T",
         "orientation": "v",
         "showlegend": true,
         "text": {
          "bdata": "AAAAAAAAY0A=",
          "dtype": "f8"
         },
         "textfont": {
          "size": 12
         },
         "textposition": "outside",
         "texttemplate": "%{y:,}",
         "type": "bar",
         "width": 0.9,
         "x": [
          "Anormalidade\nST-T"
         ],
         "xaxis": "x5",
         "y": {
          "bdata": "mAA=",
          "dtype": "i2"
         },
         "yaxis": "y5"
        },
        {
         "cliponaxis": false,
         "hovertemplate": "Categoria=%{x}<br>Frequência=%{text}<extra></extra>",
         "legendgroup": "Hipertrofia Ventricular\nEsquerda (provável/definitiva)",
         "marker": {
          "color": "#00cc96",
          "line": {
           "color": "White",
           "width": 1
          },
          "pattern": {
           "shape": ""
          }
         },
         "name": "Hipertrofia Ventricular\nEsquerda (provável/definitiva)",
         "orientation": "v",
         "showlegend": true,
         "text": {
          "bdata": "AAAAAAAAEEA=",
          "dtype": "f8"
         },
         "textfont": {
          "size": 12
         },
         "textposition": "outside",
         "texttemplate": "%{y:,}",
         "type": "bar",
         "width": 0.9,
         "x": [
          "Hipertrofia Ventricular\nEsquerda (provável/definitiva)"
         ],
         "xaxis": "x5",
         "y": {
          "bdata": "BA==",
          "dtype": "i1"
         },
         "yaxis": "y5"
        },
        {
         "cliponaxis": false,
         "hovertemplate": "Categoria=%{x}<br>Frequência=%{text}<extra></extra>",
         "legendgroup": "Inclinação 1",
         "marker": {
          "color": "#636efa",
          "line": {
           "color": "White",
           "width": 1
          },
          "pattern": {
           "shape": ""
          }
         },
         "name": "Inclinação 1",
         "orientation": "v",
         "showlegend": true,
         "text": {
          "bdata": "AAAAAAAANUA=",
          "dtype": "f8"
         },
         "textfont": {
          "size": 12
         },
         "textposition": "outside",
         "texttemplate": "%{y:,}",
         "type": "bar",
         "width": 0.9,
         "x": [
          "Inclinação 1"
         ],
         "xaxis": "x6",
         "y": {
          "bdata": "FQ==",
          "dtype": "i1"
         },
         "yaxis": "y6"
        },
        {
         "cliponaxis": false,
         "hovertemplate": "Categoria=%{x}<br>Frequência=%{text}<extra></extra>",
         "legendgroup": "Inclinação 2",
         "marker": {
          "color": "#EF553B",
          "line": {
           "color": "White",
           "width": 1
          },
          "pattern": {
           "shape": ""
          }
         },
         "name": "Inclinação 2",
         "orientation": "v",
         "showlegend": true,
         "text": {
          "bdata": "AAAAAACAYUA=",
          "dtype": "f8"
         },
         "textfont": {
          "size": 12
         },
         "textposition": "outside",
         "texttemplate": "%{y:,}",
         "type": "bar",
         "width": 0.9,
         "x": [
          "Inclinação 2"
         ],
         "xaxis": "x6",
         "y": {
          "bdata": "jAA=",
          "dtype": "i2"
         },
         "yaxis": "y6"
        },
        {
         "cliponaxis": false,
         "hovertemplate": "Categoria=%{x}<br>Frequência=%{text}<extra></extra>",
         "legendgroup": "Inclinação 3",
         "marker": {
          "color": "#00cc96",
          "line": {
           "color": "White",
           "width": 1
          },
          "pattern": {
           "shape": ""
          }
         },
         "name": "Inclinação 3",
         "orientation": "v",
         "showlegend": true,
         "text": {
          "bdata": "AAAAAADAYUA=",
          "dtype": "f8"
         },
         "textfont": {
          "size": 12
         },
         "textposition": "outside",
         "texttemplate": "%{y:,}",
         "type": "bar",
         "width": 0.9,
         "x": [
          "Inclinação 3"
         ],
         "xaxis": "x6",
         "y": {
          "bdata": "jgA=",
          "dtype": "i2"
         },
         "yaxis": "y6"
        },
        {
         "cliponaxis": false,
         "hovertemplate": "Categoria=%{x}<br>Frequência=%{text}<extra></extra>",
         "legendgroup": "0",
         "marker": {
          "color": "#636efa",
          "line": {
           "color": "White",
           "width": 1
          },
          "pattern": {
           "shape": ""
          }
         },
         "name": "0",
         "orientation": "v",
         "showlegend": true,
         "text": {
          "bdata": "AAAAAADgZUA=",
          "dtype": "f8"
         },
         "textfont": {
          "size": 12
         },
         "textposition": "outside",
         "texttemplate": "%{y:,}",
         "type": "bar",
         "width": 0.9,
         "x": [
          "0"
         ],
         "xaxis": "x7",
         "y": {
          "bdata": "rwA=",
          "dtype": "i2"
         },
         "yaxis": "y7"
        },
        {
         "cliponaxis": false,
         "hovertemplate": "Categoria=%{x}<br>Frequência=%{text}<extra></extra>",
         "legendgroup": "1",
         "marker": {
          "color": "#EF553B",
          "line": {
           "color": "White",
           "width": 1
          },
          "pattern": {
           "shape": ""
          }
         },
         "name": "1",
         "orientation": "v",
         "showlegend": true,
         "text": {
          "bdata": "AAAAAABAUEA=",
          "dtype": "f8"
         },
         "textfont": {
          "size": 12
         },
         "textposition": "outside",
         "texttemplate": "%{y:,}",
         "type": "bar",
         "width": 0.9,
         "x": [
          "1"
         ],
         "xaxis": "x7",
         "y": {
          "bdata": "QQ==",
          "dtype": "i1"
         },
         "yaxis": "y7"
        },
        {
         "cliponaxis": false,
         "hovertemplate": "Categoria=%{x}<br>Frequência=%{text}<extra></extra>",
         "legendgroup": "2",
         "marker": {
          "color": "#00cc96",
          "line": {
           "color": "White",
           "width": 1
          },
          "pattern": {
           "shape": ""
          }
         },
         "name": "2",
         "orientation": "v",
         "showlegend": true,
         "text": {
          "bdata": "AAAAAAAAQ0A=",
          "dtype": "f8"
         },
         "textfont": {
          "size": 12
         },
         "textposition": "outside",
         "texttemplate": "%{y:,}",
         "type": "bar",
         "width": 0.9,
         "x": [
          "2"
         ],
         "xaxis": "x7",
         "y": {
          "bdata": "Jg==",
          "dtype": "i1"
         },
         "yaxis": "y7"
        },
        {
         "cliponaxis": false,
         "hovertemplate": "Categoria=%{x}<br>Frequência=%{text}<extra></extra>",
         "legendgroup": "3",
         "marker": {
          "color": "#ab63fa",
          "line": {
           "color": "White",
           "width": 1
          },
          "pattern": {
           "shape": ""
          }
         },
         "name": "3",
         "orientation": "v",
         "showlegend": true,
         "text": {
          "bdata": "AAAAAAAANEA=",
          "dtype": "f8"
         },
         "textfont": {
          "size": 12
         },
         "textposition": "outside",
         "texttemplate": "%{y:,}",
         "type": "bar",
         "width": 0.9,
         "x": [
          "3"
         ],
         "xaxis": "x7",
         "y": {
          "bdata": "FA==",
          "dtype": "i1"
         },
         "yaxis": "y7"
        },
        {
         "cliponaxis": false,
         "hovertemplate": "Categoria=%{x}<br>Frequência=%{text}<extra></extra>",
         "legendgroup": "4",
         "marker": {
          "color": "#FFA15A",
          "line": {
           "color": "White",
           "width": 1
          },
          "pattern": {
           "shape": ""
          }
         },
         "name": "4",
         "orientation": "v",
         "showlegend": true,
         "text": {
          "bdata": "AAAAAAAAFEA=",
          "dtype": "f8"
         },
         "textfont": {
          "size": 12
         },
         "textposition": "outside",
         "texttemplate": "%{y:,}",
         "type": "bar",
         "width": 0.9,
         "x": [
          "4"
         ],
         "xaxis": "x7",
         "y": {
          "bdata": "BQ==",
          "dtype": "i1"
         },
         "yaxis": "y7"
        },
        {
         "cliponaxis": false,
         "hovertemplate": "Categoria=%{x}<br>Frequência=%{text}<extra></extra>",
         "legendgroup": "Normal",
         "marker": {
          "color": "#636efa",
          "line": {
           "color": "White",
           "width": 1
          },
          "pattern": {
           "shape": ""
          }
         },
         "name": "Normal",
         "orientation": "v",
         "showlegend": true,
         "text": {
          "bdata": "AAAAAAAAAEA=",
          "dtype": "f8"
         },
         "textfont": {
          "size": 12
         },
         "textposition": "outside",
         "texttemplate": "%{y:,}",
         "type": "bar",
         "width": 0.9,
         "x": [
          "Normal"
         ],
         "xaxis": "x8",
         "y": {
          "bdata": "Ag==",
          "dtype": "i1"
         },
         "yaxis": "y8"
        },
        {
         "cliponaxis": false,
         "hovertemplate": "Categoria=%{x}<br>Frequência=%{text}<extra></extra>",
         "legendgroup": "Defeito Fixo",
         "marker": {
          "color": "#EF553B",
          "line": {
           "color": "White",
           "width": 1
          },
          "pattern": {
           "shape": ""
          }
         },
         "name": "Defeito Fixo",
         "orientation": "v",
         "showlegend": true,
         "text": {
          "bdata": "AAAAAAAAMkA=",
          "dtype": "f8"
         },
         "textfont": {
          "size": 12
         },
         "textposition": "outside",
         "texttemplate": "%{y:,}",
         "type": "bar",
         "width": 0.9,
         "x": [
          "Defeito Fixo"
         ],
         "xaxis": "x8",
         "y": {
          "bdata": "Eg==",
          "dtype": "i1"
         },
         "yaxis": "y8"
        },
        {
         "cliponaxis": false,
         "hovertemplate": "Categoria=%{x}<br>Frequência=%{text}<extra></extra>",
         "legendgroup": "Defeito Reversível",
         "marker": {
          "color": "#00cc96",
          "line": {
           "color": "White",
           "width": 1
          },
          "pattern": {
           "shape": ""
          }
         },
         "name": "Defeito Reversível",
         "orientation": "v",
         "showlegend": true,
         "text": {
          "bdata": "AAAAAADAZEA=",
          "dtype": "f8"
         },
         "textfont": {
          "size": 12
         },
         "textposition": "outside",
         "texttemplate": "%{y:,}",
         "type": "bar",
         "width": 0.9,
         "x": [
          "Defeito Reversível"
         ],
         "xaxis": "x8",
         "y": {
          "bdata": "pgA=",
          "dtype": "i2"
         },
         "yaxis": "y8"
        },
        {
         "cliponaxis": false,
         "hovertemplate": "Categoria=%{x}<br>Frequência=%{text}<extra></extra>",
         "legendgroup": "Sem descrição",
         "marker": {
          "color": "#ab63fa",
          "line": {
           "color": "White",
           "width": 1
          },
          "pattern": {
           "shape": ""
          }
         },
         "name": "Sem descrição",
         "orientation": "v",
         "showlegend": true,
         "text": {
          "bdata": "AAAAAABAXUA=",
          "dtype": "f8"
         },
         "textfont": {
          "size": 12
         },
         "textposition": "outside",
         "texttemplate": "%{y:,}",
         "type": "bar",
         "width": 0.9,
         "x": [
          "Sem descrição"
         ],
         "xaxis": "x8",
         "y": {
          "bdata": "dQ==",
          "dtype": "i1"
         },
         "yaxis": "y8"
        },
        {
         "cliponaxis": false,
         "hovertemplate": "Categoria=%{x}<br>Frequência=%{text}<extra></extra>",
         "legendgroup": "Sem doença",
         "marker": {
          "color": "#636efa",
          "line": {
           "color": "White",
           "width": 1
          },
          "pattern": {
           "shape": ""
          }
         },
         "name": "Sem doença",
         "orientation": "v",
         "showlegend": true,
         "text": {
          "bdata": "AAAAAABAYUA=",
          "dtype": "f8"
         },
         "textfont": {
          "size": 12
         },
         "textposition": "outside",
         "texttemplate": "%{y:,}",
         "type": "bar",
         "width": 0.9,
         "x": [
          "Sem doença"
         ],
         "xaxis": "x9",
         "y": {
          "bdata": "igA=",
          "dtype": "i2"
         },
         "yaxis": "y9"
        },
        {
         "cliponaxis": false,
         "hovertemplate": "Categoria=%{x}<br>Frequência=%{text}<extra></extra>",
         "legendgroup": "Com doença",
         "marker": {
          "color": "#EF553B",
          "line": {
           "color": "White",
           "width": 1
          },
          "pattern": {
           "shape": ""
          }
         },
         "name": "Com doença",
         "orientation": "v",
         "showlegend": true,
         "text": {
          "bdata": "AAAAAACgZEA=",
          "dtype": "f8"
         },
         "textfont": {
          "size": 12
         },
         "textposition": "outside",
         "texttemplate": "%{y:,}",
         "type": "bar",
         "width": 0.9,
         "x": [
          "Com doença"
         ],
         "xaxis": "x9",
         "y": {
          "bdata": "pQA=",
          "dtype": "i2"
         },
         "yaxis": "y9"
        }
       ],
       "layout": {
        "annotations": [
         {
          "font": {
           "size": 16
          },
          "showarrow": false,
          "text": "Distribuição de CP",
          "x": 0.072,
          "xanchor": "center",
          "xref": "paper",
          "y": 1,
          "yanchor": "bottom",
          "yref": "paper"
         },
         {
          "font": {
           "size": 16
          },
          "showarrow": false,
          "text": "Distribuição de SEX",
          "x": 0.286,
          "xanchor": "center",
          "xref": "paper",
          "y": 1,
          "yanchor": "bottom",
          "yref": "paper"
         },
         {
          "font": {
           "size": 16
          },
          "showarrow": false,
          "text": "Distribuição de FBS",
          "x": 0.5,
          "xanchor": "center",
          "xref": "paper",
          "y": 1,
          "yanchor": "bottom",
          "yref": "paper"
         },
         {
          "font": {
           "size": 16
          },
          "showarrow": false,
          "text": "Distribuição de EXANG",
          "x": 0.714,
          "xanchor": "center",
          "xref": "paper",
          "y": 1,
          "yanchor": "bottom",
          "yref": "paper"
         },
         {
          "font": {
           "size": 16
          },
          "showarrow": false,
          "text": "Distribuição de RESTECG",
          "x": 0.9279999999999999,
          "xanchor": "center",
          "xref": "paper",
          "y": 1,
          "yanchor": "bottom",
          "yref": "paper"
         },
         {
          "font": {
           "size": 16
          },
          "showarrow": false,
          "text": "Distribuição de SLOPE",
          "x": 0.072,
          "xanchor": "center",
          "xref": "paper",
          "y": 0.425,
          "yanchor": "bottom",
          "yref": "paper"
         },
         {
          "font": {
           "size": 16
          },
          "showarrow": false,
          "text": "Distribuição de CA",
          "x": 0.286,
          "xanchor": "center",
          "xref": "paper",
          "y": 0.425,
          "yanchor": "bottom",
          "yref": "paper"
         },
         {
          "font": {
           "size": 16
          },
          "showarrow": false,
          "text": "Distribuição de THAL",
          "x": 0.5,
          "xanchor": "center",
          "xref": "paper",
          "y": 0.425,
          "yanchor": "bottom",
          "yref": "paper"
         },
         {
          "font": {
           "size": 16
          },
          "showarrow": false,
          "text": "Distribuição de TARGET",
          "x": 0.714,
          "xanchor": "center",
          "xref": "paper",
          "y": 0.425,
          "yanchor": "bottom",
          "yref": "paper"
         }
        ],
        "bargap": 0.05,
        "bargroupgap": 0.05,
        "font": {
         "color": "white",
         "family": "Arial",
         "size": 12
        },
        "height": 900,
        "margin": {
         "b": 50,
         "l": 50,
         "r": 50,
         "t": 120
        },
        "paper_bgcolor": "rgba(0,0,0,0.3)",
        "plot_bgcolor": "rgba(0,0,0,0)",
        "showlegend": false,
        "template": {
         "data": {
          "bar": [
           {
            "error_x": {
             "color": "#2a3f5f"
            },
            "error_y": {
             "color": "#2a3f5f"
            },
            "marker": {
             "line": {
              "color": "#E5ECF6",
              "width": 0.5
             },
             "pattern": {
              "fillmode": "overlay",
              "size": 10,
              "solidity": 0.2
             }
            },
            "type": "bar"
           }
          ],
          "barpolar": [
           {
            "marker": {
             "line": {
              "color": "#E5ECF6",
              "width": 0.5
             },
             "pattern": {
              "fillmode": "overlay",
              "size": 10,
              "solidity": 0.2
             }
            },
            "type": "barpolar"
           }
          ],
          "carpet": [
           {
            "aaxis": {
             "endlinecolor": "#2a3f5f",
             "gridcolor": "white",
             "linecolor": "white",
             "minorgridcolor": "white",
             "startlinecolor": "#2a3f5f"
            },
            "baxis": {
             "endlinecolor": "#2a3f5f",
             "gridcolor": "white",
             "linecolor": "white",
             "minorgridcolor": "white",
             "startlinecolor": "#2a3f5f"
            },
            "type": "carpet"
           }
          ],
          "choropleth": [
           {
            "colorbar": {
             "outlinewidth": 0,
             "ticks": ""
            },
            "type": "choropleth"
           }
          ],
          "contour": [
           {
            "colorbar": {
             "outlinewidth": 0,
             "ticks": ""
            },
            "colorscale": [
             [
              0,
              "#0d0887"
             ],
             [
              0.1111111111111111,
              "#46039f"
             ],
             [
              0.2222222222222222,
              "#7201a8"
             ],
             [
              0.3333333333333333,
              "#9c179e"
             ],
             [
              0.4444444444444444,
              "#bd3786"
             ],
             [
              0.5555555555555556,
              "#d8576b"
             ],
             [
              0.6666666666666666,
              "#ed7953"
             ],
             [
              0.7777777777777778,
              "#fb9f3a"
             ],
             [
              0.8888888888888888,
              "#fdca26"
             ],
             [
              1,
              "#f0f921"
             ]
            ],
            "type": "contour"
           }
          ],
          "contourcarpet": [
           {
            "colorbar": {
             "outlinewidth": 0,
             "ticks": ""
            },
            "type": "contourcarpet"
           }
          ],
          "heatmap": [
           {
            "colorbar": {
             "outlinewidth": 0,
             "ticks": ""
            },
            "colorscale": [
             [
              0,
              "#0d0887"
             ],
             [
              0.1111111111111111,
              "#46039f"
             ],
             [
              0.2222222222222222,
              "#7201a8"
             ],
             [
              0.3333333333333333,
              "#9c179e"
             ],
             [
              0.4444444444444444,
              "#bd3786"
             ],
             [
              0.5555555555555556,
              "#d8576b"
             ],
             [
              0.6666666666666666,
              "#ed7953"
             ],
             [
              0.7777777777777778,
              "#fb9f3a"
             ],
             [
              0.8888888888888888,
              "#fdca26"
             ],
             [
              1,
              "#f0f921"
             ]
            ],
            "type": "heatmap"
           }
          ],
          "histogram": [
           {
            "marker": {
             "pattern": {
              "fillmode": "overlay",
              "size": 10,
              "solidity": 0.2
             }
            },
            "type": "histogram"
           }
          ],
          "histogram2d": [
           {
            "colorbar": {
             "outlinewidth": 0,
             "ticks": ""
            },
            "colorscale": [
             [
              0,
              "#0d0887"
             ],
             [
              0.1111111111111111,
              "#46039f"
             ],
             [
              0.2222222222222222,
              "#7201a8"
             ],
             [
              0.3333333333333333,
              "#9c179e"
             ],
             [
              0.4444444444444444,
              "#bd3786"
             ],
             [
              0.5555555555555556,
              "#d8576b"
             ],
             [
              0.6666666666666666,
              "#ed7953"
             ],
             [
              0.7777777777777778,
              "#fb9f3a"
             ],
             [
              0.8888888888888888,
              "#fdca26"
             ],
             [
              1,
              "#f0f921"
             ]
            ],
            "type": "histogram2d"
           }
          ],
          "histogram2dcontour": [
           {
            "colorbar": {
             "outlinewidth": 0,
             "ticks": ""
            },
            "colorscale": [
             [
              0,
              "#0d0887"
             ],
             [
              0.1111111111111111,
              "#46039f"
             ],
             [
              0.2222222222222222,
              "#7201a8"
             ],
             [
              0.3333333333333333,
              "#9c179e"
             ],
             [
              0.4444444444444444,
              "#bd3786"
             ],
             [
              0.5555555555555556,
              "#d8576b"
             ],
             [
              0.6666666666666666,
              "#ed7953"
             ],
             [
              0.7777777777777778,
              "#fb9f3a"
             ],
             [
              0.8888888888888888,
              "#fdca26"
             ],
             [
              1,
              "#f0f921"
             ]
            ],
            "type": "histogram2dcontour"
           }
          ],
          "mesh3d": [
           {
            "colorbar": {
             "outlinewidth": 0,
             "ticks": ""
            },
            "type": "mesh3d"
           }
          ],
          "parcoords": [
           {
            "line": {
             "colorbar": {
              "outlinewidth": 0,
              "ticks": ""
             }
            },
            "type": "parcoords"
           }
          ],
          "pie": [
           {
            "automargin": true,
            "type": "pie"
           }
          ],
          "scatter": [
           {
            "fillpattern": {
             "fillmode": "overlay",
             "size": 10,
             "solidity": 0.2
            },
            "type": "scatter"
           }
          ],
          "scatter3d": [
           {
            "line": {
             "colorbar": {
              "outlinewidth": 0,
              "ticks": ""
             }
            },
            "marker": {
             "colorbar": {
              "outlinewidth": 0,
              "ticks": ""
             }
            },
            "type": "scatter3d"
           }
          ],
          "scattercarpet": [
           {
            "marker": {
             "colorbar": {
              "outlinewidth": 0,
              "ticks": ""
             }
            },
            "type": "scattercarpet"
           }
          ],
          "scattergeo": [
           {
            "marker": {
             "colorbar": {
              "outlinewidth": 0,
              "ticks": ""
             }
            },
            "type": "scattergeo"
           }
          ],
          "scattergl": [
           {
            "marker": {
             "colorbar": {
              "outlinewidth": 0,
              "ticks": ""
             }
            },
            "type": "scattergl"
           }
          ],
          "scattermap": [
           {
            "marker": {
             "colorbar": {
              "outlinewidth": 0,
              "ticks": ""
             }
            },
            "type": "scattermap"
           }
          ],
          "scattermapbox": [
           {
            "marker": {
             "colorbar": {
              "outlinewidth": 0,
              "ticks": ""
             }
            },
            "type": "scattermapbox"
           }
          ],
          "scatterpolar": [
           {
            "marker": {
             "colorbar": {
              "outlinewidth": 0,
              "ticks": ""
             }
            },
            "type": "scatterpolar"
           }
          ],
          "scatterpolargl": [
           {
            "marker": {
             "colorbar": {
              "outlinewidth": 0,
              "ticks": ""
             }
            },
            "type": "scatterpolargl"
           }
          ],
          "scatterternary": [
           {
            "marker": {
             "colorbar": {
              "outlinewidth": 0,
              "ticks": ""
             }
            },
            "type": "scatterternary"
           }
          ],
          "surface": [
           {
            "colorbar": {
             "outlinewidth": 0,
             "ticks": ""
            },
            "colorscale": [
             [
              0,
              "#0d0887"
             ],
             [
              0.1111111111111111,
              "#46039f"
             ],
             [
              0.2222222222222222,
              "#7201a8"
             ],
             [
              0.3333333333333333,
              "#9c179e"
             ],
             [
              0.4444444444444444,
              "#bd3786"
             ],
             [
              0.5555555555555556,
              "#d8576b"
             ],
             [
              0.6666666666666666,
              "#ed7953"
             ],
             [
              0.7777777777777778,
              "#fb9f3a"
             ],
             [
              0.8888888888888888,
              "#fdca26"
             ],
             [
              1,
              "#f0f921"
             ]
            ],
            "type": "surface"
           }
          ],
          "table": [
           {
            "cells": {
             "fill": {
              "color": "#EBF0F8"
             },
             "line": {
              "color": "white"
             }
            },
            "header": {
             "fill": {
              "color": "#C8D4E3"
             },
             "line": {
              "color": "white"
             }
            },
            "type": "table"
           }
          ]
         },
         "layout": {
          "annotationdefaults": {
           "arrowcolor": "#2a3f5f",
           "arrowhead": 0,
           "arrowwidth": 1
          },
          "autotypenumbers": "strict",
          "coloraxis": {
           "colorbar": {
            "outlinewidth": 0,
            "ticks": ""
           }
          },
          "colorscale": {
           "diverging": [
            [
             0,
             "#8e0152"
            ],
            [
             0.1,
             "#c51b7d"
            ],
            [
             0.2,
             "#de77ae"
            ],
            [
             0.3,
             "#f1b6da"
            ],
            [
             0.4,
             "#fde0ef"
            ],
            [
             0.5,
             "#f7f7f7"
            ],
            [
             0.6,
             "#e6f5d0"
            ],
            [
             0.7,
             "#b8e186"
            ],
            [
             0.8,
             "#7fbc41"
            ],
            [
             0.9,
             "#4d9221"
            ],
            [
             1,
             "#276419"
            ]
           ],
           "sequential": [
            [
             0,
             "#0d0887"
            ],
            [
             0.1111111111111111,
             "#46039f"
            ],
            [
             0.2222222222222222,
             "#7201a8"
            ],
            [
             0.3333333333333333,
             "#9c179e"
            ],
            [
             0.4444444444444444,
             "#bd3786"
            ],
            [
             0.5555555555555556,
             "#d8576b"
            ],
            [
             0.6666666666666666,
             "#ed7953"
            ],
            [
             0.7777777777777778,
             "#fb9f3a"
            ],
            [
             0.8888888888888888,
             "#fdca26"
            ],
            [
             1,
             "#f0f921"
            ]
           ],
           "sequentialminus": [
            [
             0,
             "#0d0887"
            ],
            [
             0.1111111111111111,
             "#46039f"
            ],
            [
             0.2222222222222222,
             "#7201a8"
            ],
            [
             0.3333333333333333,
             "#9c179e"
            ],
            [
             0.4444444444444444,
             "#bd3786"
            ],
            [
             0.5555555555555556,
             "#d8576b"
            ],
            [
             0.6666666666666666,
             "#ed7953"
            ],
            [
             0.7777777777777778,
             "#fb9f3a"
            ],
            [
             0.8888888888888888,
             "#fdca26"
            ],
            [
             1,
             "#f0f921"
            ]
           ]
          },
          "colorway": [
           "#636efa",
           "#EF553B",
           "#00cc96",
           "#ab63fa",
           "#FFA15A",
           "#19d3f3",
           "#FF6692",
           "#B6E880",
           "#FF97FF",
           "#FECB52"
          ],
          "font": {
           "color": "#2a3f5f"
          },
          "geo": {
           "bgcolor": "white",
           "lakecolor": "white",
           "landcolor": "#E5ECF6",
           "showlakes": true,
           "showland": true,
           "subunitcolor": "white"
          },
          "hoverlabel": {
           "align": "left"
          },
          "hovermode": "closest",
          "mapbox": {
           "style": "light"
          },
          "paper_bgcolor": "white",
          "plot_bgcolor": "#E5ECF6",
          "polar": {
           "angularaxis": {
            "gridcolor": "white",
            "linecolor": "white",
            "ticks": ""
           },
           "bgcolor": "#E5ECF6",
           "radialaxis": {
            "gridcolor": "white",
            "linecolor": "white",
            "ticks": ""
           }
          },
          "scene": {
           "xaxis": {
            "backgroundcolor": "#E5ECF6",
            "gridcolor": "white",
            "gridwidth": 2,
            "linecolor": "white",
            "showbackground": true,
            "ticks": "",
            "zerolinecolor": "white"
           },
           "yaxis": {
            "backgroundcolor": "#E5ECF6",
            "gridcolor": "white",
            "gridwidth": 2,
            "linecolor": "white",
            "showbackground": true,
            "ticks": "",
            "zerolinecolor": "white"
           },
           "zaxis": {
            "backgroundcolor": "#E5ECF6",
            "gridcolor": "white",
            "gridwidth": 2,
            "linecolor": "white",
            "showbackground": true,
            "ticks": "",
            "zerolinecolor": "white"
           }
          },
          "shapedefaults": {
           "line": {
            "color": "#2a3f5f"
           }
          },
          "ternary": {
           "aaxis": {
            "gridcolor": "white",
            "linecolor": "white",
            "ticks": ""
           },
           "baxis": {
            "gridcolor": "white",
            "linecolor": "white",
            "ticks": ""
           },
           "bgcolor": "#E5ECF6",
           "caxis": {
            "gridcolor": "white",
            "linecolor": "white",
            "ticks": ""
           }
          },
          "title": {
           "x": 0.05
          },
          "xaxis": {
           "automargin": true,
           "gridcolor": "white",
           "linecolor": "white",
           "ticks": "",
           "title": {
            "standoff": 15
           },
           "zerolinecolor": "white",
           "zerolinewidth": 2
          },
          "yaxis": {
           "automargin": true,
           "gridcolor": "white",
           "linecolor": "white",
           "ticks": "",
           "title": {
            "standoff": 15
           },
           "zerolinecolor": "white",
           "zerolinewidth": 2
          }
         }
        },
        "title": {
         "font": {
          "color": "white",
          "size": 24
         },
         "text": "📊 Análise de Variáveis Categóricas",
         "x": 0.5,
         "xanchor": "center",
         "y": 0.97
        },
        "width": 1200,
        "xaxis": {
         "anchor": "y",
         "automargin": true,
         "domain": [
          0,
          0.144
         ],
         "showgrid": false,
         "tickangle": -30,
         "tickfont": {
          "size": 10
         },
         "title": {
          "text": ""
         }
        },
        "xaxis10": {
         "anchor": "y10",
         "domain": [
          0.856,
          1
         ]
        },
        "xaxis2": {
         "anchor": "y2",
         "automargin": true,
         "domain": [
          0.214,
          0.358
         ],
         "showgrid": false,
         "tickangle": -30,
         "tickfont": {
          "size": 10
         },
         "title": {
          "text": ""
         }
        },
        "xaxis3": {
         "anchor": "y3",
         "automargin": true,
         "domain": [
          0.428,
          0.572
         ],
         "showgrid": false,
         "tickangle": -30,
         "tickfont": {
          "size": 10
         },
         "title": {
          "text": ""
         }
        },
        "xaxis4": {
         "anchor": "y4",
         "automargin": true,
         "domain": [
          0.6419999999999999,
          0.7859999999999999
         ],
         "showgrid": false,
         "tickangle": -30,
         "tickfont": {
          "size": 10
         },
         "title": {
          "text": ""
         }
        },
        "xaxis5": {
         "anchor": "y5",
         "automargin": true,
         "domain": [
          0.856,
          1
         ],
         "showgrid": false,
         "tickangle": -30,
         "tickfont": {
          "size": 10
         },
         "title": {
          "text": ""
         }
        },
        "xaxis6": {
         "anchor": "y6",
         "automargin": true,
         "domain": [
          0,
          0.144
         ],
         "showgrid": false,
         "tickangle": -30,
         "tickfont": {
          "size": 10
         },
         "title": {
          "text": ""
         }
        },
        "xaxis7": {
         "anchor": "y7",
         "automargin": true,
         "domain": [
          0.214,
          0.358
         ],
         "showgrid": false,
         "tickangle": -30,
         "tickfont": {
          "size": 10
         },
         "title": {
          "text": ""
         }
        },
        "xaxis8": {
         "anchor": "y8",
         "automargin": true,
         "domain": [
          0.428,
          0.572
         ],
         "showgrid": false,
         "tickangle": -30,
         "tickfont": {
          "size": 10
         },
         "title": {
          "text": ""
         }
        },
        "xaxis9": {
         "anchor": "y9",
         "automargin": true,
         "domain": [
          0.6419999999999999,
          0.7859999999999999
         ],
         "showgrid": false,
         "tickangle": -30,
         "tickfont": {
          "size": 10
         },
         "title": {
          "text": ""
         }
        },
        "yaxis": {
         "anchor": "x",
         "automargin": true,
         "domain": [
          0.575,
          1
         ],
         "range": [
          0,
          157.3
         ],
         "showgrid": false,
         "title": {
          "text": "Contagem"
         }
        },
        "yaxis10": {
         "anchor": "x10",
         "domain": [
          0,
          0.425
         ]
        },
        "yaxis2": {
         "anchor": "x2",
         "automargin": true,
         "domain": [
          0.575,
          1
         ],
         "range": [
          0,
          227.70000000000002
         ],
         "showgrid": false,
         "title": {
          "text": ""
         }
        },
        "yaxis3": {
         "anchor": "x3",
         "automargin": true,
         "domain": [
          0.575,
          1
         ],
         "range": [
          0,
          283.8
         ],
         "showgrid": false,
         "title": {
          "text": ""
         }
        },
        "yaxis4": {
         "anchor": "x4",
         "automargin": true,
         "domain": [
          0.575,
          1
         ],
         "range": [
          0,
          224.4
         ],
         "showgrid": false,
         "title": {
          "text": ""
         }
        },
        "yaxis5": {
         "anchor": "x5",
         "automargin": true,
         "domain": [
          0.575,
          1
         ],
         "range": [
          0,
          167.20000000000002
         ],
         "showgrid": false,
         "title": {
          "text": ""
         }
        },
        "yaxis6": {
         "anchor": "x6",
         "automargin": true,
         "domain": [
          0,
          0.425
         ],
         "range": [
          0,
          156.20000000000002
         ],
         "showgrid": false,
         "title": {
          "text": "Contagem"
         }
        },
        "yaxis7": {
         "anchor": "x7",
         "automargin": true,
         "domain": [
          0,
          0.425
         ],
         "range": [
          0,
          192.50000000000003
         ],
         "showgrid": false,
         "title": {
          "text": ""
         }
        },
        "yaxis8": {
         "anchor": "x8",
         "automargin": true,
         "domain": [
          0,
          0.425
         ],
         "range": [
          0,
          182.60000000000002
         ],
         "showgrid": false,
         "title": {
          "text": ""
         }
        },
        "yaxis9": {
         "anchor": "x9",
         "automargin": true,
         "domain": [
          0,
          0.425
         ],
         "range": [
          0,
          181.50000000000003
         ],
         "showgrid": false,
         "title": {
          "text": ""
         }
        }
       }
      }
     },
     "metadata": {},
     "output_type": "display_data"
    }
   ],
   "source": [
    "# Criação de gráficos para vizualização das colunas categóricas\n",
    "# Colunas\n",
    "colunas = [\"cp\", \"sex\", \"fbs\", \"exang\", \"restecg\", \"slope\", \"ca\", \"thal\", \"target\"]\n",
    "\n",
    "# Criação dos mapeamentos para rótulos\n",
    "mapeamentos = {\n",
    "    \"sex\": {\n",
    "        0: \"Homem\",\n",
    "        1: \"Mulher\"\n",
    "    },\n",
    "    \"cp\": {\n",
    "        0: \"Angina típica\",\n",
    "        1: \"Angina atípica\",\n",
    "        2: \"Dor não anginosa\",\n",
    "        3: \"Assintomática\"\n",
    "    },\n",
    "    \"fbs\": {\n",
    "        0: \"Glicose Normal\",\n",
    "        1: \"Glicose Alta\"\n",
    "    },\n",
    "    \"exang\": {\n",
    "        0: \"Não\",\n",
    "        1: \"Sim\"\n",
    "    },\n",
    "    \"restecg\": {\n",
    "        0: \"Normal\",\n",
    "        1: \"Anormalidade\\nST-T\",\n",
    "        2: \"Hipertrofia Ventricular\\nEsquerda (provável/definitiva)\"\n",
    "    },\n",
    "    # Para ca, usamos os próprios valores (convertidos para string)\n",
    "    \"ca\": {val: str(val) for val in sorted(data[\"ca\"].unique())},\n",
    "    \"thal\": {\n",
    "      0: \"Normal\",\n",
    "      1: \"Defeito Fixo\",\n",
    "      2: \"Defeito Reversível\",\n",
    "      3: \"Sem descrição\"\n",
    "    },\n",
    "    \"target\": {\n",
    "        0: \"Sem doença\",\n",
    "        1: \"Com doença\"\n",
    "    },\n",
    "    \"slope\": {\n",
    "    0: \"Inclinação 1\",\n",
    "    1: \"Inclinação 2\",\n",
    "    2: \"Inclinação 3\"\n",
    "    }\n",
    "}\n",
    "\n",
    "# Cria subplots: utilizando 2 linhas e 5 colunas para acomodar as 10 variáveis\n",
    "fig = make_subplots(\n",
    "    rows=2,\n",
    "    cols=5,\n",
    "    subplot_titles=[f\"Distribuição de {col.upper()}\" for col in colunas],\n",
    "    vertical_spacing=0.15,\n",
    "    horizontal_spacing=0.07\n",
    ")\n",
    "\n",
    "# Geração dos gráficos para cada coluna\n",
    "for idx, coluna in enumerate(colunas, 1):\n",
    "    # Cálculo da posição do subplot (linha e coluna)\n",
    "    row = (idx - 1) // 5 + 1\n",
    "    col_plot = (idx - 1) % 5 + 1\n",
    "\n",
    "    # Contagem de cada categoria\n",
    "    contagem = data[coluna].value_counts().sort_index()\n",
    "\n",
    "    # Se houver mapeamento definido, usa-o; caso contrário, mantém o valor original\n",
    "    if coluna in mapeamentos:\n",
    "        categorias = contagem.index.map(mapeamentos[coluna])\n",
    "    else:\n",
    "        categorias = contagem.index.astype(str)\n",
    "\n",
    "    df = pd.DataFrame({\n",
    "        \"Categoria\": categorias,\n",
    "        \"Frequência\": contagem.values\n",
    "    })\n",
    "\n",
    "    # Define range do eixo Y com folga de 10%\n",
    "    max_valor = contagem.max() * 1.1\n",
    "\n",
    "    # Cria gráfico de barras\n",
    "    barra = px.bar(\n",
    "        df,\n",
    "        x=\"Categoria\",\n",
    "        y=\"Frequência\",\n",
    "        text=\"Frequência\",\n",
    "        color=\"Categoria\",\n",
    "        template=\"plotly_dark\"\n",
    "    ).update_traces(\n",
    "        texttemplate=\"%{y:,}\",\n",
    "        textposition=\"outside\",\n",
    "        textfont_size=12,\n",
    "        marker_line=dict(width=1, color=\"White\"),\n",
    "        cliponaxis=False,  # evita cortar o texto fora do eixo\n",
    "        width=0.9\n",
    "    )\n",
    "\n",
    "    # Adiciona o gráfico ao subplot correspondente\n",
    "    for trace in barra.data:\n",
    "        fig.add_trace(trace, row=row, col=col_plot)\n",
    "\n",
    "    # Ajuste dos eixos\n",
    "    fig.update_xaxes(\n",
    "        title_text=\"\",\n",
    "        tickangle=-30,\n",
    "        tickfont=dict(size=10),\n",
    "        row=row,\n",
    "        col=col_plot,\n",
    "        showgrid=False,\n",
    "        automargin=True\n",
    "    )\n",
    "    fig.update_yaxes(\n",
    "        title_text=\"Contagem\" if col_plot == 1 else \"\",\n",
    "        row=row,\n",
    "        col=col_plot,\n",
    "        showgrid=False,\n",
    "        range=[0, max_valor],\n",
    "        automargin=True\n",
    "    )\n",
    "\n",
    "# Layout final\n",
    "fig.update_layout(\n",
    "    title={\n",
    "        'text': \"📊 Análise de Variáveis Categóricas\",\n",
    "        'y': 0.97,\n",
    "        'x': 0.5,\n",
    "        'xanchor': 'center',\n",
    "        'font': {'size': 24, 'color': 'white'}\n",
    "    },\n",
    "    showlegend=False,\n",
    "    width=1200,\n",
    "    height=900,\n",
    "    margin=dict(t=120, b=50, l=50, r=50),\n",
    "    paper_bgcolor=\"rgba(0,0,0,0.3)\",\n",
    "    plot_bgcolor=\"rgba(0,0,0,0)\",\n",
    "    font=dict(family=\"Arial\", size=12, color=\"white\"),\n",
    "    bargap=0.05,\n",
    "    bargroupgap=0.05\n",
    ")\n",
    "\n",
    "fig.show()\n"
   ]
  },
  {
   "cell_type": "markdown",
   "metadata": {
    "id": "YGcEVmFq8ia0"
   },
   "source": [
    "### **Conclusão**\n",
    "\n",
    "Após a análise das colunas categóricas, podemos concluir que:\n",
    "\n",
    "- **Nenhum dado fora do dominio**: Todos os valores estão dentro do domínio esperado para cada coluna.\n",
    "  \n",
    "  - **Exemplo**: Na coluna `sex`, os únicos valores presentes são **\"Homem\"** e **\"Mulher\"**. Caso houvesse um valor fora do domínio, como **\"Outros\"**, seria necessário realizar um tratamento, como substituir pelo valor mais frequente (moda) da coluna.\n",
    "\n",
    "- **Dados de baixa ocorrência**:\n",
    "  \n",
    "  - Na coluna `restecg`, o dado **\"Hipertrofia Ventricular Esquerda (provável/definitiva)\"** aparece apenas 4 vezes. Recomenda-se sua substituição pela moda da coluna.\n",
    "  \n",
    "  - Na coluna `ca`, o valor **4** aparece somente 5 vezes. Também é sugerida a substituição pela moda.\n",
    "  \n",
    "  - Na coluna `thal`, o dado **\"normal\"** aparece apenas 2 vezes, indicando igualmente a necessidade de substituição pela moda.\n"
   ]
  },
  {
   "cell_type": "markdown",
   "metadata": {
    "id": "It82Cpalg1-9"
   },
   "source": [
    "### **Tratamento dos Dados**"
   ]
  },
  {
   "cell_type": "code",
   "execution_count": null,
   "metadata": {
    "id": "vDVQ1NIng-2g"
   },
   "outputs": [],
   "source": [
    "# Coluna restecg\n",
    "data.loc[data[\"restecg\"] == 2, \"restecg\"] = 1 # Troca de dado de baixa ocorrência pela moda"
   ]
  },
  {
   "cell_type": "code",
   "execution_count": 8,
   "metadata": {
    "colab": {
     "base_uri": "https://localhost:8080/",
     "height": 178
    },
    "id": "x7Lm6ek2iM3i",
    "outputId": "58ca2dea-de58-440a-ff41-660b833e61fc"
   },
   "outputs": [
    {
     "data": {
      "text/plain": [
       "restecg\n",
       "0    147\n",
       "1    156\n",
       "dtype: int64"
      ]
     },
     "execution_count": 8,
     "metadata": {},
     "output_type": "execute_result"
    }
   ],
   "source": [
    "# Análisando novo dominio dos dados\n",
    "data.groupby(data[\"restecg\"]).size()"
   ]
  },
  {
   "cell_type": "code",
   "execution_count": 9,
   "metadata": {
    "id": "y5RKASPRid1U"
   },
   "outputs": [],
   "source": [
    "# Coluna ca\n",
    "data.loc[data[\"ca\"] == 4, \"ca\"] = 0 # Troca de dado de baixa ocorrência pela moda"
   ]
  },
  {
   "cell_type": "code",
   "execution_count": 10,
   "metadata": {
    "colab": {
     "base_uri": "https://localhost:8080/",
     "height": 241
    },
    "id": "HDmFoHwOjYA_",
    "outputId": "2c7b32a4-ab2d-45e2-8cef-b9c95dc67ffa"
   },
   "outputs": [
    {
     "data": {
      "text/plain": [
       "ca\n",
       "0    180\n",
       "1     65\n",
       "2     38\n",
       "3     20\n",
       "dtype: int64"
      ]
     },
     "execution_count": 10,
     "metadata": {},
     "output_type": "execute_result"
    }
   ],
   "source": [
    "# Análisando nova dominio dos dados\n",
    "data.groupby(data[\"ca\"]).size()"
   ]
  },
  {
   "cell_type": "code",
   "execution_count": 11,
   "metadata": {
    "id": "GhOiT7Grj5aE"
   },
   "outputs": [],
   "source": [
    "# Coluna thal\n",
    "data.loc[data[\"thal\"] == 0, \"thal\"] = 2 # Troca de dado de baixa ocorrência pela moda"
   ]
  },
  {
   "cell_type": "code",
   "execution_count": 12,
   "metadata": {
    "colab": {
     "base_uri": "https://localhost:8080/",
     "height": 209
    },
    "id": "b0bfM5rZkSZt",
    "outputId": "b10ba268-6edb-44cf-fe04-3d2db8778591"
   },
   "outputs": [
    {
     "data": {
      "text/plain": [
       "thal\n",
       "1     18\n",
       "2    168\n",
       "3    117\n",
       "dtype: int64"
      ]
     },
     "execution_count": 12,
     "metadata": {},
     "output_type": "execute_result"
    }
   ],
   "source": [
    "# Análisando novo dominio dos dados\n",
    "data.groupby(data[\"thal\"]).size()"
   ]
  },
  {
   "cell_type": "markdown",
   "metadata": {
    "id": "t-1RrVNQwfLd"
   },
   "source": []
  },
  {
   "cell_type": "markdown",
   "metadata": {
    "id": "zQLOOhMX999-"
   },
   "source": [
    "## 🔍 **Colunas Numéricas**"
   ]
  },
  {
   "cell_type": "code",
   "execution_count": 13,
   "metadata": {
    "colab": {
     "base_uri": "https://localhost:8080/",
     "height": 300
    },
    "id": "F1hvBzHA-Cdw",
    "outputId": "7e77bb78-acbd-4ef9-d386-abfe87b2c634"
   },
   "outputs": [
    {
     "data": {
      "text/html": [
       "<div>\n",
       "<style scoped>\n",
       "    .dataframe tbody tr th:only-of-type {\n",
       "        vertical-align: middle;\n",
       "    }\n",
       "\n",
       "    .dataframe tbody tr th {\n",
       "        vertical-align: top;\n",
       "    }\n",
       "\n",
       "    .dataframe thead th {\n",
       "        text-align: right;\n",
       "    }\n",
       "</style>\n",
       "<table border=\"1\" class=\"dataframe\">\n",
       "  <thead>\n",
       "    <tr style=\"text-align: right;\">\n",
       "      <th></th>\n",
       "      <th>age</th>\n",
       "      <th>sex</th>\n",
       "      <th>cp</th>\n",
       "      <th>trestbps</th>\n",
       "      <th>chol</th>\n",
       "      <th>fbs</th>\n",
       "      <th>restecg</th>\n",
       "      <th>thalach</th>\n",
       "      <th>exang</th>\n",
       "      <th>oldpeak</th>\n",
       "      <th>slope</th>\n",
       "      <th>ca</th>\n",
       "      <th>thal</th>\n",
       "      <th>target</th>\n",
       "    </tr>\n",
       "  </thead>\n",
       "  <tbody>\n",
       "    <tr>\n",
       "      <th>count</th>\n",
       "      <td>303.000000</td>\n",
       "      <td>303.000000</td>\n",
       "      <td>303.000000</td>\n",
       "      <td>303.000000</td>\n",
       "      <td>303.000000</td>\n",
       "      <td>303.000000</td>\n",
       "      <td>303.000000</td>\n",
       "      <td>303.000000</td>\n",
       "      <td>303.000000</td>\n",
       "      <td>303.000000</td>\n",
       "      <td>303.000000</td>\n",
       "      <td>303.000000</td>\n",
       "      <td>303.000000</td>\n",
       "      <td>303.000000</td>\n",
       "    </tr>\n",
       "    <tr>\n",
       "      <th>mean</th>\n",
       "      <td>54.366337</td>\n",
       "      <td>0.683168</td>\n",
       "      <td>0.966997</td>\n",
       "      <td>131.623762</td>\n",
       "      <td>246.264026</td>\n",
       "      <td>0.148515</td>\n",
       "      <td>0.514851</td>\n",
       "      <td>149.646865</td>\n",
       "      <td>0.326733</td>\n",
       "      <td>1.039604</td>\n",
       "      <td>1.399340</td>\n",
       "      <td>0.663366</td>\n",
       "      <td>2.326733</td>\n",
       "      <td>0.544554</td>\n",
       "    </tr>\n",
       "    <tr>\n",
       "      <th>std</th>\n",
       "      <td>9.082101</td>\n",
       "      <td>0.466011</td>\n",
       "      <td>1.032052</td>\n",
       "      <td>17.538143</td>\n",
       "      <td>51.830751</td>\n",
       "      <td>0.356198</td>\n",
       "      <td>0.500606</td>\n",
       "      <td>22.905161</td>\n",
       "      <td>0.469794</td>\n",
       "      <td>1.161075</td>\n",
       "      <td>0.616226</td>\n",
       "      <td>0.934375</td>\n",
       "      <td>0.583020</td>\n",
       "      <td>0.498835</td>\n",
       "    </tr>\n",
       "    <tr>\n",
       "      <th>min</th>\n",
       "      <td>29.000000</td>\n",
       "      <td>0.000000</td>\n",
       "      <td>0.000000</td>\n",
       "      <td>94.000000</td>\n",
       "      <td>126.000000</td>\n",
       "      <td>0.000000</td>\n",
       "      <td>0.000000</td>\n",
       "      <td>71.000000</td>\n",
       "      <td>0.000000</td>\n",
       "      <td>0.000000</td>\n",
       "      <td>0.000000</td>\n",
       "      <td>0.000000</td>\n",
       "      <td>1.000000</td>\n",
       "      <td>0.000000</td>\n",
       "    </tr>\n",
       "    <tr>\n",
       "      <th>25%</th>\n",
       "      <td>47.500000</td>\n",
       "      <td>0.000000</td>\n",
       "      <td>0.000000</td>\n",
       "      <td>120.000000</td>\n",
       "      <td>211.000000</td>\n",
       "      <td>0.000000</td>\n",
       "      <td>0.000000</td>\n",
       "      <td>133.500000</td>\n",
       "      <td>0.000000</td>\n",
       "      <td>0.000000</td>\n",
       "      <td>1.000000</td>\n",
       "      <td>0.000000</td>\n",
       "      <td>2.000000</td>\n",
       "      <td>0.000000</td>\n",
       "    </tr>\n",
       "    <tr>\n",
       "      <th>50%</th>\n",
       "      <td>55.000000</td>\n",
       "      <td>1.000000</td>\n",
       "      <td>1.000000</td>\n",
       "      <td>130.000000</td>\n",
       "      <td>240.000000</td>\n",
       "      <td>0.000000</td>\n",
       "      <td>1.000000</td>\n",
       "      <td>153.000000</td>\n",
       "      <td>0.000000</td>\n",
       "      <td>0.800000</td>\n",
       "      <td>1.000000</td>\n",
       "      <td>0.000000</td>\n",
       "      <td>2.000000</td>\n",
       "      <td>1.000000</td>\n",
       "    </tr>\n",
       "    <tr>\n",
       "      <th>75%</th>\n",
       "      <td>61.000000</td>\n",
       "      <td>1.000000</td>\n",
       "      <td>2.000000</td>\n",
       "      <td>140.000000</td>\n",
       "      <td>274.500000</td>\n",
       "      <td>0.000000</td>\n",
       "      <td>1.000000</td>\n",
       "      <td>166.000000</td>\n",
       "      <td>1.000000</td>\n",
       "      <td>1.600000</td>\n",
       "      <td>2.000000</td>\n",
       "      <td>1.000000</td>\n",
       "      <td>3.000000</td>\n",
       "      <td>1.000000</td>\n",
       "    </tr>\n",
       "    <tr>\n",
       "      <th>max</th>\n",
       "      <td>77.000000</td>\n",
       "      <td>1.000000</td>\n",
       "      <td>3.000000</td>\n",
       "      <td>200.000000</td>\n",
       "      <td>564.000000</td>\n",
       "      <td>1.000000</td>\n",
       "      <td>1.000000</td>\n",
       "      <td>202.000000</td>\n",
       "      <td>1.000000</td>\n",
       "      <td>6.200000</td>\n",
       "      <td>2.000000</td>\n",
       "      <td>3.000000</td>\n",
       "      <td>3.000000</td>\n",
       "      <td>1.000000</td>\n",
       "    </tr>\n",
       "  </tbody>\n",
       "</table>\n",
       "</div>"
      ],
      "text/plain": [
       "              age         sex          cp    trestbps        chol         fbs  \\\n",
       "count  303.000000  303.000000  303.000000  303.000000  303.000000  303.000000   \n",
       "mean    54.366337    0.683168    0.966997  131.623762  246.264026    0.148515   \n",
       "std      9.082101    0.466011    1.032052   17.538143   51.830751    0.356198   \n",
       "min     29.000000    0.000000    0.000000   94.000000  126.000000    0.000000   \n",
       "25%     47.500000    0.000000    0.000000  120.000000  211.000000    0.000000   \n",
       "50%     55.000000    1.000000    1.000000  130.000000  240.000000    0.000000   \n",
       "75%     61.000000    1.000000    2.000000  140.000000  274.500000    0.000000   \n",
       "max     77.000000    1.000000    3.000000  200.000000  564.000000    1.000000   \n",
       "\n",
       "          restecg     thalach       exang     oldpeak       slope          ca  \\\n",
       "count  303.000000  303.000000  303.000000  303.000000  303.000000  303.000000   \n",
       "mean     0.514851  149.646865    0.326733    1.039604    1.399340    0.663366   \n",
       "std      0.500606   22.905161    0.469794    1.161075    0.616226    0.934375   \n",
       "min      0.000000   71.000000    0.000000    0.000000    0.000000    0.000000   \n",
       "25%      0.000000  133.500000    0.000000    0.000000    1.000000    0.000000   \n",
       "50%      1.000000  153.000000    0.000000    0.800000    1.000000    0.000000   \n",
       "75%      1.000000  166.000000    1.000000    1.600000    2.000000    1.000000   \n",
       "max      1.000000  202.000000    1.000000    6.200000    2.000000    3.000000   \n",
       "\n",
       "             thal      target  \n",
       "count  303.000000  303.000000  \n",
       "mean     2.326733    0.544554  \n",
       "std      0.583020    0.498835  \n",
       "min      1.000000    0.000000  \n",
       "25%      2.000000    0.000000  \n",
       "50%      2.000000    1.000000  \n",
       "75%      3.000000    1.000000  \n",
       "max      3.000000    1.000000  "
      ]
     },
     "execution_count": 13,
     "metadata": {},
     "output_type": "execute_result"
    }
   ],
   "source": [
    "# Vizualização geral das colunas numéricas\n",
    "data.describe()"
   ]
  },
  {
   "cell_type": "code",
   "execution_count": 14,
   "metadata": {
    "colab": {
     "base_uri": "https://localhost:8080/",
     "height": 818
    },
    "id": "iTtoXgKk_eV2",
    "outputId": "ab81704a-fca3-46ad-8fa9-fd2e6b461088"
   },
   "outputs": [
    {
     "data": {
      "text/html": [
       "<span style='color: lightblue;'>Estatísticas de [trestbps]:</span>"
      ],
      "text/plain": [
       "<IPython.core.display.HTML object>"
      ]
     },
     "metadata": {},
     "output_type": "display_data"
    },
    {
     "name": "stdout",
     "output_type": "stream",
     "text": [
      "count    303.000000\n",
      "mean     131.623762\n",
      "std       17.538143\n",
      "min       94.000000\n",
      "25%      120.000000\n",
      "50%      130.000000\n",
      "75%      140.000000\n",
      "max      200.000000\n",
      "Name: trestbps, dtype: float64\n"
     ]
    },
    {
     "data": {
      "text/html": [
       "<span style='color: lightblue;'>Gráficos:</span>"
      ],
      "text/plain": [
       "<IPython.core.display.HTML object>"
      ]
     },
     "metadata": {},
     "output_type": "display_data"
    },
    {
     "data": {
      "application/vnd.plotly.v1+json": {
       "config": {
        "plotlyServerURL": "https://plot.ly"
       },
       "data": [
        {
         "alignmentgroup": "True",
         "hovertemplate": "Pressão em Repouso=%{y}<extra></extra>",
         "legendgroup": "",
         "marker": {
          "color": "#636efa"
         },
         "name": "",
         "notched": false,
         "offsetgroup": "",
         "orientation": "v",
         "showlegend": false,
         "type": "box",
         "x0": " ",
         "xaxis": "x",
         "y": {
          "bdata": "kQCCAIIAeAB4AIwAjAB4AKwAlgCMAIIAggBuAJYAeAB4AJYAlgCMAIcAggCMAJYAjACgAJYAbgCMAIIAaQB4AIIAfQB9AI4AhwCWAJsAoACMAIIAaACCAIwAeACMAIoAgACKAIIAeACCAGwAhwCGAHoAcwB2AIAAbgBsAHYAhwCMAIoAZACCAHgAfAB4AF4AggCMAHoAhwB9AIwAgABpAHAAgABmAJgAZgBzAHYAZQBuAGQAfACEAIoAhABwAI4AjABsAIIAggCUALIAjAB4AIEAeACgAIoAeABuALQAlgCMAG4AggB4AIIAeABpAIoAggCKAHAAbABeAHYAcACYAIgAeACgAIYAeABuAH4AggB4AIAAbgCAAHgAcwB4AGoAjACcAHYAlgB4AIIAoABwAKoAkgCKAIIAggB6AH0AggB4AIQAeACKAIoAoAB4AIwAggCMAIIAbgB4AIQAggBuAHUAjAB4AJYAhACWAIIAcACWAHAAggB8AIwAbgCCAIAAeACRAIwAqgCWAH0AeABuAG4AfQCWALQAoACAAG4AlgB4AIwAgAB4AHYAkQB9AIQAggCCAIcAggCWAIwAigDIAG4AkQB4AHgAqgB9AGwApQCgAHgAggCMAH0AjAB9AH4AoACuAJEAmACEAHwAhgCgAMAAjACMAIQAigBkAKAAjgCAAJAAlgB4ALIAcAB7AGwAbgBwALQAdgB6AIIAeACGAHgAZABuAH0AkgB8AIgAigCIAIAAfgCYAIwAjACGAJoAbgCAAJQAcgCqAJgAeACMAHwApACMAG4AkACCAIIA",
          "dtype": "i2"
         },
         "y0": " ",
         "yaxis": "y"
        },
        {
         "bingroup": "x",
         "hovertemplate": "Pressão em Repouso=%{x}<br>count=%{y}<extra></extra>",
         "legendgroup": "",
         "marker": {
          "color": "#636efa",
          "pattern": {
           "shape": ""
          }
         },
         "name": "",
         "nbinsx": 20,
         "orientation": "v",
         "showlegend": false,
         "type": "histogram",
         "x": {
          "bdata": "kQCCAIIAeAB4AIwAjAB4AKwAlgCMAIIAggBuAJYAeAB4AJYAlgCMAIcAggCMAJYAjACgAJYAbgCMAIIAaQB4AIIAfQB9AI4AhwCWAJsAoACMAIIAaACCAIwAeACMAIoAgACKAIIAeACCAGwAhwCGAHoAcwB2AIAAbgBsAHYAhwCMAIoAZACCAHgAfAB4AF4AggCMAHoAhwB9AIwAgABpAHAAgABmAJgAZgBzAHYAZQBuAGQAfACEAIoAhABwAI4AjABsAIIAggCUALIAjAB4AIEAeACgAIoAeABuALQAlgCMAG4AggB4AIIAeABpAIoAggCKAHAAbABeAHYAcACYAIgAeACgAIYAeABuAH4AggB4AIAAbgCAAHgAcwB4AGoAjACcAHYAlgB4AIIAoABwAKoAkgCKAIIAggB6AH0AggB4AIQAeACKAIoAoAB4AIwAggCMAIIAbgB4AIQAggBuAHUAjAB4AJYAhACWAIIAcACWAHAAggB8AIwAbgCCAIAAeACRAIwAqgCWAH0AeABuAG4AfQCWALQAoACAAG4AlgB4AIwAgAB4AHYAkQB9AIQAggCCAIcAggCWAIwAigDIAG4AkQB4AHgAqgB9AGwApQCgAHgAggCMAH0AjAB9AH4AoACuAJEAmACEAHwAhgCgAMAAjACMAIQAigBkAKAAjgCAAJAAlgB4ALIAcAB7AGwAbgBwALQAdgB6AIIAeACGAHgAZABuAH0AkgB8AIgAigCIAIAAfgCYAIwAjACGAJoAbgCAAJQAcgCqAJgAeACMAHwApACMAG4AkACCAIIA",
          "dtype": "i2"
         },
         "xaxis": "x2",
         "yaxis": "y2"
        },
        {
         "hovertemplate": "Idade=%{x}<br>Pressão em Repouso=%{y}<extra></extra>",
         "legendgroup": "",
         "marker": {
          "color": "#636efa",
          "symbol": "circle"
         },
         "mode": "markers",
         "name": "",
         "orientation": "v",
         "showlegend": false,
         "type": "scatter",
         "x": {
          "bdata": "PyUpODk5OCw0OTYwMUA6MjpCK0U7LCo9KEc7M0E1KUEsNjMuNjZBQTMwLTUnNCwvNTUzQj4sPzQwLSI5RzY0KTojMy0sPjYzHTMrNzM7NDopLTw0KkNELjY6MDk0Ni01PjQrNSo7PyoyREUtMjJAOUArNyUpOC4uQDspNiciL0M0SjYxKikpMTw+OUAzKypDTEYsPCwqQkdAQic6LyM6ODg3KSYmQ0M+PzU4MDo6PCg8QCs5N0E9OjIsPDYyKTM6Njw8Oy5DPkEsPDpEPjQ7PDE7OT0nPTgrPj9BMD83QTg2Rj4jO0AvOTdARjM6PE0jRjtAOTgwOEI2RTMrPkM7LToyPiZCNDU/NkI3MTY4Lj1DOi80Ojk6PSo0Oyg9Ljs5OTc9OjpDLD8/OzktRDk5",
          "dtype": "i1"
         },
         "xaxis": "x3",
         "y": {
          "bdata": "kQCCAIIAeAB4AIwAjAB4AKwAlgCMAIIAggBuAJYAeAB4AJYAlgCMAIcAggCMAJYAjACgAJYAbgCMAIIAaQB4AIIAfQB9AI4AhwCWAJsAoACMAIIAaACCAIwAeACMAIoAgACKAIIAeACCAGwAhwCGAHoAcwB2AIAAbgBsAHYAhwCMAIoAZACCAHgAfAB4AF4AggCMAHoAhwB9AIwAgABpAHAAgABmAJgAZgBzAHYAZQBuAGQAfACEAIoAhABwAI4AjABsAIIAggCUALIAjAB4AIEAeACgAIoAeABuALQAlgCMAG4AggB4AIIAeABpAIoAggCKAHAAbABeAHYAcACYAIgAeACgAIYAeABuAH4AggB4AIAAbgCAAHgAcwB4AGoAjACcAHYAlgB4AIIAoABwAKoAkgCKAIIAggB6AH0AggB4AIQAeACKAIoAoAB4AIwAggCMAIIAbgB4AIQAggBuAHUAjAB4AJYAhACWAIIAcACWAHAAggB8AIwAbgCCAIAAeACRAIwAqgCWAH0AeABuAG4AfQCWALQAoACAAG4AlgB4AIwAgAB4AHYAkQB9AIQAggCCAIcAggCWAIwAigDIAG4AkQB4AHgAqgB9AGwApQCgAHgAggCMAH0AjAB9AH4AoACuAJEAmACEAHwAhgCgAMAAjACMAIQAigBkAKAAjgCAAJAAlgB4ALIAcAB7AGwAbgBwALQAdgB6AIIAeACGAHgAZABuAH0AkgB8AIgAigCIAIAAfgCYAIwAjACGAJoAbgCAAJQAcgCqAJgAeACMAHwApACMAG4AkACCAIIA",
          "dtype": "i2"
         },
         "yaxis": "y3"
        }
       ],
       "layout": {
        "annotations": [
         {
          "font": {
           "size": 16
          },
          "showarrow": false,
          "text": "Boxplot",
          "x": 0.14444444444444446,
          "xanchor": "center",
          "xref": "paper",
          "y": 1,
          "yanchor": "bottom",
          "yref": "paper"
         },
         {
          "font": {
           "size": 16
          },
          "showarrow": false,
          "text": "Histograma",
          "x": 0.5,
          "xanchor": "center",
          "xref": "paper",
          "y": 1,
          "yanchor": "bottom",
          "yref": "paper"
         },
         {
          "font": {
           "size": 16
          },
          "showarrow": false,
          "text": "Scatter Plot",
          "x": 0.8555555555555556,
          "xanchor": "center",
          "xref": "paper",
          "y": 1,
          "yanchor": "bottom",
          "yref": "paper"
         }
        ],
        "font": {
         "color": "white",
         "family": "Arial",
         "size": 12
        },
        "height": 600,
        "margin": {
         "b": 40,
         "l": 40,
         "r": 40,
         "t": 80
        },
        "paper_bgcolor": "rgba(0,0,0,0.3)",
        "plot_bgcolor": "rgba(0,0,0,0)",
        "showlegend": false,
        "template": {
         "data": {
          "bar": [
           {
            "error_x": {
             "color": "#2a3f5f"
            },
            "error_y": {
             "color": "#2a3f5f"
            },
            "marker": {
             "line": {
              "color": "#E5ECF6",
              "width": 0.5
             },
             "pattern": {
              "fillmode": "overlay",
              "size": 10,
              "solidity": 0.2
             }
            },
            "type": "bar"
           }
          ],
          "barpolar": [
           {
            "marker": {
             "line": {
              "color": "#E5ECF6",
              "width": 0.5
             },
             "pattern": {
              "fillmode": "overlay",
              "size": 10,
              "solidity": 0.2
             }
            },
            "type": "barpolar"
           }
          ],
          "carpet": [
           {
            "aaxis": {
             "endlinecolor": "#2a3f5f",
             "gridcolor": "white",
             "linecolor": "white",
             "minorgridcolor": "white",
             "startlinecolor": "#2a3f5f"
            },
            "baxis": {
             "endlinecolor": "#2a3f5f",
             "gridcolor": "white",
             "linecolor": "white",
             "minorgridcolor": "white",
             "startlinecolor": "#2a3f5f"
            },
            "type": "carpet"
           }
          ],
          "choropleth": [
           {
            "colorbar": {
             "outlinewidth": 0,
             "ticks": ""
            },
            "type": "choropleth"
           }
          ],
          "contour": [
           {
            "colorbar": {
             "outlinewidth": 0,
             "ticks": ""
            },
            "colorscale": [
             [
              0,
              "#0d0887"
             ],
             [
              0.1111111111111111,
              "#46039f"
             ],
             [
              0.2222222222222222,
              "#7201a8"
             ],
             [
              0.3333333333333333,
              "#9c179e"
             ],
             [
              0.4444444444444444,
              "#bd3786"
             ],
             [
              0.5555555555555556,
              "#d8576b"
             ],
             [
              0.6666666666666666,
              "#ed7953"
             ],
             [
              0.7777777777777778,
              "#fb9f3a"
             ],
             [
              0.8888888888888888,
              "#fdca26"
             ],
             [
              1,
              "#f0f921"
             ]
            ],
            "type": "contour"
           }
          ],
          "contourcarpet": [
           {
            "colorbar": {
             "outlinewidth": 0,
             "ticks": ""
            },
            "type": "contourcarpet"
           }
          ],
          "heatmap": [
           {
            "colorbar": {
             "outlinewidth": 0,
             "ticks": ""
            },
            "colorscale": [
             [
              0,
              "#0d0887"
             ],
             [
              0.1111111111111111,
              "#46039f"
             ],
             [
              0.2222222222222222,
              "#7201a8"
             ],
             [
              0.3333333333333333,
              "#9c179e"
             ],
             [
              0.4444444444444444,
              "#bd3786"
             ],
             [
              0.5555555555555556,
              "#d8576b"
             ],
             [
              0.6666666666666666,
              "#ed7953"
             ],
             [
              0.7777777777777778,
              "#fb9f3a"
             ],
             [
              0.8888888888888888,
              "#fdca26"
             ],
             [
              1,
              "#f0f921"
             ]
            ],
            "type": "heatmap"
           }
          ],
          "histogram": [
           {
            "marker": {
             "pattern": {
              "fillmode": "overlay",
              "size": 10,
              "solidity": 0.2
             }
            },
            "type": "histogram"
           }
          ],
          "histogram2d": [
           {
            "colorbar": {
             "outlinewidth": 0,
             "ticks": ""
            },
            "colorscale": [
             [
              0,
              "#0d0887"
             ],
             [
              0.1111111111111111,
              "#46039f"
             ],
             [
              0.2222222222222222,
              "#7201a8"
             ],
             [
              0.3333333333333333,
              "#9c179e"
             ],
             [
              0.4444444444444444,
              "#bd3786"
             ],
             [
              0.5555555555555556,
              "#d8576b"
             ],
             [
              0.6666666666666666,
              "#ed7953"
             ],
             [
              0.7777777777777778,
              "#fb9f3a"
             ],
             [
              0.8888888888888888,
              "#fdca26"
             ],
             [
              1,
              "#f0f921"
             ]
            ],
            "type": "histogram2d"
           }
          ],
          "histogram2dcontour": [
           {
            "colorbar": {
             "outlinewidth": 0,
             "ticks": ""
            },
            "colorscale": [
             [
              0,
              "#0d0887"
             ],
             [
              0.1111111111111111,
              "#46039f"
             ],
             [
              0.2222222222222222,
              "#7201a8"
             ],
             [
              0.3333333333333333,
              "#9c179e"
             ],
             [
              0.4444444444444444,
              "#bd3786"
             ],
             [
              0.5555555555555556,
              "#d8576b"
             ],
             [
              0.6666666666666666,
              "#ed7953"
             ],
             [
              0.7777777777777778,
              "#fb9f3a"
             ],
             [
              0.8888888888888888,
              "#fdca26"
             ],
             [
              1,
              "#f0f921"
             ]
            ],
            "type": "histogram2dcontour"
           }
          ],
          "mesh3d": [
           {
            "colorbar": {
             "outlinewidth": 0,
             "ticks": ""
            },
            "type": "mesh3d"
           }
          ],
          "parcoords": [
           {
            "line": {
             "colorbar": {
              "outlinewidth": 0,
              "ticks": ""
             }
            },
            "type": "parcoords"
           }
          ],
          "pie": [
           {
            "automargin": true,
            "type": "pie"
           }
          ],
          "scatter": [
           {
            "fillpattern": {
             "fillmode": "overlay",
             "size": 10,
             "solidity": 0.2
            },
            "type": "scatter"
           }
          ],
          "scatter3d": [
           {
            "line": {
             "colorbar": {
              "outlinewidth": 0,
              "ticks": ""
             }
            },
            "marker": {
             "colorbar": {
              "outlinewidth": 0,
              "ticks": ""
             }
            },
            "type": "scatter3d"
           }
          ],
          "scattercarpet": [
           {
            "marker": {
             "colorbar": {
              "outlinewidth": 0,
              "ticks": ""
             }
            },
            "type": "scattercarpet"
           }
          ],
          "scattergeo": [
           {
            "marker": {
             "colorbar": {
              "outlinewidth": 0,
              "ticks": ""
             }
            },
            "type": "scattergeo"
           }
          ],
          "scattergl": [
           {
            "marker": {
             "colorbar": {
              "outlinewidth": 0,
              "ticks": ""
             }
            },
            "type": "scattergl"
           }
          ],
          "scattermap": [
           {
            "marker": {
             "colorbar": {
              "outlinewidth": 0,
              "ticks": ""
             }
            },
            "type": "scattermap"
           }
          ],
          "scattermapbox": [
           {
            "marker": {
             "colorbar": {
              "outlinewidth": 0,
              "ticks": ""
             }
            },
            "type": "scattermapbox"
           }
          ],
          "scatterpolar": [
           {
            "marker": {
             "colorbar": {
              "outlinewidth": 0,
              "ticks": ""
             }
            },
            "type": "scatterpolar"
           }
          ],
          "scatterpolargl": [
           {
            "marker": {
             "colorbar": {
              "outlinewidth": 0,
              "ticks": ""
             }
            },
            "type": "scatterpolargl"
           }
          ],
          "scatterternary": [
           {
            "marker": {
             "colorbar": {
              "outlinewidth": 0,
              "ticks": ""
             }
            },
            "type": "scatterternary"
           }
          ],
          "surface": [
           {
            "colorbar": {
             "outlinewidth": 0,
             "ticks": ""
            },
            "colorscale": [
             [
              0,
              "#0d0887"
             ],
             [
              0.1111111111111111,
              "#46039f"
             ],
             [
              0.2222222222222222,
              "#7201a8"
             ],
             [
              0.3333333333333333,
              "#9c179e"
             ],
             [
              0.4444444444444444,
              "#bd3786"
             ],
             [
              0.5555555555555556,
              "#d8576b"
             ],
             [
              0.6666666666666666,
              "#ed7953"
             ],
             [
              0.7777777777777778,
              "#fb9f3a"
             ],
             [
              0.8888888888888888,
              "#fdca26"
             ],
             [
              1,
              "#f0f921"
             ]
            ],
            "type": "surface"
           }
          ],
          "table": [
           {
            "cells": {
             "fill": {
              "color": "#EBF0F8"
             },
             "line": {
              "color": "white"
             }
            },
            "header": {
             "fill": {
              "color": "#C8D4E3"
             },
             "line": {
              "color": "white"
             }
            },
            "type": "table"
           }
          ]
         },
         "layout": {
          "annotationdefaults": {
           "arrowcolor": "#2a3f5f",
           "arrowhead": 0,
           "arrowwidth": 1
          },
          "autotypenumbers": "strict",
          "coloraxis": {
           "colorbar": {
            "outlinewidth": 0,
            "ticks": ""
           }
          },
          "colorscale": {
           "diverging": [
            [
             0,
             "#8e0152"
            ],
            [
             0.1,
             "#c51b7d"
            ],
            [
             0.2,
             "#de77ae"
            ],
            [
             0.3,
             "#f1b6da"
            ],
            [
             0.4,
             "#fde0ef"
            ],
            [
             0.5,
             "#f7f7f7"
            ],
            [
             0.6,
             "#e6f5d0"
            ],
            [
             0.7,
             "#b8e186"
            ],
            [
             0.8,
             "#7fbc41"
            ],
            [
             0.9,
             "#4d9221"
            ],
            [
             1,
             "#276419"
            ]
           ],
           "sequential": [
            [
             0,
             "#0d0887"
            ],
            [
             0.1111111111111111,
             "#46039f"
            ],
            [
             0.2222222222222222,
             "#7201a8"
            ],
            [
             0.3333333333333333,
             "#9c179e"
            ],
            [
             0.4444444444444444,
             "#bd3786"
            ],
            [
             0.5555555555555556,
             "#d8576b"
            ],
            [
             0.6666666666666666,
             "#ed7953"
            ],
            [
             0.7777777777777778,
             "#fb9f3a"
            ],
            [
             0.8888888888888888,
             "#fdca26"
            ],
            [
             1,
             "#f0f921"
            ]
           ],
           "sequentialminus": [
            [
             0,
             "#0d0887"
            ],
            [
             0.1111111111111111,
             "#46039f"
            ],
            [
             0.2222222222222222,
             "#7201a8"
            ],
            [
             0.3333333333333333,
             "#9c179e"
            ],
            [
             0.4444444444444444,
             "#bd3786"
            ],
            [
             0.5555555555555556,
             "#d8576b"
            ],
            [
             0.6666666666666666,
             "#ed7953"
            ],
            [
             0.7777777777777778,
             "#fb9f3a"
            ],
            [
             0.8888888888888888,
             "#fdca26"
            ],
            [
             1,
             "#f0f921"
            ]
           ]
          },
          "colorway": [
           "#636efa",
           "#EF553B",
           "#00cc96",
           "#ab63fa",
           "#FFA15A",
           "#19d3f3",
           "#FF6692",
           "#B6E880",
           "#FF97FF",
           "#FECB52"
          ],
          "font": {
           "color": "#2a3f5f"
          },
          "geo": {
           "bgcolor": "white",
           "lakecolor": "white",
           "landcolor": "#E5ECF6",
           "showlakes": true,
           "showland": true,
           "subunitcolor": "white"
          },
          "hoverlabel": {
           "align": "left"
          },
          "hovermode": "closest",
          "mapbox": {
           "style": "light"
          },
          "paper_bgcolor": "white",
          "plot_bgcolor": "#E5ECF6",
          "polar": {
           "angularaxis": {
            "gridcolor": "white",
            "linecolor": "white",
            "ticks": ""
           },
           "bgcolor": "#E5ECF6",
           "radialaxis": {
            "gridcolor": "white",
            "linecolor": "white",
            "ticks": ""
           }
          },
          "scene": {
           "xaxis": {
            "backgroundcolor": "#E5ECF6",
            "gridcolor": "white",
            "gridwidth": 2,
            "linecolor": "white",
            "showbackground": true,
            "ticks": "",
            "zerolinecolor": "white"
           },
           "yaxis": {
            "backgroundcolor": "#E5ECF6",
            "gridcolor": "white",
            "gridwidth": 2,
            "linecolor": "white",
            "showbackground": true,
            "ticks": "",
            "zerolinecolor": "white"
           },
           "zaxis": {
            "backgroundcolor": "#E5ECF6",
            "gridcolor": "white",
            "gridwidth": 2,
            "linecolor": "white",
            "showbackground": true,
            "ticks": "",
            "zerolinecolor": "white"
           }
          },
          "shapedefaults": {
           "line": {
            "color": "#2a3f5f"
           }
          },
          "ternary": {
           "aaxis": {
            "gridcolor": "white",
            "linecolor": "white",
            "ticks": ""
           },
           "baxis": {
            "gridcolor": "white",
            "linecolor": "white",
            "ticks": ""
           },
           "bgcolor": "#E5ECF6",
           "caxis": {
            "gridcolor": "white",
            "linecolor": "white",
            "ticks": ""
           }
          },
          "title": {
           "x": 0.05
          },
          "xaxis": {
           "automargin": true,
           "gridcolor": "white",
           "linecolor": "white",
           "ticks": "",
           "title": {
            "standoff": 15
           },
           "zerolinecolor": "white",
           "zerolinewidth": 2
          },
          "yaxis": {
           "automargin": true,
           "gridcolor": "white",
           "linecolor": "white",
           "ticks": "",
           "title": {
            "standoff": 15
           },
           "zerolinecolor": "white",
           "zerolinewidth": 2
          }
         }
        },
        "title": {
         "font": {
          "color": "white",
          "size": 20
         },
         "text": "Boxplot, Histograma e Scatter Plot de Trestbps",
         "x": 0.5,
         "xanchor": "center",
         "y": 0.95
        },
        "width": 1200,
        "xaxis": {
         "anchor": "y",
         "domain": [
          0,
          0.2888888888888889
         ],
         "showgrid": false
        },
        "xaxis2": {
         "anchor": "y2",
         "domain": [
          0.35555555555555557,
          0.6444444444444445
         ],
         "showgrid": false
        },
        "xaxis3": {
         "anchor": "y3",
         "domain": [
          0.7111111111111111,
          1
         ],
         "showgrid": false
        },
        "yaxis": {
         "anchor": "x",
         "domain": [
          0,
          1
         ],
         "showgrid": false
        },
        "yaxis2": {
         "anchor": "x2",
         "domain": [
          0,
          1
         ],
         "showgrid": false
        },
        "yaxis3": {
         "anchor": "x3",
         "domain": [
          0,
          1
         ],
         "showgrid": false
        }
       }
      }
     },
     "metadata": {},
     "output_type": "display_data"
    }
   ],
   "source": [
    "# Coluna trestbps\n",
    "\n",
    "# Exibe as estatísticas de 'trestbps' no console\n",
    "desc_trestbps = data[\"trestbps\"].describe()\n",
    "display(HTML(\"<span style='color: lightblue;'>Estatísticas de [trestbps]:</span>\"))\n",
    "print(desc_trestbps)\n",
    "display(HTML(\"<span style='color: lightblue;'>Gráficos:</span>\"))\n",
    "# Cria uma figura com 3 subplots (1 linha, 3 colunas)\n",
    "fig = make_subplots(\n",
    "    rows=1,\n",
    "    cols=3,\n",
    "    subplot_titles=[\"Boxplot\", \"Histograma\", \"Scatter Plot\"]\n",
    ")\n",
    "\n",
    "# ========== 1) BOXPLOT ==========\n",
    "box_fig = px.box(\n",
    "    data,\n",
    "    y=\"trestbps\",\n",
    "    template=\"plotly_dark\",\n",
    "    labels={\"trestbps\": \"Pressão em Repouso\"}\n",
    ")\n",
    "# Adiciona o boxplot ao subplot (coluna 1)\n",
    "for trace in box_fig.data:\n",
    "    fig.add_trace(trace, row=1, col=1)\n",
    "\n",
    "# ========== 2) HISTOGRAMA ==========\n",
    "hist_fig = px.histogram(\n",
    "    data,\n",
    "    x=\"trestbps\",\n",
    "    nbins=20,  # Ajuste o número de bins conforme desejar\n",
    "    template=\"plotly_dark\",\n",
    "    labels={\"trestbps\": \"Pressão em Repouso\"}\n",
    ")\n",
    "# Adiciona o histograma ao subplot (coluna 2)\n",
    "for trace in hist_fig.data:\n",
    "    fig.add_trace(trace, row=1, col=2)\n",
    "\n",
    "# ========== 3) SCATTER PLOT ==========\n",
    "# Exemplo de scatter plot relacionando 'trestbps' com 'age'\n",
    "# Ajuste para outra coluna caso deseje analisar outra correlação\n",
    "scatter_fig = px.scatter(\n",
    "    data,\n",
    "    x=\"age\",\n",
    "    y=\"trestbps\",\n",
    "    template=\"plotly_dark\",\n",
    "    labels={\"age\": \"Idade\", \"trestbps\": \"Pressão em Repouso\"}\n",
    ")\n",
    "# Adiciona o scatter plot ao subplot (coluna 3)\n",
    "for trace in scatter_fig.data:\n",
    "    fig.add_trace(trace, row=1, col=3)\n",
    "\n",
    "# Ajustes de layout gerais\n",
    "fig.update_layout(\n",
    "    title={\n",
    "        \"text\": \"Boxplot, Histograma e Scatter Plot de Trestbps\",\n",
    "        \"y\": 0.95,\n",
    "        \"x\": 0.5,\n",
    "        \"xanchor\": \"center\",\n",
    "        \"font\": {\"size\": 20, \"color\": \"white\"}\n",
    "    },\n",
    "    showlegend=False,\n",
    "    width=1200,\n",
    "    height=600,\n",
    "    margin=dict(t=80, b=40, l=40, r=40),\n",
    "    paper_bgcolor=\"rgba(0,0,0,0.3)\",\n",
    "    plot_bgcolor=\"rgba(0,0,0,0)\",\n",
    "    font=dict(family=\"Arial\", size=12, color=\"white\")\n",
    ")\n",
    "\n",
    "# Ajustes específicos nos eixos de cada subplot\n",
    "# (opcional: remover grids, ajustar ângulos, etc.)\n",
    "fig.update_xaxes(showgrid=False)\n",
    "fig.update_yaxes(showgrid=False)\n",
    "\n",
    "# Exibe o gráfico\n",
    "fig.show()\n"
   ]
  },
  {
   "cell_type": "markdown",
   "metadata": {
    "id": "ismalZ4rC6Ax"
   },
   "source": [
    "### **Conclusão**\n",
    "\n",
    "Após a análise da coluna **trestbps** (pressão arterial em repouso), podemos concluir que:\n",
    "\n",
    "- **Nenhum dado discrepante foi encontrado**: Não há outliers alarmantes que precisem ser removidos, considerando que, no contexto, existem pessoas com pressão arterial de até **200**. Caso houvesse um outlier extremamente discrepante, seria necessário realizar um tratamento, como substituir o valor pela **média**, **mediana** ou até mesmo removê-lo."
   ]
  },
  {
   "cell_type": "code",
   "execution_count": 15,
   "metadata": {
    "colab": {
     "base_uri": "https://localhost:8080/",
     "height": 818
    },
    "id": "U5pWT-oEEnuP",
    "outputId": "23d3363d-c486-4ad7-bde6-212d879b3c35"
   },
   "outputs": [
    {
     "data": {
      "text/html": [
       "<span style='color: lightblue;'>Estatísticas de [chol]:</span>"
      ],
      "text/plain": [
       "<IPython.core.display.HTML object>"
      ]
     },
     "metadata": {},
     "output_type": "display_data"
    },
    {
     "name": "stdout",
     "output_type": "stream",
     "text": [
      "count    303.000000\n",
      "mean     246.264026\n",
      "std       51.830751\n",
      "min      126.000000\n",
      "25%      211.000000\n",
      "50%      240.000000\n",
      "75%      274.500000\n",
      "max      564.000000\n",
      "Name: chol, dtype: float64\n"
     ]
    },
    {
     "data": {
      "text/html": [
       "<span style='color: lightblue;'>Gráficos:</span>"
      ],
      "text/plain": [
       "<IPython.core.display.HTML object>"
      ]
     },
     "metadata": {},
     "output_type": "display_data"
    },
    {
     "data": {
      "application/vnd.plotly.v1+json": {
       "config": {
        "plotlyServerURL": "https://plot.ly"
       },
       "data": [
        {
         "alignmentgroup": "True",
         "hovertemplate": "Colesterol=%{y}<extra></extra>",
         "legendgroup": "",
         "marker": {
          "color": "#636efa"
         },
         "name": "",
         "notched": false,
         "offsetgroup": "",
         "orientation": "v",
         "showlegend": false,
         "type": "box",
         "x0": " ",
         "xaxis": "x",
         "y": {
          "bdata": "6QD6AMwA7ABiAcAAJgEHAccAqADvABMBCgHTABsB2wBUAeIA9wDvAOoA6QDiAPMAxwAuAdQArwChAcUAxgCxANsAEQHVALEAMAHoAA0BaAE0AfUA0AAIAUEBRQHrAAEB2ADqAAABLgHnAI0A/ADJAN4ABAG2AC8BCQE1AboAywDTALcA3gDqANwA0QACAeMAzAAFAdUA+gD1AN0AzQDwAPoANAE+ASoBCQE0AhUBxQDWAPgA/wDPAN8AIAGgAOIAigHpADsB9gD0AA4BwwDwAMQA0wDqAOwA9AD+AEUBfgA5AdMABgHXANYAwQDMAPMALwEPAQwBCwHHANIAzAAVAcQADQHJAA8BJwHrADIBDQGyANAAyQAHAScBLwHRAN8AxQD1APIA8ADiALQA5ACVAOMAFgHcAMUA/QDAANwA3QDwAFYBnQCvAK8AHgHlAAwB/gDLAAAB5QAcAeAAzgCnAOYATwGxABQBYQHhAEoB5gDzACIB/QAKAekArAAxAdgAvAAaAbkARgHnAP4ACwH4AMUAAgEOARIBpAD/AO8AAgG8ALEA5QAEAdsAMwH5AFUBBwFKAf4AAAGXAdkAGgEgAe8ArgAZAcYAIAE1AfMAIQEhAfYAQgErASwBJQEwARoBDQH5ANQAEgG4ABIBmQH2ABsB/gAqAfcAJgErAREBNQEDAcgA9ADnAOQA5gAaAQ0BzgDUAEcBlQAeARsB+QDqAO0A6gATAdQA2gAFAT8BpgA7AcwA2gDfAM8ANwHMAOgATwHNAMsAPgHhANQAqQC7AMUAsADxAAgBwQCDAOwA",
          "dtype": "i2"
         },
         "y0": " ",
         "yaxis": "y"
        },
        {
         "bingroup": "x",
         "hovertemplate": "Colesterol=%{x}<br>count=%{y}<extra></extra>",
         "legendgroup": "",
         "marker": {
          "color": "#636efa",
          "pattern": {
           "shape": ""
          }
         },
         "name": "",
         "nbinsx": 20,
         "orientation": "v",
         "showlegend": false,
         "type": "histogram",
         "x": {
          "bdata": "6QD6AMwA7ABiAcAAJgEHAccAqADvABMBCgHTABsB2wBUAeIA9wDvAOoA6QDiAPMAxwAuAdQArwChAcUAxgCxANsAEQHVALEAMAHoAA0BaAE0AfUA0AAIAUEBRQHrAAEB2ADqAAABLgHnAI0A/ADJAN4ABAG2AC8BCQE1AboAywDTALcA3gDqANwA0QACAeMAzAAFAdUA+gD1AN0AzQDwAPoANAE+ASoBCQE0AhUBxQDWAPgA/wDPAN8AIAGgAOIAigHpADsB9gD0AA4BwwDwAMQA0wDqAOwA9AD+AEUBfgA5AdMABgHXANYAwQDMAPMALwEPAQwBCwHHANIAzAAVAcQADQHJAA8BJwHrADIBDQGyANAAyQAHAScBLwHRAN8AxQD1APIA8ADiALQA5ACVAOMAFgHcAMUA/QDAANwA3QDwAFYBnQCvAK8AHgHlAAwB/gDLAAAB5QAcAeAAzgCnAOYATwGxABQBYQHhAEoB5gDzACIB/QAKAekArAAxAdgAvAAaAbkARgHnAP4ACwH4AMUAAgEOARIBpAD/AO8AAgG8ALEA5QAEAdsAMwH5AFUBBwFKAf4AAAGXAdkAGgEgAe8ArgAZAcYAIAE1AfMAIQEhAfYAQgErASwBJQEwARoBDQH5ANQAEgG4ABIBmQH2ABsB/gAqAfcAJgErAREBNQEDAcgA9ADnAOQA5gAaAQ0BzgDUAEcBlQAeARsB+QDqAO0A6gATAdQA2gAFAT8BpgA7AcwA2gDfAM8ANwHMAOgATwHNAMsAPgHhANQAqQC7AMUAsADxAAgBwQCDAOwA",
          "dtype": "i2"
         },
         "xaxis": "x2",
         "yaxis": "y2"
        },
        {
         "hovertemplate": "Idade=%{x}<br>Colesterol=%{y}<extra></extra>",
         "legendgroup": "",
         "marker": {
          "color": "#636efa",
          "symbol": "circle"
         },
         "mode": "markers",
         "name": "",
         "orientation": "v",
         "showlegend": false,
         "type": "scatter",
         "x": {
          "bdata": "PyUpODk5OCw0OTYwMUA6MjpCK0U7LCo9KEc7M0E1KUEsNjMuNjZBQTMwLTUnNCwvNTUzQj4sPzQwLSI5RzY0KTojMy0sPjYzHTMrNzM7NDopLTw0KkNELjY6MDk0Ni01PjQrNSo7PyoyREUtMjJAOUArNyUpOC4uQDspNiciL0M0SjYxKikpMTw+OUAzKypDTEYsPCwqQkdAQic6LyM6ODg3KSYmQ0M+PzU4MDo6PCg8QCs5N0E9OjIsPDYyKTM6Njw8Oy5DPkEsPDpEPjQ7PDE7OT0nPTgrPj9BMD83QTg2Rj4jO0AvOTdARjM6PE0jRjtAOTgwOEI2RTMrPkM7LToyPiZCNDU/NkI3MTY4Lj1DOi80Ojk6PSo0Oyg9Ljs5OTc9OjpDLD8/OzktRDk5",
          "dtype": "i1"
         },
         "xaxis": "x3",
         "y": {
          "bdata": "6QD6AMwA7ABiAcAAJgEHAccAqADvABMBCgHTABsB2wBUAeIA9wDvAOoA6QDiAPMAxwAuAdQArwChAcUAxgCxANsAEQHVALEAMAHoAA0BaAE0AfUA0AAIAUEBRQHrAAEB2ADqAAABLgHnAI0A/ADJAN4ABAG2AC8BCQE1AboAywDTALcA3gDqANwA0QACAeMAzAAFAdUA+gD1AN0AzQDwAPoANAE+ASoBCQE0AhUBxQDWAPgA/wDPAN8AIAGgAOIAigHpADsB9gD0AA4BwwDwAMQA0wDqAOwA9AD+AEUBfgA5AdMABgHXANYAwQDMAPMALwEPAQwBCwHHANIAzAAVAcQADQHJAA8BJwHrADIBDQGyANAAyQAHAScBLwHRAN8AxQD1APIA8ADiALQA5ACVAOMAFgHcAMUA/QDAANwA3QDwAFYBnQCvAK8AHgHlAAwB/gDLAAAB5QAcAeAAzgCnAOYATwGxABQBYQHhAEoB5gDzACIB/QAKAekArAAxAdgAvAAaAbkARgHnAP4ACwH4AMUAAgEOARIBpAD/AO8AAgG8ALEA5QAEAdsAMwH5AFUBBwFKAf4AAAGXAdkAGgEgAe8ArgAZAcYAIAE1AfMAIQEhAfYAQgErASwBJQEwARoBDQH5ANQAEgG4ABIBmQH2ABsB/gAqAfcAJgErAREBNQEDAcgA9ADnAOQA5gAaAQ0BzgDUAEcBlQAeARsB+QDqAO0A6gATAdQA2gAFAT8BpgA7AcwA2gDfAM8ANwHMAOgATwHNAMsAPgHhANQAqQC7AMUAsADxAAgBwQCDAOwA",
          "dtype": "i2"
         },
         "yaxis": "y3"
        }
       ],
       "layout": {
        "annotations": [
         {
          "font": {
           "size": 16
          },
          "showarrow": false,
          "text": "Boxplot",
          "x": 0.14444444444444446,
          "xanchor": "center",
          "xref": "paper",
          "y": 1,
          "yanchor": "bottom",
          "yref": "paper"
         },
         {
          "font": {
           "size": 16
          },
          "showarrow": false,
          "text": "Histograma",
          "x": 0.5,
          "xanchor": "center",
          "xref": "paper",
          "y": 1,
          "yanchor": "bottom",
          "yref": "paper"
         },
         {
          "font": {
           "size": 16
          },
          "showarrow": false,
          "text": "Scatter Plot",
          "x": 0.8555555555555556,
          "xanchor": "center",
          "xref": "paper",
          "y": 1,
          "yanchor": "bottom",
          "yref": "paper"
         }
        ],
        "font": {
         "color": "white",
         "family": "Arial",
         "size": 12
        },
        "height": 600,
        "margin": {
         "b": 40,
         "l": 40,
         "r": 40,
         "t": 80
        },
        "paper_bgcolor": "rgba(0,0,0,0.3)",
        "plot_bgcolor": "rgba(0,0,0,0)",
        "showlegend": false,
        "template": {
         "data": {
          "bar": [
           {
            "error_x": {
             "color": "#2a3f5f"
            },
            "error_y": {
             "color": "#2a3f5f"
            },
            "marker": {
             "line": {
              "color": "#E5ECF6",
              "width": 0.5
             },
             "pattern": {
              "fillmode": "overlay",
              "size": 10,
              "solidity": 0.2
             }
            },
            "type": "bar"
           }
          ],
          "barpolar": [
           {
            "marker": {
             "line": {
              "color": "#E5ECF6",
              "width": 0.5
             },
             "pattern": {
              "fillmode": "overlay",
              "size": 10,
              "solidity": 0.2
             }
            },
            "type": "barpolar"
           }
          ],
          "carpet": [
           {
            "aaxis": {
             "endlinecolor": "#2a3f5f",
             "gridcolor": "white",
             "linecolor": "white",
             "minorgridcolor": "white",
             "startlinecolor": "#2a3f5f"
            },
            "baxis": {
             "endlinecolor": "#2a3f5f",
             "gridcolor": "white",
             "linecolor": "white",
             "minorgridcolor": "white",
             "startlinecolor": "#2a3f5f"
            },
            "type": "carpet"
           }
          ],
          "choropleth": [
           {
            "colorbar": {
             "outlinewidth": 0,
             "ticks": ""
            },
            "type": "choropleth"
           }
          ],
          "contour": [
           {
            "colorbar": {
             "outlinewidth": 0,
             "ticks": ""
            },
            "colorscale": [
             [
              0,
              "#0d0887"
             ],
             [
              0.1111111111111111,
              "#46039f"
             ],
             [
              0.2222222222222222,
              "#7201a8"
             ],
             [
              0.3333333333333333,
              "#9c179e"
             ],
             [
              0.4444444444444444,
              "#bd3786"
             ],
             [
              0.5555555555555556,
              "#d8576b"
             ],
             [
              0.6666666666666666,
              "#ed7953"
             ],
             [
              0.7777777777777778,
              "#fb9f3a"
             ],
             [
              0.8888888888888888,
              "#fdca26"
             ],
             [
              1,
              "#f0f921"
             ]
            ],
            "type": "contour"
           }
          ],
          "contourcarpet": [
           {
            "colorbar": {
             "outlinewidth": 0,
             "ticks": ""
            },
            "type": "contourcarpet"
           }
          ],
          "heatmap": [
           {
            "colorbar": {
             "outlinewidth": 0,
             "ticks": ""
            },
            "colorscale": [
             [
              0,
              "#0d0887"
             ],
             [
              0.1111111111111111,
              "#46039f"
             ],
             [
              0.2222222222222222,
              "#7201a8"
             ],
             [
              0.3333333333333333,
              "#9c179e"
             ],
             [
              0.4444444444444444,
              "#bd3786"
             ],
             [
              0.5555555555555556,
              "#d8576b"
             ],
             [
              0.6666666666666666,
              "#ed7953"
             ],
             [
              0.7777777777777778,
              "#fb9f3a"
             ],
             [
              0.8888888888888888,
              "#fdca26"
             ],
             [
              1,
              "#f0f921"
             ]
            ],
            "type": "heatmap"
           }
          ],
          "histogram": [
           {
            "marker": {
             "pattern": {
              "fillmode": "overlay",
              "size": 10,
              "solidity": 0.2
             }
            },
            "type": "histogram"
           }
          ],
          "histogram2d": [
           {
            "colorbar": {
             "outlinewidth": 0,
             "ticks": ""
            },
            "colorscale": [
             [
              0,
              "#0d0887"
             ],
             [
              0.1111111111111111,
              "#46039f"
             ],
             [
              0.2222222222222222,
              "#7201a8"
             ],
             [
              0.3333333333333333,
              "#9c179e"
             ],
             [
              0.4444444444444444,
              "#bd3786"
             ],
             [
              0.5555555555555556,
              "#d8576b"
             ],
             [
              0.6666666666666666,
              "#ed7953"
             ],
             [
              0.7777777777777778,
              "#fb9f3a"
             ],
             [
              0.8888888888888888,
              "#fdca26"
             ],
             [
              1,
              "#f0f921"
             ]
            ],
            "type": "histogram2d"
           }
          ],
          "histogram2dcontour": [
           {
            "colorbar": {
             "outlinewidth": 0,
             "ticks": ""
            },
            "colorscale": [
             [
              0,
              "#0d0887"
             ],
             [
              0.1111111111111111,
              "#46039f"
             ],
             [
              0.2222222222222222,
              "#7201a8"
             ],
             [
              0.3333333333333333,
              "#9c179e"
             ],
             [
              0.4444444444444444,
              "#bd3786"
             ],
             [
              0.5555555555555556,
              "#d8576b"
             ],
             [
              0.6666666666666666,
              "#ed7953"
             ],
             [
              0.7777777777777778,
              "#fb9f3a"
             ],
             [
              0.8888888888888888,
              "#fdca26"
             ],
             [
              1,
              "#f0f921"
             ]
            ],
            "type": "histogram2dcontour"
           }
          ],
          "mesh3d": [
           {
            "colorbar": {
             "outlinewidth": 0,
             "ticks": ""
            },
            "type": "mesh3d"
           }
          ],
          "parcoords": [
           {
            "line": {
             "colorbar": {
              "outlinewidth": 0,
              "ticks": ""
             }
            },
            "type": "parcoords"
           }
          ],
          "pie": [
           {
            "automargin": true,
            "type": "pie"
           }
          ],
          "scatter": [
           {
            "fillpattern": {
             "fillmode": "overlay",
             "size": 10,
             "solidity": 0.2
            },
            "type": "scatter"
           }
          ],
          "scatter3d": [
           {
            "line": {
             "colorbar": {
              "outlinewidth": 0,
              "ticks": ""
             }
            },
            "marker": {
             "colorbar": {
              "outlinewidth": 0,
              "ticks": ""
             }
            },
            "type": "scatter3d"
           }
          ],
          "scattercarpet": [
           {
            "marker": {
             "colorbar": {
              "outlinewidth": 0,
              "ticks": ""
             }
            },
            "type": "scattercarpet"
           }
          ],
          "scattergeo": [
           {
            "marker": {
             "colorbar": {
              "outlinewidth": 0,
              "ticks": ""
             }
            },
            "type": "scattergeo"
           }
          ],
          "scattergl": [
           {
            "marker": {
             "colorbar": {
              "outlinewidth": 0,
              "ticks": ""
             }
            },
            "type": "scattergl"
           }
          ],
          "scattermap": [
           {
            "marker": {
             "colorbar": {
              "outlinewidth": 0,
              "ticks": ""
             }
            },
            "type": "scattermap"
           }
          ],
          "scattermapbox": [
           {
            "marker": {
             "colorbar": {
              "outlinewidth": 0,
              "ticks": ""
             }
            },
            "type": "scattermapbox"
           }
          ],
          "scatterpolar": [
           {
            "marker": {
             "colorbar": {
              "outlinewidth": 0,
              "ticks": ""
             }
            },
            "type": "scatterpolar"
           }
          ],
          "scatterpolargl": [
           {
            "marker": {
             "colorbar": {
              "outlinewidth": 0,
              "ticks": ""
             }
            },
            "type": "scatterpolargl"
           }
          ],
          "scatterternary": [
           {
            "marker": {
             "colorbar": {
              "outlinewidth": 0,
              "ticks": ""
             }
            },
            "type": "scatterternary"
           }
          ],
          "surface": [
           {
            "colorbar": {
             "outlinewidth": 0,
             "ticks": ""
            },
            "colorscale": [
             [
              0,
              "#0d0887"
             ],
             [
              0.1111111111111111,
              "#46039f"
             ],
             [
              0.2222222222222222,
              "#7201a8"
             ],
             [
              0.3333333333333333,
              "#9c179e"
             ],
             [
              0.4444444444444444,
              "#bd3786"
             ],
             [
              0.5555555555555556,
              "#d8576b"
             ],
             [
              0.6666666666666666,
              "#ed7953"
             ],
             [
              0.7777777777777778,
              "#fb9f3a"
             ],
             [
              0.8888888888888888,
              "#fdca26"
             ],
             [
              1,
              "#f0f921"
             ]
            ],
            "type": "surface"
           }
          ],
          "table": [
           {
            "cells": {
             "fill": {
              "color": "#EBF0F8"
             },
             "line": {
              "color": "white"
             }
            },
            "header": {
             "fill": {
              "color": "#C8D4E3"
             },
             "line": {
              "color": "white"
             }
            },
            "type": "table"
           }
          ]
         },
         "layout": {
          "annotationdefaults": {
           "arrowcolor": "#2a3f5f",
           "arrowhead": 0,
           "arrowwidth": 1
          },
          "autotypenumbers": "strict",
          "coloraxis": {
           "colorbar": {
            "outlinewidth": 0,
            "ticks": ""
           }
          },
          "colorscale": {
           "diverging": [
            [
             0,
             "#8e0152"
            ],
            [
             0.1,
             "#c51b7d"
            ],
            [
             0.2,
             "#de77ae"
            ],
            [
             0.3,
             "#f1b6da"
            ],
            [
             0.4,
             "#fde0ef"
            ],
            [
             0.5,
             "#f7f7f7"
            ],
            [
             0.6,
             "#e6f5d0"
            ],
            [
             0.7,
             "#b8e186"
            ],
            [
             0.8,
             "#7fbc41"
            ],
            [
             0.9,
             "#4d9221"
            ],
            [
             1,
             "#276419"
            ]
           ],
           "sequential": [
            [
             0,
             "#0d0887"
            ],
            [
             0.1111111111111111,
             "#46039f"
            ],
            [
             0.2222222222222222,
             "#7201a8"
            ],
            [
             0.3333333333333333,
             "#9c179e"
            ],
            [
             0.4444444444444444,
             "#bd3786"
            ],
            [
             0.5555555555555556,
             "#d8576b"
            ],
            [
             0.6666666666666666,
             "#ed7953"
            ],
            [
             0.7777777777777778,
             "#fb9f3a"
            ],
            [
             0.8888888888888888,
             "#fdca26"
            ],
            [
             1,
             "#f0f921"
            ]
           ],
           "sequentialminus": [
            [
             0,
             "#0d0887"
            ],
            [
             0.1111111111111111,
             "#46039f"
            ],
            [
             0.2222222222222222,
             "#7201a8"
            ],
            [
             0.3333333333333333,
             "#9c179e"
            ],
            [
             0.4444444444444444,
             "#bd3786"
            ],
            [
             0.5555555555555556,
             "#d8576b"
            ],
            [
             0.6666666666666666,
             "#ed7953"
            ],
            [
             0.7777777777777778,
             "#fb9f3a"
            ],
            [
             0.8888888888888888,
             "#fdca26"
            ],
            [
             1,
             "#f0f921"
            ]
           ]
          },
          "colorway": [
           "#636efa",
           "#EF553B",
           "#00cc96",
           "#ab63fa",
           "#FFA15A",
           "#19d3f3",
           "#FF6692",
           "#B6E880",
           "#FF97FF",
           "#FECB52"
          ],
          "font": {
           "color": "#2a3f5f"
          },
          "geo": {
           "bgcolor": "white",
           "lakecolor": "white",
           "landcolor": "#E5ECF6",
           "showlakes": true,
           "showland": true,
           "subunitcolor": "white"
          },
          "hoverlabel": {
           "align": "left"
          },
          "hovermode": "closest",
          "mapbox": {
           "style": "light"
          },
          "paper_bgcolor": "white",
          "plot_bgcolor": "#E5ECF6",
          "polar": {
           "angularaxis": {
            "gridcolor": "white",
            "linecolor": "white",
            "ticks": ""
           },
           "bgcolor": "#E5ECF6",
           "radialaxis": {
            "gridcolor": "white",
            "linecolor": "white",
            "ticks": ""
           }
          },
          "scene": {
           "xaxis": {
            "backgroundcolor": "#E5ECF6",
            "gridcolor": "white",
            "gridwidth": 2,
            "linecolor": "white",
            "showbackground": true,
            "ticks": "",
            "zerolinecolor": "white"
           },
           "yaxis": {
            "backgroundcolor": "#E5ECF6",
            "gridcolor": "white",
            "gridwidth": 2,
            "linecolor": "white",
            "showbackground": true,
            "ticks": "",
            "zerolinecolor": "white"
           },
           "zaxis": {
            "backgroundcolor": "#E5ECF6",
            "gridcolor": "white",
            "gridwidth": 2,
            "linecolor": "white",
            "showbackground": true,
            "ticks": "",
            "zerolinecolor": "white"
           }
          },
          "shapedefaults": {
           "line": {
            "color": "#2a3f5f"
           }
          },
          "ternary": {
           "aaxis": {
            "gridcolor": "white",
            "linecolor": "white",
            "ticks": ""
           },
           "baxis": {
            "gridcolor": "white",
            "linecolor": "white",
            "ticks": ""
           },
           "bgcolor": "#E5ECF6",
           "caxis": {
            "gridcolor": "white",
            "linecolor": "white",
            "ticks": ""
           }
          },
          "title": {
           "x": 0.05
          },
          "xaxis": {
           "automargin": true,
           "gridcolor": "white",
           "linecolor": "white",
           "ticks": "",
           "title": {
            "standoff": 15
           },
           "zerolinecolor": "white",
           "zerolinewidth": 2
          },
          "yaxis": {
           "automargin": true,
           "gridcolor": "white",
           "linecolor": "white",
           "ticks": "",
           "title": {
            "standoff": 15
           },
           "zerolinecolor": "white",
           "zerolinewidth": 2
          }
         }
        },
        "title": {
         "font": {
          "color": "white",
          "size": 20
         },
         "text": "Boxplot, Histograma e Scatter Plot de Colesterol",
         "x": 0.5,
         "xanchor": "center",
         "y": 0.95
        },
        "width": 1200,
        "xaxis": {
         "anchor": "y",
         "domain": [
          0,
          0.2888888888888889
         ],
         "showgrid": false
        },
        "xaxis2": {
         "anchor": "y2",
         "domain": [
          0.35555555555555557,
          0.6444444444444445
         ],
         "showgrid": false
        },
        "xaxis3": {
         "anchor": "y3",
         "domain": [
          0.7111111111111111,
          1
         ],
         "showgrid": false
        },
        "yaxis": {
         "anchor": "x",
         "domain": [
          0,
          1
         ],
         "showgrid": false
        },
        "yaxis2": {
         "anchor": "x2",
         "domain": [
          0,
          1
         ],
         "showgrid": false
        },
        "yaxis3": {
         "anchor": "x3",
         "domain": [
          0,
          1
         ],
         "showgrid": false
        }
       }
      }
     },
     "metadata": {},
     "output_type": "display_data"
    }
   ],
   "source": [
    "# Coluna chol\n",
    "\n",
    "import plotly.express as px\n",
    "from plotly.subplots import make_subplots\n",
    "\n",
    "# Exibe as estatísticas de 'chol' no console\n",
    "desc_chol = data[\"chol\"].describe()\n",
    "display(HTML(\"<span style='color: lightblue;'>Estatísticas de [chol]:</span>\"))\n",
    "print(desc_chol)\n",
    "display(HTML(\"<span style='color: lightblue;'>Gráficos:</span>\"))\n",
    "\n",
    "# Cria uma figura com 3 subplots (1 linha, 3 colunas)\n",
    "fig = make_subplots(\n",
    "    rows=1,\n",
    "    cols=3,\n",
    "    subplot_titles=[\"Boxplot\", \"Histograma\", \"Scatter Plot\"]\n",
    ")\n",
    "\n",
    "# ========== 1) BOXPLOT ==========\n",
    "box_fig = px.box(\n",
    "    data,\n",
    "    y=\"chol\",\n",
    "    template=\"plotly_dark\",\n",
    "    labels={\"chol\": \"Colesterol\"}\n",
    ")\n",
    "# Adiciona o boxplot ao subplot (coluna 1)\n",
    "for trace in box_fig.data:\n",
    "    fig.add_trace(trace, row=1, col=1)\n",
    "\n",
    "# ========== 2) HISTOGRAMA ==========\n",
    "hist_fig = px.histogram(\n",
    "    data,\n",
    "    x=\"chol\",\n",
    "    nbins=20,  # Ajuste o número de bins conforme desejar\n",
    "    template=\"plotly_dark\",\n",
    "    labels={\"chol\": \"Colesterol\"}\n",
    ")\n",
    "# Adiciona o histograma ao subplot (coluna 2)\n",
    "for trace in hist_fig.data:\n",
    "    fig.add_trace(trace, row=1, col=2)\n",
    "\n",
    "# ========== 3) SCATTER PLOT ==========\n",
    "# Exemplo de scatter plot relacionando 'chol' com 'age'\n",
    "scatter_fig = px.scatter(\n",
    "    data,\n",
    "    x=\"age\",\n",
    "    y=\"chol\",\n",
    "    template=\"plotly_dark\",\n",
    "    labels={\"age\": \"Idade\", \"chol\": \"Colesterol\"}\n",
    ")\n",
    "# Adiciona o scatter plot ao subplot (coluna 3)\n",
    "for trace in scatter_fig.data:\n",
    "    fig.add_trace(trace, row=1, col=3)\n",
    "\n",
    "# Ajustes de layout gerais\n",
    "fig.update_layout(\n",
    "    title={\n",
    "        \"text\": \"Boxplot, Histograma e Scatter Plot de Colesterol\",\n",
    "        \"y\": 0.95,\n",
    "        \"x\": 0.5,\n",
    "        \"xanchor\": \"center\",\n",
    "        \"font\": {\"size\": 20, \"color\": \"white\"}\n",
    "    },\n",
    "    showlegend=False,\n",
    "    width=1200,\n",
    "    height=600,\n",
    "    margin=dict(t=80, b=40, l=40, r=40),\n",
    "    paper_bgcolor=\"rgba(0,0,0,0.3)\",\n",
    "    plot_bgcolor=\"rgba(0,0,0,0)\",\n",
    "    font=dict(family=\"Arial\", size=12, color=\"white\")\n",
    ")\n",
    "\n",
    "# Ajustes específicos nos eixos de cada subplot\n",
    "fig.update_xaxes(showgrid=False)\n",
    "fig.update_yaxes(showgrid=False)\n",
    "\n",
    "# Exibe o gráfico\n",
    "fig.show()\n"
   ]
  },
  {
   "cell_type": "markdown",
   "metadata": {
    "id": "UPavZ2qajWwO"
   },
   "source": [
    "### **Conclusão**\n",
    "\n",
    "Após a análise da coluna **chol** (Colesterol sérico em mg/dl), podemos concluir que:\n",
    "\n",
    "- **Outlier Detectado**: Há um valor discrepante na coluna, referente a uma pessoa com colesterol de 564. Embora seja possível, esse valor é bastante raro e se afasta significativamente do restante dos dados. Por isso, recomenda-se sua remoção para evitar que afete negativamente o desempenho do modelo."
   ]
  },
  {
   "cell_type": "markdown",
   "metadata": {
    "id": "QCpEKDKvMJ48"
   },
   "source": [
    "### **Tratamento da coluna**"
   ]
  },
  {
   "cell_type": "code",
   "execution_count": 16,
   "metadata": {
    "colab": {
     "base_uri": "https://localhost:8080/"
    },
    "id": "t-Nq3TRDGhA_",
    "outputId": "9540ed31-bed7-42f5-dfc8-a8980b123dba"
   },
   "outputs": [
    {
     "name": "stdout",
     "output_type": "stream",
     "text": [
      "Outlier removido\n"
     ]
    }
   ],
   "source": [
    "# Remoção de outlier\n",
    "data = data.loc[data['chol'] != 564]\n",
    "\n",
    "# Verificando se o mesmo foi removido\n",
    "print(\"Outlier removido\") if data.loc[data['chol'] == 564].empty else print(\"Falha ao remover outlier!\")"
   ]
  },
  {
   "cell_type": "markdown",
   "metadata": {
    "id": "q-e2arCvGZ-R"
   },
   "source": []
  },
  {
   "cell_type": "code",
   "execution_count": 17,
   "metadata": {
    "colab": {
     "base_uri": "https://localhost:8080/",
     "height": 818
    },
    "id": "rQ2DdHAALiXl",
    "outputId": "42656797-068c-45f0-aa1a-22f9af8faf9e"
   },
   "outputs": [
    {
     "data": {
      "text/html": [
       "<span style='color: lightblue;'>Estatísticas de [thalach]:</span>"
      ],
      "text/plain": [
       "<IPython.core.display.HTML object>"
      ]
     },
     "metadata": {},
     "output_type": "display_data"
    },
    {
     "name": "stdout",
     "output_type": "stream",
     "text": [
      "count    302.000000\n",
      "mean     149.612583\n",
      "std       22.935390\n",
      "min       71.000000\n",
      "25%      133.250000\n",
      "50%      152.500000\n",
      "75%      166.000000\n",
      "max      202.000000\n",
      "Name: thalach, dtype: float64\n"
     ]
    },
    {
     "data": {
      "text/html": [
       "<span style='color: lightblue;'>Gráficos:</span>"
      ],
      "text/plain": [
       "<IPython.core.display.HTML object>"
      ]
     },
     "metadata": {},
     "output_type": "display_data"
    },
    {
     "data": {
      "application/vnd.plotly.v1+json": {
       "config": {
        "plotlyServerURL": "https://plot.ly"
       },
       "data": [
        {
         "alignmentgroup": "True",
         "hovertemplate": "Taxa Cardiaca=%{y}<extra></extra>",
         "legendgroup": "",
         "marker": {
          "color": "#636efa"
         },
         "name": "",
         "notched": false,
         "offsetgroup": "",
         "orientation": "v",
         "showlegend": false,
         "type": "box",
         "x0": " ",
         "xaxis": "x",
         "y": {
          "bdata": "lgC7AKwAsgCjAJQAmQCtAKIArgCgAIsAqwCQAKIAngCsAHIAqwCXAKEAswCyAIkAsgCiAJ0AewCdAJgAqACMALwAmAB9AKAAqgClAJQAlwCOALQAlACPALYArAC0AJwAcwCgAJUAlwCSAK8ArACeALoAuQCuAJ8AggCcAL4AhAClALYAjwCvAKoAowCTAJoAygC6AKUAoQCmAKQAuACaALMAqgCgALIAegCXAJwAngB6AK8AqACpAJ8AigBvAJ0AkwCiAK0AsgCRALMAwgCjAHMAgwCYAKIAnwCaAK0AhQChAJsAqgCoAKIArACYAHoAtgCsAKcAswDAAI8ArACpAHkAowCiAKIAmQCjAKMAYACMAH4AaQCdALUArQCOAHQAjwCVAKsAqQCWAIoAfQCbAJgAmACDALMArgCQAKMAqQCmALYArQCtAGwAgQCgAJMAmwCOAKgAoACtAIQAcgCgAJ4AeABwAIQAcgCpAKUAgACZAJAAbQCjAJ4AjgCDAHEAjgCbAIwAkwCjAGMAngCxAI0AbwCWAJEAoQCOAJ0AiwCiAJYAjACMAJIAkACIAGEAhAB/AJYAmgBvAK4AhQB+AH0AZwCCAJ8AgwCYAHwAkQBgAG0ArQCrAKoAogCcAHAAjwCEAFgAaQCmAJYAeADDAJIAegCPAGoAfQB9AJMAggB+AJoAtgClAKAAXwCpAGwAhAB1AH4AdABnAJAAkQBHAJwAdgCoAGkAjQCYAH0AfQCcAIYAtQCKAHgAogCkAI8AggChAIwAkgCWAJAAkACIAFoAewCEAI0AcwCuAA==",
          "dtype": "i2"
         },
         "y0": " ",
         "yaxis": "y"
        },
        {
         "bingroup": "x",
         "hovertemplate": "Taxa Cardiaca=%{x}<br>count=%{y}<extra></extra>",
         "legendgroup": "",
         "marker": {
          "color": "#636efa",
          "pattern": {
           "shape": ""
          }
         },
         "name": "",
         "nbinsx": 20,
         "orientation": "v",
         "showlegend": false,
         "type": "histogram",
         "x": {
          "bdata": "lgC7AKwAsgCjAJQAmQCtAKIArgCgAIsAqwCQAKIAngCsAHIAqwCXAKEAswCyAIkAsgCiAJ0AewCdAJgAqACMALwAmAB9AKAAqgClAJQAlwCOALQAlACPALYArAC0AJwAcwCgAJUAlwCSAK8ArACeALoAuQCuAJ8AggCcAL4AhAClALYAjwCvAKoAowCTAJoAygC6AKUAoQCmAKQAuACaALMAqgCgALIAegCXAJwAngB6AK8AqACpAJ8AigBvAJ0AkwCiAK0AsgCRALMAwgCjAHMAgwCYAKIAnwCaAK0AhQChAJsAqgCoAKIArACYAHoAtgCsAKcAswDAAI8ArACpAHkAowCiAKIAmQCjAKMAYACMAH4AaQCdALUArQCOAHQAjwCVAKsAqQCWAIoAfQCbAJgAmACDALMArgCQAKMAqQCmALYArQCtAGwAgQCgAJMAmwCOAKgAoACtAIQAcgCgAJ4AeABwAIQAcgCpAKUAgACZAJAAbQCjAJ4AjgCDAHEAjgCbAIwAkwCjAGMAngCxAI0AbwCWAJEAoQCOAJ0AiwCiAJYAjACMAJIAkACIAGEAhAB/AJYAmgBvAK4AhQB+AH0AZwCCAJ8AgwCYAHwAkQBgAG0ArQCrAKoAogCcAHAAjwCEAFgAaQCmAJYAeADDAJIAegCPAGoAfQB9AJMAggB+AJoAtgClAKAAXwCpAGwAhAB1AH4AdABnAJAAkQBHAJwAdgCoAGkAjQCYAH0AfQCcAIYAtQCKAHgAogCkAI8AggChAIwAkgCWAJAAkACIAFoAewCEAI0AcwCuAA==",
          "dtype": "i2"
         },
         "xaxis": "x2",
         "yaxis": "y2"
        },
        {
         "hovertemplate": "Idade=%{x}<br>Taxa Cardiaca=%{y}<extra></extra>",
         "legendgroup": "",
         "marker": {
          "color": "#636efa",
          "symbol": "circle"
         },
         "mode": "markers",
         "name": "",
         "orientation": "v",
         "showlegend": false,
         "type": "scatter",
         "x": {
          "bdata": "PyUpODk5OCw0OTYwMUA6MjpCK0U7LCo9KEc7M0E1KUEsNjMuNjZBQTMwLTUnNCwvNTUzQj4sPzQwLSI5RzY0KTojMy0sPjYzHTMrNzM7NDopLTw0KkQuNjowOTQ2LTU+NCs1Kjs/KjJERS0yMkA5QCs3JSk4Li5AOyk2JyIvQzRKNjEqKSkxPD45QDMrKkNMRiw8LCpCR0BCJzovIzo4ODcpJiZDQz4/NTgwOjo8KDxAKzk3QT06Miw8NjIpMzo2PDw7LkM+QSw8OkQ+NDs8MTs5PSc9OCs+P0EwPzdBODZGPiM7QC85N0BGMzo8TSNGO0A5ODA4QjZFMys+QzstOjI+JkI0NT82QjcxNjguPUM6LzQ6OTo9KjQ7KD0uOzk5Nz06OkMsPz87OS1EOTk=",
          "dtype": "i1"
         },
         "xaxis": "x3",
         "y": {
          "bdata": "lgC7AKwAsgCjAJQAmQCtAKIArgCgAIsAqwCQAKIAngCsAHIAqwCXAKEAswCyAIkAsgCiAJ0AewCdAJgAqACMALwAmAB9AKAAqgClAJQAlwCOALQAlACPALYArAC0AJwAcwCgAJUAlwCSAK8ArACeALoAuQCuAJ8AggCcAL4AhAClALYAjwCvAKoAowCTAJoAygC6AKUAoQCmAKQAuACaALMAqgCgALIAegCXAJwAngB6AK8AqACpAJ8AigBvAJ0AkwCiAK0AsgCRALMAwgCjAHMAgwCYAKIAnwCaAK0AhQChAJsAqgCoAKIArACYAHoAtgCsAKcAswDAAI8ArACpAHkAowCiAKIAmQCjAKMAYACMAH4AaQCdALUArQCOAHQAjwCVAKsAqQCWAIoAfQCbAJgAmACDALMArgCQAKMAqQCmALYArQCtAGwAgQCgAJMAmwCOAKgAoACtAIQAcgCgAJ4AeABwAIQAcgCpAKUAgACZAJAAbQCjAJ4AjgCDAHEAjgCbAIwAkwCjAGMAngCxAI0AbwCWAJEAoQCOAJ0AiwCiAJYAjACMAJIAkACIAGEAhAB/AJYAmgBvAK4AhQB+AH0AZwCCAJ8AgwCYAHwAkQBgAG0ArQCrAKoAogCcAHAAjwCEAFgAaQCmAJYAeADDAJIAegCPAGoAfQB9AJMAggB+AJoAtgClAKAAXwCpAGwAhAB1AH4AdABnAJAAkQBHAJwAdgCoAGkAjQCYAH0AfQCcAIYAtQCKAHgAogCkAI8AggChAIwAkgCWAJAAkACIAFoAewCEAI0AcwCuAA==",
          "dtype": "i2"
         },
         "yaxis": "y3"
        }
       ],
       "layout": {
        "annotations": [
         {
          "font": {
           "size": 16
          },
          "showarrow": false,
          "text": "Boxplot",
          "x": 0.14444444444444446,
          "xanchor": "center",
          "xref": "paper",
          "y": 1,
          "yanchor": "bottom",
          "yref": "paper"
         },
         {
          "font": {
           "size": 16
          },
          "showarrow": false,
          "text": "Histograma",
          "x": 0.5,
          "xanchor": "center",
          "xref": "paper",
          "y": 1,
          "yanchor": "bottom",
          "yref": "paper"
         },
         {
          "font": {
           "size": 16
          },
          "showarrow": false,
          "text": "Scatter Plot",
          "x": 0.8555555555555556,
          "xanchor": "center",
          "xref": "paper",
          "y": 1,
          "yanchor": "bottom",
          "yref": "paper"
         }
        ],
        "font": {
         "color": "white",
         "family": "Arial",
         "size": 12
        },
        "height": 600,
        "margin": {
         "b": 40,
         "l": 40,
         "r": 40,
         "t": 80
        },
        "paper_bgcolor": "rgba(0,0,0,0.3)",
        "plot_bgcolor": "rgba(0,0,0,0)",
        "showlegend": false,
        "template": {
         "data": {
          "bar": [
           {
            "error_x": {
             "color": "#2a3f5f"
            },
            "error_y": {
             "color": "#2a3f5f"
            },
            "marker": {
             "line": {
              "color": "#E5ECF6",
              "width": 0.5
             },
             "pattern": {
              "fillmode": "overlay",
              "size": 10,
              "solidity": 0.2
             }
            },
            "type": "bar"
           }
          ],
          "barpolar": [
           {
            "marker": {
             "line": {
              "color": "#E5ECF6",
              "width": 0.5
             },
             "pattern": {
              "fillmode": "overlay",
              "size": 10,
              "solidity": 0.2
             }
            },
            "type": "barpolar"
           }
          ],
          "carpet": [
           {
            "aaxis": {
             "endlinecolor": "#2a3f5f",
             "gridcolor": "white",
             "linecolor": "white",
             "minorgridcolor": "white",
             "startlinecolor": "#2a3f5f"
            },
            "baxis": {
             "endlinecolor": "#2a3f5f",
             "gridcolor": "white",
             "linecolor": "white",
             "minorgridcolor": "white",
             "startlinecolor": "#2a3f5f"
            },
            "type": "carpet"
           }
          ],
          "choropleth": [
           {
            "colorbar": {
             "outlinewidth": 0,
             "ticks": ""
            },
            "type": "choropleth"
           }
          ],
          "contour": [
           {
            "colorbar": {
             "outlinewidth": 0,
             "ticks": ""
            },
            "colorscale": [
             [
              0,
              "#0d0887"
             ],
             [
              0.1111111111111111,
              "#46039f"
             ],
             [
              0.2222222222222222,
              "#7201a8"
             ],
             [
              0.3333333333333333,
              "#9c179e"
             ],
             [
              0.4444444444444444,
              "#bd3786"
             ],
             [
              0.5555555555555556,
              "#d8576b"
             ],
             [
              0.6666666666666666,
              "#ed7953"
             ],
             [
              0.7777777777777778,
              "#fb9f3a"
             ],
             [
              0.8888888888888888,
              "#fdca26"
             ],
             [
              1,
              "#f0f921"
             ]
            ],
            "type": "contour"
           }
          ],
          "contourcarpet": [
           {
            "colorbar": {
             "outlinewidth": 0,
             "ticks": ""
            },
            "type": "contourcarpet"
           }
          ],
          "heatmap": [
           {
            "colorbar": {
             "outlinewidth": 0,
             "ticks": ""
            },
            "colorscale": [
             [
              0,
              "#0d0887"
             ],
             [
              0.1111111111111111,
              "#46039f"
             ],
             [
              0.2222222222222222,
              "#7201a8"
             ],
             [
              0.3333333333333333,
              "#9c179e"
             ],
             [
              0.4444444444444444,
              "#bd3786"
             ],
             [
              0.5555555555555556,
              "#d8576b"
             ],
             [
              0.6666666666666666,
              "#ed7953"
             ],
             [
              0.7777777777777778,
              "#fb9f3a"
             ],
             [
              0.8888888888888888,
              "#fdca26"
             ],
             [
              1,
              "#f0f921"
             ]
            ],
            "type": "heatmap"
           }
          ],
          "histogram": [
           {
            "marker": {
             "pattern": {
              "fillmode": "overlay",
              "size": 10,
              "solidity": 0.2
             }
            },
            "type": "histogram"
           }
          ],
          "histogram2d": [
           {
            "colorbar": {
             "outlinewidth": 0,
             "ticks": ""
            },
            "colorscale": [
             [
              0,
              "#0d0887"
             ],
             [
              0.1111111111111111,
              "#46039f"
             ],
             [
              0.2222222222222222,
              "#7201a8"
             ],
             [
              0.3333333333333333,
              "#9c179e"
             ],
             [
              0.4444444444444444,
              "#bd3786"
             ],
             [
              0.5555555555555556,
              "#d8576b"
             ],
             [
              0.6666666666666666,
              "#ed7953"
             ],
             [
              0.7777777777777778,
              "#fb9f3a"
             ],
             [
              0.8888888888888888,
              "#fdca26"
             ],
             [
              1,
              "#f0f921"
             ]
            ],
            "type": "histogram2d"
           }
          ],
          "histogram2dcontour": [
           {
            "colorbar": {
             "outlinewidth": 0,
             "ticks": ""
            },
            "colorscale": [
             [
              0,
              "#0d0887"
             ],
             [
              0.1111111111111111,
              "#46039f"
             ],
             [
              0.2222222222222222,
              "#7201a8"
             ],
             [
              0.3333333333333333,
              "#9c179e"
             ],
             [
              0.4444444444444444,
              "#bd3786"
             ],
             [
              0.5555555555555556,
              "#d8576b"
             ],
             [
              0.6666666666666666,
              "#ed7953"
             ],
             [
              0.7777777777777778,
              "#fb9f3a"
             ],
             [
              0.8888888888888888,
              "#fdca26"
             ],
             [
              1,
              "#f0f921"
             ]
            ],
            "type": "histogram2dcontour"
           }
          ],
          "mesh3d": [
           {
            "colorbar": {
             "outlinewidth": 0,
             "ticks": ""
            },
            "type": "mesh3d"
           }
          ],
          "parcoords": [
           {
            "line": {
             "colorbar": {
              "outlinewidth": 0,
              "ticks": ""
             }
            },
            "type": "parcoords"
           }
          ],
          "pie": [
           {
            "automargin": true,
            "type": "pie"
           }
          ],
          "scatter": [
           {
            "fillpattern": {
             "fillmode": "overlay",
             "size": 10,
             "solidity": 0.2
            },
            "type": "scatter"
           }
          ],
          "scatter3d": [
           {
            "line": {
             "colorbar": {
              "outlinewidth": 0,
              "ticks": ""
             }
            },
            "marker": {
             "colorbar": {
              "outlinewidth": 0,
              "ticks": ""
             }
            },
            "type": "scatter3d"
           }
          ],
          "scattercarpet": [
           {
            "marker": {
             "colorbar": {
              "outlinewidth": 0,
              "ticks": ""
             }
            },
            "type": "scattercarpet"
           }
          ],
          "scattergeo": [
           {
            "marker": {
             "colorbar": {
              "outlinewidth": 0,
              "ticks": ""
             }
            },
            "type": "scattergeo"
           }
          ],
          "scattergl": [
           {
            "marker": {
             "colorbar": {
              "outlinewidth": 0,
              "ticks": ""
             }
            },
            "type": "scattergl"
           }
          ],
          "scattermap": [
           {
            "marker": {
             "colorbar": {
              "outlinewidth": 0,
              "ticks": ""
             }
            },
            "type": "scattermap"
           }
          ],
          "scattermapbox": [
           {
            "marker": {
             "colorbar": {
              "outlinewidth": 0,
              "ticks": ""
             }
            },
            "type": "scattermapbox"
           }
          ],
          "scatterpolar": [
           {
            "marker": {
             "colorbar": {
              "outlinewidth": 0,
              "ticks": ""
             }
            },
            "type": "scatterpolar"
           }
          ],
          "scatterpolargl": [
           {
            "marker": {
             "colorbar": {
              "outlinewidth": 0,
              "ticks": ""
             }
            },
            "type": "scatterpolargl"
           }
          ],
          "scatterternary": [
           {
            "marker": {
             "colorbar": {
              "outlinewidth": 0,
              "ticks": ""
             }
            },
            "type": "scatterternary"
           }
          ],
          "surface": [
           {
            "colorbar": {
             "outlinewidth": 0,
             "ticks": ""
            },
            "colorscale": [
             [
              0,
              "#0d0887"
             ],
             [
              0.1111111111111111,
              "#46039f"
             ],
             [
              0.2222222222222222,
              "#7201a8"
             ],
             [
              0.3333333333333333,
              "#9c179e"
             ],
             [
              0.4444444444444444,
              "#bd3786"
             ],
             [
              0.5555555555555556,
              "#d8576b"
             ],
             [
              0.6666666666666666,
              "#ed7953"
             ],
             [
              0.7777777777777778,
              "#fb9f3a"
             ],
             [
              0.8888888888888888,
              "#fdca26"
             ],
             [
              1,
              "#f0f921"
             ]
            ],
            "type": "surface"
           }
          ],
          "table": [
           {
            "cells": {
             "fill": {
              "color": "#EBF0F8"
             },
             "line": {
              "color": "white"
             }
            },
            "header": {
             "fill": {
              "color": "#C8D4E3"
             },
             "line": {
              "color": "white"
             }
            },
            "type": "table"
           }
          ]
         },
         "layout": {
          "annotationdefaults": {
           "arrowcolor": "#2a3f5f",
           "arrowhead": 0,
           "arrowwidth": 1
          },
          "autotypenumbers": "strict",
          "coloraxis": {
           "colorbar": {
            "outlinewidth": 0,
            "ticks": ""
           }
          },
          "colorscale": {
           "diverging": [
            [
             0,
             "#8e0152"
            ],
            [
             0.1,
             "#c51b7d"
            ],
            [
             0.2,
             "#de77ae"
            ],
            [
             0.3,
             "#f1b6da"
            ],
            [
             0.4,
             "#fde0ef"
            ],
            [
             0.5,
             "#f7f7f7"
            ],
            [
             0.6,
             "#e6f5d0"
            ],
            [
             0.7,
             "#b8e186"
            ],
            [
             0.8,
             "#7fbc41"
            ],
            [
             0.9,
             "#4d9221"
            ],
            [
             1,
             "#276419"
            ]
           ],
           "sequential": [
            [
             0,
             "#0d0887"
            ],
            [
             0.1111111111111111,
             "#46039f"
            ],
            [
             0.2222222222222222,
             "#7201a8"
            ],
            [
             0.3333333333333333,
             "#9c179e"
            ],
            [
             0.4444444444444444,
             "#bd3786"
            ],
            [
             0.5555555555555556,
             "#d8576b"
            ],
            [
             0.6666666666666666,
             "#ed7953"
            ],
            [
             0.7777777777777778,
             "#fb9f3a"
            ],
            [
             0.8888888888888888,
             "#fdca26"
            ],
            [
             1,
             "#f0f921"
            ]
           ],
           "sequentialminus": [
            [
             0,
             "#0d0887"
            ],
            [
             0.1111111111111111,
             "#46039f"
            ],
            [
             0.2222222222222222,
             "#7201a8"
            ],
            [
             0.3333333333333333,
             "#9c179e"
            ],
            [
             0.4444444444444444,
             "#bd3786"
            ],
            [
             0.5555555555555556,
             "#d8576b"
            ],
            [
             0.6666666666666666,
             "#ed7953"
            ],
            [
             0.7777777777777778,
             "#fb9f3a"
            ],
            [
             0.8888888888888888,
             "#fdca26"
            ],
            [
             1,
             "#f0f921"
            ]
           ]
          },
          "colorway": [
           "#636efa",
           "#EF553B",
           "#00cc96",
           "#ab63fa",
           "#FFA15A",
           "#19d3f3",
           "#FF6692",
           "#B6E880",
           "#FF97FF",
           "#FECB52"
          ],
          "font": {
           "color": "#2a3f5f"
          },
          "geo": {
           "bgcolor": "white",
           "lakecolor": "white",
           "landcolor": "#E5ECF6",
           "showlakes": true,
           "showland": true,
           "subunitcolor": "white"
          },
          "hoverlabel": {
           "align": "left"
          },
          "hovermode": "closest",
          "mapbox": {
           "style": "light"
          },
          "paper_bgcolor": "white",
          "plot_bgcolor": "#E5ECF6",
          "polar": {
           "angularaxis": {
            "gridcolor": "white",
            "linecolor": "white",
            "ticks": ""
           },
           "bgcolor": "#E5ECF6",
           "radialaxis": {
            "gridcolor": "white",
            "linecolor": "white",
            "ticks": ""
           }
          },
          "scene": {
           "xaxis": {
            "backgroundcolor": "#E5ECF6",
            "gridcolor": "white",
            "gridwidth": 2,
            "linecolor": "white",
            "showbackground": true,
            "ticks": "",
            "zerolinecolor": "white"
           },
           "yaxis": {
            "backgroundcolor": "#E5ECF6",
            "gridcolor": "white",
            "gridwidth": 2,
            "linecolor": "white",
            "showbackground": true,
            "ticks": "",
            "zerolinecolor": "white"
           },
           "zaxis": {
            "backgroundcolor": "#E5ECF6",
            "gridcolor": "white",
            "gridwidth": 2,
            "linecolor": "white",
            "showbackground": true,
            "ticks": "",
            "zerolinecolor": "white"
           }
          },
          "shapedefaults": {
           "line": {
            "color": "#2a3f5f"
           }
          },
          "ternary": {
           "aaxis": {
            "gridcolor": "white",
            "linecolor": "white",
            "ticks": ""
           },
           "baxis": {
            "gridcolor": "white",
            "linecolor": "white",
            "ticks": ""
           },
           "bgcolor": "#E5ECF6",
           "caxis": {
            "gridcolor": "white",
            "linecolor": "white",
            "ticks": ""
           }
          },
          "title": {
           "x": 0.05
          },
          "xaxis": {
           "automargin": true,
           "gridcolor": "white",
           "linecolor": "white",
           "ticks": "",
           "title": {
            "standoff": 15
           },
           "zerolinecolor": "white",
           "zerolinewidth": 2
          },
          "yaxis": {
           "automargin": true,
           "gridcolor": "white",
           "linecolor": "white",
           "ticks": "",
           "title": {
            "standoff": 15
           },
           "zerolinecolor": "white",
           "zerolinewidth": 2
          }
         }
        },
        "title": {
         "font": {
          "color": "white",
          "size": 20
         },
         "text": "Boxplot, Histograma e Scatter Plot de Taxa Cardiaca",
         "x": 0.5,
         "xanchor": "center",
         "y": 0.95
        },
        "width": 1200,
        "xaxis": {
         "anchor": "y",
         "domain": [
          0,
          0.2888888888888889
         ],
         "showgrid": false
        },
        "xaxis2": {
         "anchor": "y2",
         "domain": [
          0.35555555555555557,
          0.6444444444444445
         ],
         "showgrid": false
        },
        "xaxis3": {
         "anchor": "y3",
         "domain": [
          0.7111111111111111,
          1
         ],
         "showgrid": false
        },
        "yaxis": {
         "anchor": "x",
         "domain": [
          0,
          1
         ],
         "showgrid": false
        },
        "yaxis2": {
         "anchor": "x2",
         "domain": [
          0,
          1
         ],
         "showgrid": false
        },
        "yaxis3": {
         "anchor": "x3",
         "domain": [
          0,
          1
         ],
         "showgrid": false
        }
       }
      }
     },
     "metadata": {},
     "output_type": "display_data"
    }
   ],
   "source": [
    "# Coluna thalach\n",
    "\n",
    "# Exibe as estatísticas de 'thalach' no console\n",
    "desc_thalach = data[\"thalach\"].describe()\n",
    "display(HTML(\"<span style='color: lightblue;'>Estatísticas de [thalach]:</span>\"))\n",
    "print(desc_thalach)\n",
    "display(HTML(\"<span style='color: lightblue;'>Gráficos:</span>\"))\n",
    "\n",
    "# Cria uma figura com 3 subplots (1 linha, 3 colunas)\n",
    "fig = make_subplots(\n",
    "    rows=1,\n",
    "    cols=3,\n",
    "    subplot_titles=[\"Boxplot\", \"Histograma\", \"Scatter Plot\"]\n",
    ")\n",
    "\n",
    "# ========== 1) BOXPLOT ==========\n",
    "box_fig = px.box(\n",
    "    data,\n",
    "    y=\"thalach\",\n",
    "    template=\"plotly_dark\",\n",
    "    labels={\"thalach\": \"Taxa Cardiaca\"}\n",
    ")\n",
    "# Adiciona o boxplot ao subplot (coluna 1)\n",
    "for trace in box_fig.data:\n",
    "    fig.add_trace(trace, row=1, col=1)\n",
    "\n",
    "# ========== 2) HISTOGRAMA ==========\n",
    "hist_fig = px.histogram(\n",
    "    data,\n",
    "    x=\"thalach\",\n",
    "    nbins=20,  # Ajuste o número de bins conforme desejar\n",
    "    template=\"plotly_dark\",\n",
    "    labels={\"thalach\": \"Taxa Cardiaca\"}\n",
    ")\n",
    "# Adiciona o histograma ao subplot (coluna 2)\n",
    "for trace in hist_fig.data:\n",
    "    fig.add_trace(trace, row=1, col=2)\n",
    "\n",
    "# ========== 3) SCATTER PLOT ==========\n",
    "# Exemplo de scatter plot relacionando 'thalach' com 'age'\n",
    "scatter_fig = px.scatter(\n",
    "    data,\n",
    "    x=\"age\",\n",
    "    y=\"thalach\",\n",
    "    template=\"plotly_dark\",\n",
    "    labels={\"age\": \"Idade\", \"thalach\": \"Taxa Cardiaca\"}\n",
    ")\n",
    "# Adiciona o scatter plot ao subplot (coluna 3)\n",
    "for trace in scatter_fig.data:\n",
    "    fig.add_trace(trace, row=1, col=3)\n",
    "\n",
    "# Ajustes de layout gerais\n",
    "fig.update_layout(\n",
    "    title={\n",
    "        \"text\": \"Boxplot, Histograma e Scatter Plot de Taxa Cardiaca\",\n",
    "        \"y\": 0.95,\n",
    "        \"x\": 0.5,\n",
    "        \"xanchor\": \"center\",\n",
    "        \"font\": {\"size\": 20, \"color\": \"white\"}\n",
    "    },\n",
    "    showlegend=False,\n",
    "    width=1200,\n",
    "    height=600,\n",
    "    margin=dict(t=80, b=40, l=40, r=40),\n",
    "    paper_bgcolor=\"rgba(0,0,0,0.3)\",\n",
    "    plot_bgcolor=\"rgba(0,0,0,0)\",\n",
    "    font=dict(family=\"Arial\", size=12, color=\"white\")\n",
    ")\n",
    "\n",
    "# Ajustes específicos nos eixos de cada subplot\n",
    "fig.update_xaxes(showgrid=False)\n",
    "fig.update_yaxes(showgrid=False)\n",
    "\n",
    "# Exibe o gráfico\n",
    "fig.show()\n"
   ]
  },
  {
   "cell_type": "markdown",
   "metadata": {
    "id": "yq150UM7OQ2K"
   },
   "source": [
    "### **Conclusão**\n",
    "\n",
    "Após a análise da coluna **thalach** (taxa cardíaca máxima obtida durante um teste de estresse), podemos concluir que:\n",
    "\n",
    "- **Outlier Detectado**: Um outlier foi identificado, mas não é alarmante a ponto de exigir tratamento. No contexto, é possível encontrar pessoas com uma taxa cardíaca de **71** durante o teste de estresse, embora não seja comum, pois a taxa cardíaca geralmente tende a aumentar. Caso houvesse um outlier muito discrepante, seria necessário realizar um tratamento, como substituir o valor pela **média**, **mediana** ou até mesmo removê-lo.\n"
   ]
  },
  {
   "cell_type": "markdown",
   "metadata": {
    "id": "Ycho0yE3OKFg"
   },
   "source": []
  },
  {
   "cell_type": "code",
   "execution_count": 18,
   "metadata": {
    "colab": {
     "base_uri": "https://localhost:8080/",
     "height": 818
    },
    "id": "Ltg3BDi8inhr",
    "outputId": "3d78c664-fb05-428c-c0c9-eb1081bbd267"
   },
   "outputs": [
    {
     "data": {
      "text/html": [
       "<span style='color: lightblue;'>Estatísticas de [oldpeak]:</span>"
      ],
      "text/plain": [
       "<IPython.core.display.HTML object>"
      ]
     },
     "metadata": {},
     "output_type": "display_data"
    },
    {
     "name": "stdout",
     "output_type": "stream",
     "text": [
      "count    302.000000\n",
      "mean       1.037748\n",
      "std        1.162552\n",
      "min        0.000000\n",
      "25%        0.000000\n",
      "50%        0.800000\n",
      "75%        1.600000\n",
      "max        6.200000\n",
      "Name: oldpeak, dtype: float64\n"
     ]
    },
    {
     "data": {
      "text/html": [
       "<span style='color: lightblue;'>Gráficos:</span>"
      ],
      "text/plain": [
       "<IPython.core.display.HTML object>"
      ]
     },
     "metadata": {},
     "output_type": "display_data"
    },
    {
     "data": {
      "application/vnd.plotly.v1+json": {
       "config": {
        "plotlyServerURL": "https://plot.ly"
       },
       "data": [
        {
         "alignmentgroup": "True",
         "hovertemplate": "Depressão do ST=%{y}<extra></extra>",
         "legendgroup": "",
         "marker": {
          "color": "#636efa"
         },
         "name": "",
         "notched": false,
         "offsetgroup": "",
         "orientation": "v",
         "showlegend": false,
         "type": "box",
         "x0": " ",
         "xaxis": "x",
         "y": {
          "bdata": "ZmZmZmZmAkAAAAAAAAAMQGZmZmZmZvY/mpmZmZmZ6T8zMzMzMzPjP5qZmZmZmdk/zczMzMzM9D8AAAAAAAAAAAAAAAAAAOA/mpmZmZmZ+T8zMzMzMzPzP5qZmZmZmck/MzMzMzMz4z/NzMzMzMz8PwAAAAAAAPA/mpmZmZmZ+T8AAAAAAAAAAM3MzMzMzARAAAAAAAAA+D/NzMzMzMz8PwAAAAAAAOA/mpmZmZmZ2T8AAAAAAAAAAAAAAAAAAPA/ZmZmZmZm9j+amZmZmZnZP5qZmZmZmfk/MzMzMzMz4z+amZmZmZnpPzMzMzMzM/M/AAAAAAAAAACamZmZmZnZPwAAAAAAAAAAAAAAAAAA4D9mZmZmZmb2P2ZmZmZmZvY/AAAAAAAAAACamZmZmZn5P5qZmZmZmek/mpmZmZmZ6T8AAAAAAAD4P5qZmZmZmck/AAAAAAAACECamZmZmZnZPwAAAAAAAAAAmpmZmZmZyT8AAAAAAAAAAAAAAAAAAAAAAAAAAAAAAAAAAAAAAAAAAAAAAAAAAOA/mpmZmZmZ2T/NzMzMzMz8PzMzMzMzM+M/AAAAAAAAAACamZmZmZnpPwAAAAAAAAAAAAAAAAAAAAAAAAAAAAAAAAAAAAAAAAAAAAAAAAAAAAAAAAAAAAAAAAAAAAAAAAAAAAAAAAAAAAAAAAAAAAAAAGZmZmZmZvY/MzMzMzMz8z8zMzMzMzPjPwAAAAAAAAAAAAAAAAAAAACamZmZmZnZPwAAAAAAAAAAAAAAAAAAAAAAAAAAAAAAAJqZmZmZmck/ZmZmZmZm9j8zMzMzMzMDQAAAAAAAAAAAAAAAAAAAAAAzMzMzMzPjPwAAAAAAAAAAAAAAAAAAAAAAAAAAAAAAADMzMzMzM/M/MzMzMzMz4z8AAAAAAADwPwAAAAAAAAAAmpmZmZmZ+T8AAAAAAADwPwAAAAAAAAAAAAAAAAAAAAAAAAAAAAAAAAAAAAAAAAAAAAAAAAAAAAAAAAAAAAAAADMzMzMzM/M/mpmZmZmZuT9mZmZmZmb+PwAAAAAAAAAAmpmZmZmZ6T/NzMzMzMwQQAAAAAAAAAAAmpmZmZmZ6T8AAAAAAAAAAAAAAAAAAPg/mpmZmZmZuT+amZmZmZnJP5qZmZmZmfE/AAAAAAAAAAAAAAAAAAAAAJqZmZmZmck/mpmZmZmZyT8AAAAAAAAAAAAAAAAAAAAAAAAAAAAAAAAAAAAAAAAAQGZmZmZmZv4/AAAAAAAAAAAAAAAAAAAAAAAAAAAAAABAAAAAAAAAAAAAAAAAAAAAAAAAAAAAAAAAAAAAAAAAAABmZmZmZmbmP5qZmZmZmbk/AAAAAAAAAACamZmZmZm5P5qZmZmZmck/AAAAAAAAAAAAAAAAAAAAAAAAAAAAAAAAAAAAAAAAAAAAAAAAAAAAAAAAAAAAAAAAAAAAAAAAAAAAAAAAAAAAAAAAAAAAAPg/mpmZmZmZyT8zMzMzMzPjPzMzMzMzM/M/AAAAAAAAAAAzMzMzMzPTP5qZmZmZmfE/AAAAAAAAAAAzMzMzMzPTP83MzMzMzOw/AAAAAAAAAAAAAAAAAAAAAGZmZmZmZgJAmpmZmZmZ+T8zMzMzMzPjPwAAAAAAAAAAAAAAAAAAAAAzMzMzMzPjPwAAAAAAAAAAAAAAAAAAAACamZmZmZnZPwAAAAAAAAAAAAAAAAAAAAAzMzMzMzPzPwAAAAAAAAAAAAAAAAAAAAAAAAAAAAAAAAAAAAAAAPg/zczMzMzMBEDNzMzMzMwMQGZmZmZmZvY/zczMzMzMCEAzMzMzMzPjPwAAAAAAAPA/zczMzMzM/D+amZmZmZkJQDMzMzMzMwNAAAAAAAAAAEBmZmZmZmb2PwAAAAAAAAAAAAAAAAAABEAzMzMzMzPjPzMzMzMzM/M/AAAAAAAA8D8AAAAAAAAAAAAAAAAAAARAzczMzMzMBEAAAAAAAAAAAGZmZmZmZvY/mpmZmZmZAUAzMzMzMzPjPwAAAAAAAAAAMzMzMzMz8z+amZmZmZkBQGZmZmZmZvY/ZmZmZmZmBkAAAAAAAAAIQDMzMzMzMwtAzczMzMzMDECamZmZmZnJP83MzMzMzPw/MzMzMzMz4z8AAAAAAAAAAGZmZmZmZgZAmpmZmZmZ6T+amZmZmZn5P83MzMzMzBhAAAAAAAAAAAAzMzMzMzPzP83MzMzMzARAAAAAAAAAAEAAAAAAAAAAAJqZmZmZmdk/zczMzMzMDEAzMzMzMzPzPwAAAAAAAPA/MzMzMzMz8z8AAAAAAAAIQDMzMzMzM/M/zczMzMzM/D9mZmZmZmYGQAAAAAAAAAAAAAAAAAAAEEBmZmZmZmYWQGZmZmZmZvY/AAAAAAAAEEBmZmZmZmYGQM3MzMzMzARAZmZmZmZm9j+amZmZmZn5P5qZmZmZmck/zczMzMzM/D8AAAAAAAAAAAAAAAAAAPA/mpmZmZmZ6T+amZmZmZkBQDMzMzMzMwNAmpmZmZmZ+T8AAAAAAAAAADMzMzMzM/M/AAAAAAAAAAAAAAAAAAAAADMzMzMzMwdAAAAAAAAAAAAAAAAAAAAAQDMzMzMzM/M/zczMzMzMAEAAAAAAAADgP2ZmZmZmZv4/AAAAAAAAAAAAAAAAAAAAAAAAAAAAAABAzczMzMzMEECamZmZmZm5P2ZmZmZmZv4/zczMzMzM7D8AAAAAAAAAAAAAAAAAAAAAAAAAAAAACEDNzMzMzMzsP2ZmZmZmZvY/ZmZmZmZmDkAAAAAAAADwPwAAAAAAAAAAAAAAAAAAAEDNzMzMzMz8PwAAAAAAAAAAmpmZmZmZuT8zMzMzMzMLQJqZmZmZmek/mpmZmZmZCUCamZmZmZn5P5qZmZmZmek/zczMzMzMBEAAAAAAAADwP5qZmZmZmbk/AAAAAAAA8D8AAAAAAADwPwAAAAAAAABAMzMzMzMz0z8AAAAAAAAAAM3MzMzMzAxAzczMzMzM/D8AAAAAAADwP5qZmZmZmQFAAAAAAAAAAABmZmZmZmb+P83MzMzMzPw/mpmZmZmZ6T8AAAAAAAAAAAAAAAAAAAhAAAAAAAAAAEAAAAAAAAAAAJqZmZmZmRFAZmZmZmZmBkCamZmZmZnpP2ZmZmZmZgZAAAAAAAAAEEAAAAAAAAAAAAAAAAAAAPA/mpmZmZmZyT8zMzMzMzPzPzMzMzMzMwtAMzMzMzMz8z8AAAAAAAAAAA==",
          "dtype": "f8"
         },
         "y0": " ",
         "yaxis": "y"
        },
        {
         "bingroup": "x",
         "hovertemplate": "Depressão do ST=%{x}<br>count=%{y}<extra></extra>",
         "legendgroup": "",
         "marker": {
          "color": "#636efa",
          "pattern": {
           "shape": ""
          }
         },
         "name": "",
         "nbinsx": 20,
         "orientation": "v",
         "showlegend": false,
         "type": "histogram",
         "x": {
          "bdata": "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",
          "dtype": "f8"
         },
         "xaxis": "x2",
         "yaxis": "y2"
        },
        {
         "hovertemplate": "Idade=%{x}<br>Depressão do ST=%{y}<extra></extra>",
         "legendgroup": "",
         "marker": {
          "color": "#636efa",
          "symbol": "circle"
         },
         "mode": "markers",
         "name": "",
         "orientation": "v",
         "showlegend": false,
         "type": "scatter",
         "x": {
          "bdata": "PyUpODk5OCw0OTYwMUA6MjpCK0U7LCo9KEc7M0E1KUEsNjMuNjZBQTMwLTUnNCwvNTUzQj4sPzQwLSI5RzY0KTojMy0sPjYzHTMrNzM7NDopLTw0KkQuNjowOTQ2LTU+NCs1Kjs/KjJERS0yMkA5QCs3JSk4Li5AOyk2JyIvQzRKNjEqKSkxPD45QDMrKkNMRiw8LCpCR0BCJzovIzo4ODcpJiZDQz4/NTgwOjo8KDxAKzk3QT06Miw8NjIpMzo2PDw7LkM+QSw8OkQ+NDs8MTs5PSc9OCs+P0EwPzdBODZGPiM7QC85N0BGMzo8TSNGO0A5ODA4QjZFMys+QzstOjI+JkI0NT82QjcxNjguPUM6LzQ6OTo9KjQ7KD0uOzk5Nz06OkMsPz87OS1EOTk=",
          "dtype": "i1"
         },
         "xaxis": "x3",
         "y": {
          "bdata": "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",
          "dtype": "f8"
         },
         "yaxis": "y3"
        }
       ],
       "layout": {
        "annotations": [
         {
          "font": {
           "size": 16
          },
          "showarrow": false,
          "text": "Boxplot",
          "x": 0.14444444444444446,
          "xanchor": "center",
          "xref": "paper",
          "y": 1,
          "yanchor": "bottom",
          "yref": "paper"
         },
         {
          "font": {
           "size": 16
          },
          "showarrow": false,
          "text": "Histograma",
          "x": 0.5,
          "xanchor": "center",
          "xref": "paper",
          "y": 1,
          "yanchor": "bottom",
          "yref": "paper"
         },
         {
          "font": {
           "size": 16
          },
          "showarrow": false,
          "text": "Scatter Plot",
          "x": 0.8555555555555556,
          "xanchor": "center",
          "xref": "paper",
          "y": 1,
          "yanchor": "bottom",
          "yref": "paper"
         }
        ],
        "font": {
         "color": "white",
         "family": "Arial",
         "size": 12
        },
        "height": 600,
        "margin": {
         "b": 40,
         "l": 40,
         "r": 40,
         "t": 80
        },
        "paper_bgcolor": "rgba(0,0,0,0.3)",
        "plot_bgcolor": "rgba(0,0,0,0)",
        "showlegend": false,
        "template": {
         "data": {
          "bar": [
           {
            "error_x": {
             "color": "#2a3f5f"
            },
            "error_y": {
             "color": "#2a3f5f"
            },
            "marker": {
             "line": {
              "color": "#E5ECF6",
              "width": 0.5
             },
             "pattern": {
              "fillmode": "overlay",
              "size": 10,
              "solidity": 0.2
             }
            },
            "type": "bar"
           }
          ],
          "barpolar": [
           {
            "marker": {
             "line": {
              "color": "#E5ECF6",
              "width": 0.5
             },
             "pattern": {
              "fillmode": "overlay",
              "size": 10,
              "solidity": 0.2
             }
            },
            "type": "barpolar"
           }
          ],
          "carpet": [
           {
            "aaxis": {
             "endlinecolor": "#2a3f5f",
             "gridcolor": "white",
             "linecolor": "white",
             "minorgridcolor": "white",
             "startlinecolor": "#2a3f5f"
            },
            "baxis": {
             "endlinecolor": "#2a3f5f",
             "gridcolor": "white",
             "linecolor": "white",
             "minorgridcolor": "white",
             "startlinecolor": "#2a3f5f"
            },
            "type": "carpet"
           }
          ],
          "choropleth": [
           {
            "colorbar": {
             "outlinewidth": 0,
             "ticks": ""
            },
            "type": "choropleth"
           }
          ],
          "contour": [
           {
            "colorbar": {
             "outlinewidth": 0,
             "ticks": ""
            },
            "colorscale": [
             [
              0,
              "#0d0887"
             ],
             [
              0.1111111111111111,
              "#46039f"
             ],
             [
              0.2222222222222222,
              "#7201a8"
             ],
             [
              0.3333333333333333,
              "#9c179e"
             ],
             [
              0.4444444444444444,
              "#bd3786"
             ],
             [
              0.5555555555555556,
              "#d8576b"
             ],
             [
              0.6666666666666666,
              "#ed7953"
             ],
             [
              0.7777777777777778,
              "#fb9f3a"
             ],
             [
              0.8888888888888888,
              "#fdca26"
             ],
             [
              1,
              "#f0f921"
             ]
            ],
            "type": "contour"
           }
          ],
          "contourcarpet": [
           {
            "colorbar": {
             "outlinewidth": 0,
             "ticks": ""
            },
            "type": "contourcarpet"
           }
          ],
          "heatmap": [
           {
            "colorbar": {
             "outlinewidth": 0,
             "ticks": ""
            },
            "colorscale": [
             [
              0,
              "#0d0887"
             ],
             [
              0.1111111111111111,
              "#46039f"
             ],
             [
              0.2222222222222222,
              "#7201a8"
             ],
             [
              0.3333333333333333,
              "#9c179e"
             ],
             [
              0.4444444444444444,
              "#bd3786"
             ],
             [
              0.5555555555555556,
              "#d8576b"
             ],
             [
              0.6666666666666666,
              "#ed7953"
             ],
             [
              0.7777777777777778,
              "#fb9f3a"
             ],
             [
              0.8888888888888888,
              "#fdca26"
             ],
             [
              1,
              "#f0f921"
             ]
            ],
            "type": "heatmap"
           }
          ],
          "histogram": [
           {
            "marker": {
             "pattern": {
              "fillmode": "overlay",
              "size": 10,
              "solidity": 0.2
             }
            },
            "type": "histogram"
           }
          ],
          "histogram2d": [
           {
            "colorbar": {
             "outlinewidth": 0,
             "ticks": ""
            },
            "colorscale": [
             [
              0,
              "#0d0887"
             ],
             [
              0.1111111111111111,
              "#46039f"
             ],
             [
              0.2222222222222222,
              "#7201a8"
             ],
             [
              0.3333333333333333,
              "#9c179e"
             ],
             [
              0.4444444444444444,
              "#bd3786"
             ],
             [
              0.5555555555555556,
              "#d8576b"
             ],
             [
              0.6666666666666666,
              "#ed7953"
             ],
             [
              0.7777777777777778,
              "#fb9f3a"
             ],
             [
              0.8888888888888888,
              "#fdca26"
             ],
             [
              1,
              "#f0f921"
             ]
            ],
            "type": "histogram2d"
           }
          ],
          "histogram2dcontour": [
           {
            "colorbar": {
             "outlinewidth": 0,
             "ticks": ""
            },
            "colorscale": [
             [
              0,
              "#0d0887"
             ],
             [
              0.1111111111111111,
              "#46039f"
             ],
             [
              0.2222222222222222,
              "#7201a8"
             ],
             [
              0.3333333333333333,
              "#9c179e"
             ],
             [
              0.4444444444444444,
              "#bd3786"
             ],
             [
              0.5555555555555556,
              "#d8576b"
             ],
             [
              0.6666666666666666,
              "#ed7953"
             ],
             [
              0.7777777777777778,
              "#fb9f3a"
             ],
             [
              0.8888888888888888,
              "#fdca26"
             ],
             [
              1,
              "#f0f921"
             ]
            ],
            "type": "histogram2dcontour"
           }
          ],
          "mesh3d": [
           {
            "colorbar": {
             "outlinewidth": 0,
             "ticks": ""
            },
            "type": "mesh3d"
           }
          ],
          "parcoords": [
           {
            "line": {
             "colorbar": {
              "outlinewidth": 0,
              "ticks": ""
             }
            },
            "type": "parcoords"
           }
          ],
          "pie": [
           {
            "automargin": true,
            "type": "pie"
           }
          ],
          "scatter": [
           {
            "fillpattern": {
             "fillmode": "overlay",
             "size": 10,
             "solidity": 0.2
            },
            "type": "scatter"
           }
          ],
          "scatter3d": [
           {
            "line": {
             "colorbar": {
              "outlinewidth": 0,
              "ticks": ""
             }
            },
            "marker": {
             "colorbar": {
              "outlinewidth": 0,
              "ticks": ""
             }
            },
            "type": "scatter3d"
           }
          ],
          "scattercarpet": [
           {
            "marker": {
             "colorbar": {
              "outlinewidth": 0,
              "ticks": ""
             }
            },
            "type": "scattercarpet"
           }
          ],
          "scattergeo": [
           {
            "marker": {
             "colorbar": {
              "outlinewidth": 0,
              "ticks": ""
             }
            },
            "type": "scattergeo"
           }
          ],
          "scattergl": [
           {
            "marker": {
             "colorbar": {
              "outlinewidth": 0,
              "ticks": ""
             }
            },
            "type": "scattergl"
           }
          ],
          "scattermap": [
           {
            "marker": {
             "colorbar": {
              "outlinewidth": 0,
              "ticks": ""
             }
            },
            "type": "scattermap"
           }
          ],
          "scattermapbox": [
           {
            "marker": {
             "colorbar": {
              "outlinewidth": 0,
              "ticks": ""
             }
            },
            "type": "scattermapbox"
           }
          ],
          "scatterpolar": [
           {
            "marker": {
             "colorbar": {
              "outlinewidth": 0,
              "ticks": ""
             }
            },
            "type": "scatterpolar"
           }
          ],
          "scatterpolargl": [
           {
            "marker": {
             "colorbar": {
              "outlinewidth": 0,
              "ticks": ""
             }
            },
            "type": "scatterpolargl"
           }
          ],
          "scatterternary": [
           {
            "marker": {
             "colorbar": {
              "outlinewidth": 0,
              "ticks": ""
             }
            },
            "type": "scatterternary"
           }
          ],
          "surface": [
           {
            "colorbar": {
             "outlinewidth": 0,
             "ticks": ""
            },
            "colorscale": [
             [
              0,
              "#0d0887"
             ],
             [
              0.1111111111111111,
              "#46039f"
             ],
             [
              0.2222222222222222,
              "#7201a8"
             ],
             [
              0.3333333333333333,
              "#9c179e"
             ],
             [
              0.4444444444444444,
              "#bd3786"
             ],
             [
              0.5555555555555556,
              "#d8576b"
             ],
             [
              0.6666666666666666,
              "#ed7953"
             ],
             [
              0.7777777777777778,
              "#fb9f3a"
             ],
             [
              0.8888888888888888,
              "#fdca26"
             ],
             [
              1,
              "#f0f921"
             ]
            ],
            "type": "surface"
           }
          ],
          "table": [
           {
            "cells": {
             "fill": {
              "color": "#EBF0F8"
             },
             "line": {
              "color": "white"
             }
            },
            "header": {
             "fill": {
              "color": "#C8D4E3"
             },
             "line": {
              "color": "white"
             }
            },
            "type": "table"
           }
          ]
         },
         "layout": {
          "annotationdefaults": {
           "arrowcolor": "#2a3f5f",
           "arrowhead": 0,
           "arrowwidth": 1
          },
          "autotypenumbers": "strict",
          "coloraxis": {
           "colorbar": {
            "outlinewidth": 0,
            "ticks": ""
           }
          },
          "colorscale": {
           "diverging": [
            [
             0,
             "#8e0152"
            ],
            [
             0.1,
             "#c51b7d"
            ],
            [
             0.2,
             "#de77ae"
            ],
            [
             0.3,
             "#f1b6da"
            ],
            [
             0.4,
             "#fde0ef"
            ],
            [
             0.5,
             "#f7f7f7"
            ],
            [
             0.6,
             "#e6f5d0"
            ],
            [
             0.7,
             "#b8e186"
            ],
            [
             0.8,
             "#7fbc41"
            ],
            [
             0.9,
             "#4d9221"
            ],
            [
             1,
             "#276419"
            ]
           ],
           "sequential": [
            [
             0,
             "#0d0887"
            ],
            [
             0.1111111111111111,
             "#46039f"
            ],
            [
             0.2222222222222222,
             "#7201a8"
            ],
            [
             0.3333333333333333,
             "#9c179e"
            ],
            [
             0.4444444444444444,
             "#bd3786"
            ],
            [
             0.5555555555555556,
             "#d8576b"
            ],
            [
             0.6666666666666666,
             "#ed7953"
            ],
            [
             0.7777777777777778,
             "#fb9f3a"
            ],
            [
             0.8888888888888888,
             "#fdca26"
            ],
            [
             1,
             "#f0f921"
            ]
           ],
           "sequentialminus": [
            [
             0,
             "#0d0887"
            ],
            [
             0.1111111111111111,
             "#46039f"
            ],
            [
             0.2222222222222222,
             "#7201a8"
            ],
            [
             0.3333333333333333,
             "#9c179e"
            ],
            [
             0.4444444444444444,
             "#bd3786"
            ],
            [
             0.5555555555555556,
             "#d8576b"
            ],
            [
             0.6666666666666666,
             "#ed7953"
            ],
            [
             0.7777777777777778,
             "#fb9f3a"
            ],
            [
             0.8888888888888888,
             "#fdca26"
            ],
            [
             1,
             "#f0f921"
            ]
           ]
          },
          "colorway": [
           "#636efa",
           "#EF553B",
           "#00cc96",
           "#ab63fa",
           "#FFA15A",
           "#19d3f3",
           "#FF6692",
           "#B6E880",
           "#FF97FF",
           "#FECB52"
          ],
          "font": {
           "color": "#2a3f5f"
          },
          "geo": {
           "bgcolor": "white",
           "lakecolor": "white",
           "landcolor": "#E5ECF6",
           "showlakes": true,
           "showland": true,
           "subunitcolor": "white"
          },
          "hoverlabel": {
           "align": "left"
          },
          "hovermode": "closest",
          "mapbox": {
           "style": "light"
          },
          "paper_bgcolor": "white",
          "plot_bgcolor": "#E5ECF6",
          "polar": {
           "angularaxis": {
            "gridcolor": "white",
            "linecolor": "white",
            "ticks": ""
           },
           "bgcolor": "#E5ECF6",
           "radialaxis": {
            "gridcolor": "white",
            "linecolor": "white",
            "ticks": ""
           }
          },
          "scene": {
           "xaxis": {
            "backgroundcolor": "#E5ECF6",
            "gridcolor": "white",
            "gridwidth": 2,
            "linecolor": "white",
            "showbackground": true,
            "ticks": "",
            "zerolinecolor": "white"
           },
           "yaxis": {
            "backgroundcolor": "#E5ECF6",
            "gridcolor": "white",
            "gridwidth": 2,
            "linecolor": "white",
            "showbackground": true,
            "ticks": "",
            "zerolinecolor": "white"
           },
           "zaxis": {
            "backgroundcolor": "#E5ECF6",
            "gridcolor": "white",
            "gridwidth": 2,
            "linecolor": "white",
            "showbackground": true,
            "ticks": "",
            "zerolinecolor": "white"
           }
          },
          "shapedefaults": {
           "line": {
            "color": "#2a3f5f"
           }
          },
          "ternary": {
           "aaxis": {
            "gridcolor": "white",
            "linecolor": "white",
            "ticks": ""
           },
           "baxis": {
            "gridcolor": "white",
            "linecolor": "white",
            "ticks": ""
           },
           "bgcolor": "#E5ECF6",
           "caxis": {
            "gridcolor": "white",
            "linecolor": "white",
            "ticks": ""
           }
          },
          "title": {
           "x": 0.05
          },
          "xaxis": {
           "automargin": true,
           "gridcolor": "white",
           "linecolor": "white",
           "ticks": "",
           "title": {
            "standoff": 15
           },
           "zerolinecolor": "white",
           "zerolinewidth": 2
          },
          "yaxis": {
           "automargin": true,
           "gridcolor": "white",
           "linecolor": "white",
           "ticks": "",
           "title": {
            "standoff": 15
           },
           "zerolinecolor": "white",
           "zerolinewidth": 2
          }
         }
        },
        "title": {
         "font": {
          "color": "white",
          "size": 20
         },
         "text": "Boxplot, Histograma e Scatter Plot da Depressão do segmento ST induzida pelo exercício em relação ao repouso",
         "x": 0.5,
         "xanchor": "center",
         "y": 0.95
        },
        "width": 1200,
        "xaxis": {
         "anchor": "y",
         "domain": [
          0,
          0.2888888888888889
         ],
         "showgrid": false
        },
        "xaxis2": {
         "anchor": "y2",
         "domain": [
          0.35555555555555557,
          0.6444444444444445
         ],
         "showgrid": false
        },
        "xaxis3": {
         "anchor": "y3",
         "domain": [
          0.7111111111111111,
          1
         ],
         "showgrid": false
        },
        "yaxis": {
         "anchor": "x",
         "domain": [
          0,
          1
         ],
         "showgrid": false
        },
        "yaxis2": {
         "anchor": "x2",
         "domain": [
          0,
          1
         ],
         "showgrid": false
        },
        "yaxis3": {
         "anchor": "x3",
         "domain": [
          0,
          1
         ],
         "showgrid": false
        }
       }
      }
     },
     "metadata": {},
     "output_type": "display_data"
    }
   ],
   "source": [
    "# Coluna oldpeak\n",
    "\n",
    "# Exibe as estatísticas de 'oldpeak' no console\n",
    "desc_oldpeak = data[\"oldpeak\"].describe()\n",
    "display(HTML(\"<span style='color: lightblue;'>Estatísticas de [oldpeak]:</span>\"))\n",
    "print(desc_oldpeak)\n",
    "display(HTML(\"<span style='color: lightblue;'>Gráficos:</span>\"))\n",
    "\n",
    "# Cria uma figura com 3 subplots (1 linha, 3 colunas)\n",
    "fig = make_subplots(\n",
    "    rows=1,\n",
    "    cols=3,\n",
    "    subplot_titles=[\"Boxplot\", \"Histograma\", \"Scatter Plot\"]\n",
    ")\n",
    "\n",
    "# ========== 1) BOXPLOT ==========\n",
    "box_fig = px.box(\n",
    "    data,\n",
    "    y=\"oldpeak\",\n",
    "    template=\"plotly_dark\",\n",
    "    labels={\"oldpeak\": \"Depressão do ST\"}\n",
    ")\n",
    "# Adiciona o boxplot ao subplot (coluna 1)\n",
    "for trace in box_fig.data:\n",
    "    fig.add_trace(trace, row=1, col=1)\n",
    "\n",
    "# ========== 2) HISTOGRAMA ==========\n",
    "hist_fig = px.histogram(\n",
    "    data,\n",
    "    x=\"oldpeak\",\n",
    "    nbins=20,  # Ajuste o número de bins conforme desejar\n",
    "    template=\"plotly_dark\",\n",
    "    labels={\"oldpeak\": \"Depressão do ST\"}\n",
    ")\n",
    "# Adiciona o histograma ao subplot (coluna 2)\n",
    "for trace in hist_fig.data:\n",
    "    fig.add_trace(trace, row=1, col=2)\n",
    "\n",
    "# ========== 3) SCATTER PLOT ==========\n",
    "# Exemplo de scatter plot relacionando 'oldpeak' com 'age'\n",
    "scatter_fig = px.scatter(\n",
    "    data,\n",
    "    x=\"age\",\n",
    "    y=\"oldpeak\",\n",
    "    template=\"plotly_dark\",\n",
    "    labels={\"age\": \"Idade\", \"oldpeak\": \"Depressão do ST\"}\n",
    ")\n",
    "# Adiciona o scatter plot ao subplot (coluna 3)\n",
    "for trace in scatter_fig.data:\n",
    "    fig.add_trace(trace, row=1, col=3)\n",
    "\n",
    "# Ajustes de layout gerais\n",
    "fig.update_layout(\n",
    "    title={\n",
    "        \"text\": \"Boxplot, Histograma e Scatter Plot da Depressão do segmento ST induzida pelo exercício em relação ao repouso\",\n",
    "        \"y\": 0.95,\n",
    "        \"x\": 0.5,\n",
    "        \"xanchor\": \"center\",\n",
    "        \"font\": {\"size\": 20, \"color\": \"white\"}\n",
    "    },\n",
    "    showlegend=False,\n",
    "    width=1200,\n",
    "    height=600,\n",
    "    margin=dict(t=80, b=40, l=40, r=40),\n",
    "    paper_bgcolor=\"rgba(0,0,0,0.3)\",\n",
    "    plot_bgcolor=\"rgba(0,0,0,0)\",\n",
    "    font=dict(family=\"Arial\", size=12, color=\"white\")\n",
    ")\n",
    "\n",
    "# Ajustes específicos nos eixos de cada subplot\n",
    "fig.update_xaxes(showgrid=False)\n",
    "fig.update_yaxes(showgrid=False)\n",
    "\n",
    "# Exibe o gráfico\n",
    "fig.show()"
   ]
  },
  {
   "cell_type": "markdown",
   "metadata": {
    "id": "7LoonRXkpxtM"
   },
   "source": []
  },
  {
   "cell_type": "markdown",
   "metadata": {
    "id": "ovTF_CRgp1Pn"
   },
   "source": [
    "### **Conclusão**\n",
    "\n",
    "Após a análise da coluna **oldpeak** (alteração observada no eletrocardiograma (ECG) durante o exercício), podemos concluir que:\n",
    "\n",
    "- **Outliers Detectados**: Dados acima do limite superior são considerados raros na prática clínica, pois **depressões do segmento ST superiores a 2 mm** são clinicamente significativas. Para tratar essa coluna, uma abordagem adequada seria estabelecer um limiar e **excluir linhas** com depressões superiores a **4.0 mm**. Isso ajuda a normalizar os dados, e foi comprovado que a **ausência desses outliers melhora o desempenho** dos modelos preditivos, com base em testes comparativos realizados.\n"
   ]
  },
  {
   "cell_type": "markdown",
   "metadata": {
    "id": "rvscY4jWj_cd"
   },
   "source": [
    "### **Tratamento da coluna**"
   ]
  },
  {
   "cell_type": "code",
   "execution_count": 19,
   "metadata": {
    "id": "w07JHxjhsiIu"
   },
   "outputs": [],
   "source": [
    "# Filtra as linhas onde os valores de 'oldpeak' são menores ou iguais a 4.0\n",
    "data = data.loc[data['oldpeak'] < 4.0]"
   ]
  },
  {
   "cell_type": "code",
   "execution_count": 20,
   "metadata": {
    "colab": {
     "base_uri": "https://localhost:8080/"
    },
    "id": "Oozr93BxsiuS",
    "outputId": "398fbdc2-ae65-40bf-e6c7-bc9b24757f0a"
   },
   "outputs": [
    {
     "name": "stdout",
     "output_type": "stream",
     "text": [
      "Outliers removido\n"
     ]
    }
   ],
   "source": [
    "# Verificando se o mesmo foi removido\n",
    "print(\"Outliers removido\") if data.loc[data['oldpeak'] > 4.0].empty else print(\"Falha ao remover outliers!\")"
   ]
  },
  {
   "cell_type": "code",
   "execution_count": 21,
   "metadata": {
    "colab": {
     "base_uri": "https://localhost:8080/",
     "height": 523
    },
    "id": "AUJCrsnczF7k",
    "outputId": "74b23a72-788c-48bd-b390-e2992eae6e3d"
   },
   "outputs": [
    {
     "data": {
      "text/plain": [
       "age         0\n",
       "sex         0\n",
       "cp          0\n",
       "trestbps    0\n",
       "chol        0\n",
       "fbs         0\n",
       "restecg     0\n",
       "thalach     0\n",
       "exang       0\n",
       "oldpeak     0\n",
       "slope       0\n",
       "ca          0\n",
       "thal        0\n",
       "target      0\n",
       "dtype: int64"
      ]
     },
     "execution_count": 21,
     "metadata": {},
     "output_type": "execute_result"
    }
   ],
   "source": [
    "# Busca por valores faltantes (Na´s)\n",
    "data.isnull().sum()"
   ]
  },
  {
   "cell_type": "markdown",
   "metadata": {
    "id": "Mh2DPKnXGCJ0"
   },
   "source": [
    "## **Preparativos para os Modelos**"
   ]
  },
  {
   "cell_type": "code",
   "execution_count": 22,
   "metadata": {
    "colab": {
     "base_uri": "https://localhost:8080/",
     "height": 917
    },
    "id": "zbSZosIfHdd9",
    "outputId": "f9efba1c-262f-4052-9e6d-7e74c08b621c"
   },
   "outputs": [
    {
     "data": {
      "application/vnd.plotly.v1+json": {
       "config": {
        "plotlyServerURL": "https://plot.ly"
       },
       "data": [
        {
         "coloraxis": "coloraxis",
         "hovertemplate": "Variáveis: %{x}<br>Variáveis: %{y}<br>Correlação: %{z}<extra></extra>",
         "name": "0",
         "textfont": {
          "size": 12
         },
         "texttemplate": "%{z}",
         "type": "heatmap",
         "x": [
          "age",
          "sex",
          "cp",
          "trestbps",
          "chol",
          "fbs",
          "restecg",
          "thalach",
          "exang",
          "oldpeak",
          "slope",
          "ca",
          "thal",
          "target"
         ],
         "xaxis": "x",
         "y": [
          "age",
          "sex",
          "cp",
          "trestbps",
          "chol",
          "fbs",
          "restecg",
          "thalach",
          "exang",
          "oldpeak",
          "slope",
          "ca",
          "thal",
          "target"
         ],
         "yaxis": "y",
         "z": {
          "bdata": "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",
          "dtype": "f8",
          "shape": "14, 14"
         }
        }
       ],
       "layout": {
        "coloraxis": {
         "cmax": 1,
         "cmin": -1,
         "colorbar": {
          "tickfont": {
           "size": 14
          },
          "title": {
           "font": {
            "size": 16
           },
           "text": "Correlação"
          }
         },
         "colorscale": [
          [
           0,
           "rgb(5,48,97)"
          ],
          [
           0.1,
           "rgb(33,102,172)"
          ],
          [
           0.2,
           "rgb(67,147,195)"
          ],
          [
           0.3,
           "rgb(146,197,222)"
          ],
          [
           0.4,
           "rgb(209,229,240)"
          ],
          [
           0.5,
           "rgb(247,247,247)"
          ],
          [
           0.6,
           "rgb(253,219,199)"
          ],
          [
           0.7,
           "rgb(244,165,130)"
          ],
          [
           0.8,
           "rgb(214,96,77)"
          ],
          [
           0.9,
           "rgb(178,24,43)"
          ],
          [
           1,
           "rgb(103,0,31)"
          ]
         ]
        },
        "height": 900,
        "margin": {
         "b": 80,
         "l": 80,
         "r": 80,
         "t": 100
        },
        "template": {
         "data": {
          "bar": [
           {
            "error_x": {
             "color": "#2a3f5f"
            },
            "error_y": {
             "color": "#2a3f5f"
            },
            "marker": {
             "line": {
              "color": "#E5ECF6",
              "width": 0.5
             },
             "pattern": {
              "fillmode": "overlay",
              "size": 10,
              "solidity": 0.2
             }
            },
            "type": "bar"
           }
          ],
          "barpolar": [
           {
            "marker": {
             "line": {
              "color": "#E5ECF6",
              "width": 0.5
             },
             "pattern": {
              "fillmode": "overlay",
              "size": 10,
              "solidity": 0.2
             }
            },
            "type": "barpolar"
           }
          ],
          "carpet": [
           {
            "aaxis": {
             "endlinecolor": "#2a3f5f",
             "gridcolor": "white",
             "linecolor": "white",
             "minorgridcolor": "white",
             "startlinecolor": "#2a3f5f"
            },
            "baxis": {
             "endlinecolor": "#2a3f5f",
             "gridcolor": "white",
             "linecolor": "white",
             "minorgridcolor": "white",
             "startlinecolor": "#2a3f5f"
            },
            "type": "carpet"
           }
          ],
          "choropleth": [
           {
            "colorbar": {
             "outlinewidth": 0,
             "ticks": ""
            },
            "type": "choropleth"
           }
          ],
          "contour": [
           {
            "colorbar": {
             "outlinewidth": 0,
             "ticks": ""
            },
            "colorscale": [
             [
              0,
              "#0d0887"
             ],
             [
              0.1111111111111111,
              "#46039f"
             ],
             [
              0.2222222222222222,
              "#7201a8"
             ],
             [
              0.3333333333333333,
              "#9c179e"
             ],
             [
              0.4444444444444444,
              "#bd3786"
             ],
             [
              0.5555555555555556,
              "#d8576b"
             ],
             [
              0.6666666666666666,
              "#ed7953"
             ],
             [
              0.7777777777777778,
              "#fb9f3a"
             ],
             [
              0.8888888888888888,
              "#fdca26"
             ],
             [
              1,
              "#f0f921"
             ]
            ],
            "type": "contour"
           }
          ],
          "contourcarpet": [
           {
            "colorbar": {
             "outlinewidth": 0,
             "ticks": ""
            },
            "type": "contourcarpet"
           }
          ],
          "heatmap": [
           {
            "colorbar": {
             "outlinewidth": 0,
             "ticks": ""
            },
            "colorscale": [
             [
              0,
              "#0d0887"
             ],
             [
              0.1111111111111111,
              "#46039f"
             ],
             [
              0.2222222222222222,
              "#7201a8"
             ],
             [
              0.3333333333333333,
              "#9c179e"
             ],
             [
              0.4444444444444444,
              "#bd3786"
             ],
             [
              0.5555555555555556,
              "#d8576b"
             ],
             [
              0.6666666666666666,
              "#ed7953"
             ],
             [
              0.7777777777777778,
              "#fb9f3a"
             ],
             [
              0.8888888888888888,
              "#fdca26"
             ],
             [
              1,
              "#f0f921"
             ]
            ],
            "type": "heatmap"
           }
          ],
          "histogram": [
           {
            "marker": {
             "pattern": {
              "fillmode": "overlay",
              "size": 10,
              "solidity": 0.2
             }
            },
            "type": "histogram"
           }
          ],
          "histogram2d": [
           {
            "colorbar": {
             "outlinewidth": 0,
             "ticks": ""
            },
            "colorscale": [
             [
              0,
              "#0d0887"
             ],
             [
              0.1111111111111111,
              "#46039f"
             ],
             [
              0.2222222222222222,
              "#7201a8"
             ],
             [
              0.3333333333333333,
              "#9c179e"
             ],
             [
              0.4444444444444444,
              "#bd3786"
             ],
             [
              0.5555555555555556,
              "#d8576b"
             ],
             [
              0.6666666666666666,
              "#ed7953"
             ],
             [
              0.7777777777777778,
              "#fb9f3a"
             ],
             [
              0.8888888888888888,
              "#fdca26"
             ],
             [
              1,
              "#f0f921"
             ]
            ],
            "type": "histogram2d"
           }
          ],
          "histogram2dcontour": [
           {
            "colorbar": {
             "outlinewidth": 0,
             "ticks": ""
            },
            "colorscale": [
             [
              0,
              "#0d0887"
             ],
             [
              0.1111111111111111,
              "#46039f"
             ],
             [
              0.2222222222222222,
              "#7201a8"
             ],
             [
              0.3333333333333333,
              "#9c179e"
             ],
             [
              0.4444444444444444,
              "#bd3786"
             ],
             [
              0.5555555555555556,
              "#d8576b"
             ],
             [
              0.6666666666666666,
              "#ed7953"
             ],
             [
              0.7777777777777778,
              "#fb9f3a"
             ],
             [
              0.8888888888888888,
              "#fdca26"
             ],
             [
              1,
              "#f0f921"
             ]
            ],
            "type": "histogram2dcontour"
           }
          ],
          "mesh3d": [
           {
            "colorbar": {
             "outlinewidth": 0,
             "ticks": ""
            },
            "type": "mesh3d"
           }
          ],
          "parcoords": [
           {
            "line": {
             "colorbar": {
              "outlinewidth": 0,
              "ticks": ""
             }
            },
            "type": "parcoords"
           }
          ],
          "pie": [
           {
            "automargin": true,
            "type": "pie"
           }
          ],
          "scatter": [
           {
            "fillpattern": {
             "fillmode": "overlay",
             "size": 10,
             "solidity": 0.2
            },
            "type": "scatter"
           }
          ],
          "scatter3d": [
           {
            "line": {
             "colorbar": {
              "outlinewidth": 0,
              "ticks": ""
             }
            },
            "marker": {
             "colorbar": {
              "outlinewidth": 0,
              "ticks": ""
             }
            },
            "type": "scatter3d"
           }
          ],
          "scattercarpet": [
           {
            "marker": {
             "colorbar": {
              "outlinewidth": 0,
              "ticks": ""
             }
            },
            "type": "scattercarpet"
           }
          ],
          "scattergeo": [
           {
            "marker": {
             "colorbar": {
              "outlinewidth": 0,
              "ticks": ""
             }
            },
            "type": "scattergeo"
           }
          ],
          "scattergl": [
           {
            "marker": {
             "colorbar": {
              "outlinewidth": 0,
              "ticks": ""
             }
            },
            "type": "scattergl"
           }
          ],
          "scattermap": [
           {
            "marker": {
             "colorbar": {
              "outlinewidth": 0,
              "ticks": ""
             }
            },
            "type": "scattermap"
           }
          ],
          "scattermapbox": [
           {
            "marker": {
             "colorbar": {
              "outlinewidth": 0,
              "ticks": ""
             }
            },
            "type": "scattermapbox"
           }
          ],
          "scatterpolar": [
           {
            "marker": {
             "colorbar": {
              "outlinewidth": 0,
              "ticks": ""
             }
            },
            "type": "scatterpolar"
           }
          ],
          "scatterpolargl": [
           {
            "marker": {
             "colorbar": {
              "outlinewidth": 0,
              "ticks": ""
             }
            },
            "type": "scatterpolargl"
           }
          ],
          "scatterternary": [
           {
            "marker": {
             "colorbar": {
              "outlinewidth": 0,
              "ticks": ""
             }
            },
            "type": "scatterternary"
           }
          ],
          "surface": [
           {
            "colorbar": {
             "outlinewidth": 0,
             "ticks": ""
            },
            "colorscale": [
             [
              0,
              "#0d0887"
             ],
             [
              0.1111111111111111,
              "#46039f"
             ],
             [
              0.2222222222222222,
              "#7201a8"
             ],
             [
              0.3333333333333333,
              "#9c179e"
             ],
             [
              0.4444444444444444,
              "#bd3786"
             ],
             [
              0.5555555555555556,
              "#d8576b"
             ],
             [
              0.6666666666666666,
              "#ed7953"
             ],
             [
              0.7777777777777778,
              "#fb9f3a"
             ],
             [
              0.8888888888888888,
              "#fdca26"
             ],
             [
              1,
              "#f0f921"
             ]
            ],
            "type": "surface"
           }
          ],
          "table": [
           {
            "cells": {
             "fill": {
              "color": "#EBF0F8"
             },
             "line": {
              "color": "white"
             }
            },
            "header": {
             "fill": {
              "color": "#C8D4E3"
             },
             "line": {
              "color": "white"
             }
            },
            "type": "table"
           }
          ]
         },
         "layout": {
          "annotationdefaults": {
           "arrowcolor": "#2a3f5f",
           "arrowhead": 0,
           "arrowwidth": 1
          },
          "autotypenumbers": "strict",
          "coloraxis": {
           "colorbar": {
            "outlinewidth": 0,
            "ticks": ""
           }
          },
          "colorscale": {
           "diverging": [
            [
             0,
             "#8e0152"
            ],
            [
             0.1,
             "#c51b7d"
            ],
            [
             0.2,
             "#de77ae"
            ],
            [
             0.3,
             "#f1b6da"
            ],
            [
             0.4,
             "#fde0ef"
            ],
            [
             0.5,
             "#f7f7f7"
            ],
            [
             0.6,
             "#e6f5d0"
            ],
            [
             0.7,
             "#b8e186"
            ],
            [
             0.8,
             "#7fbc41"
            ],
            [
             0.9,
             "#4d9221"
            ],
            [
             1,
             "#276419"
            ]
           ],
           "sequential": [
            [
             0,
             "#0d0887"
            ],
            [
             0.1111111111111111,
             "#46039f"
            ],
            [
             0.2222222222222222,
             "#7201a8"
            ],
            [
             0.3333333333333333,
             "#9c179e"
            ],
            [
             0.4444444444444444,
             "#bd3786"
            ],
            [
             0.5555555555555556,
             "#d8576b"
            ],
            [
             0.6666666666666666,
             "#ed7953"
            ],
            [
             0.7777777777777778,
             "#fb9f3a"
            ],
            [
             0.8888888888888888,
             "#fdca26"
            ],
            [
             1,
             "#f0f921"
            ]
           ],
           "sequentialminus": [
            [
             0,
             "#0d0887"
            ],
            [
             0.1111111111111111,
             "#46039f"
            ],
            [
             0.2222222222222222,
             "#7201a8"
            ],
            [
             0.3333333333333333,
             "#9c179e"
            ],
            [
             0.4444444444444444,
             "#bd3786"
            ],
            [
             0.5555555555555556,
             "#d8576b"
            ],
            [
             0.6666666666666666,
             "#ed7953"
            ],
            [
             0.7777777777777778,
             "#fb9f3a"
            ],
            [
             0.8888888888888888,
             "#fdca26"
            ],
            [
             1,
             "#f0f921"
            ]
           ]
          },
          "colorway": [
           "#636efa",
           "#EF553B",
           "#00cc96",
           "#ab63fa",
           "#FFA15A",
           "#19d3f3",
           "#FF6692",
           "#B6E880",
           "#FF97FF",
           "#FECB52"
          ],
          "font": {
           "color": "#2a3f5f"
          },
          "geo": {
           "bgcolor": "white",
           "lakecolor": "white",
           "landcolor": "#E5ECF6",
           "showlakes": true,
           "showland": true,
           "subunitcolor": "white"
          },
          "hoverlabel": {
           "align": "left"
          },
          "hovermode": "closest",
          "mapbox": {
           "style": "light"
          },
          "paper_bgcolor": "white",
          "plot_bgcolor": "#E5ECF6",
          "polar": {
           "angularaxis": {
            "gridcolor": "white",
            "linecolor": "white",
            "ticks": ""
           },
           "bgcolor": "#E5ECF6",
           "radialaxis": {
            "gridcolor": "white",
            "linecolor": "white",
            "ticks": ""
           }
          },
          "scene": {
           "xaxis": {
            "backgroundcolor": "#E5ECF6",
            "gridcolor": "white",
            "gridwidth": 2,
            "linecolor": "white",
            "showbackground": true,
            "ticks": "",
            "zerolinecolor": "white"
           },
           "yaxis": {
            "backgroundcolor": "#E5ECF6",
            "gridcolor": "white",
            "gridwidth": 2,
            "linecolor": "white",
            "showbackground": true,
            "ticks": "",
            "zerolinecolor": "white"
           },
           "zaxis": {
            "backgroundcolor": "#E5ECF6",
            "gridcolor": "white",
            "gridwidth": 2,
            "linecolor": "white",
            "showbackground": true,
            "ticks": "",
            "zerolinecolor": "white"
           }
          },
          "shapedefaults": {
           "line": {
            "color": "#2a3f5f"
           }
          },
          "ternary": {
           "aaxis": {
            "gridcolor": "white",
            "linecolor": "white",
            "ticks": ""
           },
           "baxis": {
            "gridcolor": "white",
            "linecolor": "white",
            "ticks": ""
           },
           "bgcolor": "#E5ECF6",
           "caxis": {
            "gridcolor": "white",
            "linecolor": "white",
            "ticks": ""
           }
          },
          "title": {
           "x": 0.05
          },
          "xaxis": {
           "automargin": true,
           "gridcolor": "white",
           "linecolor": "white",
           "ticks": "",
           "title": {
            "standoff": 15
           },
           "zerolinecolor": "white",
           "zerolinewidth": 2
          },
          "yaxis": {
           "automargin": true,
           "gridcolor": "white",
           "linecolor": "white",
           "ticks": "",
           "title": {
            "standoff": 15
           },
           "zerolinecolor": "white",
           "zerolinewidth": 2
          }
         }
        },
        "title": {
         "font": {
          "size": 24
         },
         "text": "Matriz de Correlação das Variáveis"
        },
        "width": 900,
        "xaxis": {
         "anchor": "y",
         "constrain": "domain",
         "domain": [
          0,
          1
         ],
         "scaleanchor": "y",
         "showgrid": false,
         "side": "top",
         "tickangle": 45,
         "tickfont": {
          "size": 14
         },
         "title": {
          "text": "Variáveis"
         },
         "zeroline": false
        },
        "yaxis": {
         "anchor": "x",
         "autorange": "reversed",
         "constrain": "domain",
         "domain": [
          0,
          1
         ],
         "showgrid": false,
         "tickfont": {
          "size": 14
         },
         "title": {
          "text": "Variáveis"
         },
         "zeroline": false
        }
       }
      }
     },
     "metadata": {},
     "output_type": "display_data"
    }
   ],
   "source": [
    "# Criação de heatmap para análise da correlação entre as variaveis\n",
    "corr_matrix = data.corr()\n",
    "\n",
    "# Criando o heatmap interativo com Plotly Express\n",
    "fig = px.imshow(\n",
    "    corr_matrix.round(2),            # Arredondando para 2 casas decimais\n",
    "    text_auto=True,                  # Exibe valores dentro das células\n",
    "    color_continuous_scale='RdBu_r', # Escala de cores divergente\n",
    "    zmin=-1,                         # Mínimo da escala de cores\n",
    "    zmax=1,                          # Máximo da escala de cores\n",
    "    title='Matriz de Correlação das Variáveis',\n",
    "    labels=dict(x=\"Variáveis\", y=\"Variáveis\", color=\"Correlação\"),\n",
    "    width=900,   # Largura da figura\n",
    "    height=900   # Altura da figura\n",
    ")\n",
    "\n",
    "# Ajustando o layout do gráfico\n",
    "fig.update_layout(\n",
    "    title_font_size=24,\n",
    "    xaxis_showgrid=False,\n",
    "    yaxis_showgrid=False,\n",
    "    xaxis_zeroline=False,\n",
    "    yaxis_zeroline=False,\n",
    "    xaxis_tickfont_size=14,\n",
    "    yaxis_tickfont_size=14,\n",
    "    coloraxis_colorbar=dict(\n",
    "        title_font_size=16,\n",
    "        tickfont_size=14\n",
    "    ),\n",
    "    margin=dict(l=80, r=80, t=100, b=80)  # Ajuste de margens\n",
    ")\n",
    "\n",
    "# Rotacionando os rótulos do eixo X e movendo-os para cima\n",
    "fig.update_xaxes(side='top', tickangle=45)\n",
    "\n",
    "# Ajustando o tamanho da fonte dos valores de correlação\n",
    "fig.update_traces(textfont_size=12)\n",
    "\n",
    "# Exibindo o gráfico\n",
    "fig.show()\n"
   ]
  },
  {
   "cell_type": "code",
   "execution_count": 23,
   "metadata": {
    "colab": {
     "base_uri": "https://localhost:8080/",
     "height": 523
    },
    "id": "8ykmp5oQQBsn",
    "outputId": "8d8d99df-1618-463c-cf74-840791a5fab1"
   },
   "outputs": [
    {
     "data": {
      "text/plain": [
       "target      1.000000\n",
       "thalach     0.415909\n",
       "cp          0.415453\n",
       "slope       0.341940\n",
       "restecg     0.166754\n",
       "fbs        -0.026752\n",
       "chol       -0.105491\n",
       "trestbps   -0.132834\n",
       "age        -0.225650\n",
       "sex        -0.295074\n",
       "thal       -0.369015\n",
       "oldpeak    -0.427951\n",
       "exang      -0.434158\n",
       "ca         -0.446795\n",
       "Name: target, dtype: float64"
      ]
     },
     "execution_count": 23,
     "metadata": {},
     "output_type": "execute_result"
    }
   ],
   "source": [
    "# Vizualização na celula da correlação das variáveis em relação a variável alvo \"target\"\n",
    "corr_matrix = data.corr()\n",
    "corr_matrix[\"target\"].sort_values(ascending=False)"
   ]
  },
  {
   "cell_type": "markdown",
   "metadata": {
    "id": "TFE5hWMiWKzx"
   },
   "source": [
    "## **Engenharia de Atributos**"
   ]
  },
  {
   "cell_type": "code",
   "execution_count": 24,
   "metadata": {
    "id": "Ina49TXbW3dR"
   },
   "outputs": [],
   "source": [
    "# Remoção da coluna fbs, visto que a mesma tem pouca influencia no modelo\n",
    "data.drop(['fbs'], axis=1, inplace=True)\n"
   ]
  },
  {
   "cell_type": "markdown",
   "metadata": {
    "id": "XUmS_SuyvWbu"
   },
   "source": [
    "### **Explicação das Alterações**\n",
    "\n",
    "Decidi remover uma colunas do conjunto de dados que não apresenta influência significativa na variável alvo:\n",
    "\n",
    "1. **Remoção da coluna `fbs`**  \n",
    "   - Justificativa: A coluna `fbs` (açúcar no sangue em jejum) não demonstrou influência significativa na variável alvo."
   ]
  },
  {
   "cell_type": "code",
   "execution_count": 25,
   "metadata": {
    "colab": {
     "base_uri": "https://localhost:8080/",
     "height": 206
    },
    "id": "uWRUdcuekvMJ",
    "outputId": "0074b7a1-bda9-4fdb-e203-0506836cb50a"
   },
   "outputs": [
    {
     "data": {
      "text/html": [
       "<div>\n",
       "<style scoped>\n",
       "    .dataframe tbody tr th:only-of-type {\n",
       "        vertical-align: middle;\n",
       "    }\n",
       "\n",
       "    .dataframe tbody tr th {\n",
       "        vertical-align: top;\n",
       "    }\n",
       "\n",
       "    .dataframe thead th {\n",
       "        text-align: right;\n",
       "    }\n",
       "</style>\n",
       "<table border=\"1\" class=\"dataframe\">\n",
       "  <thead>\n",
       "    <tr style=\"text-align: right;\">\n",
       "      <th></th>\n",
       "      <th>age</th>\n",
       "      <th>sex</th>\n",
       "      <th>cp</th>\n",
       "      <th>trestbps</th>\n",
       "      <th>chol</th>\n",
       "      <th>restecg</th>\n",
       "      <th>thalach</th>\n",
       "      <th>exang</th>\n",
       "      <th>oldpeak</th>\n",
       "      <th>slope</th>\n",
       "      <th>ca</th>\n",
       "      <th>thal</th>\n",
       "      <th>target</th>\n",
       "    </tr>\n",
       "  </thead>\n",
       "  <tbody>\n",
       "    <tr>\n",
       "      <th>0</th>\n",
       "      <td>63</td>\n",
       "      <td>1</td>\n",
       "      <td>3</td>\n",
       "      <td>145</td>\n",
       "      <td>233</td>\n",
       "      <td>0</td>\n",
       "      <td>150</td>\n",
       "      <td>0</td>\n",
       "      <td>2.3</td>\n",
       "      <td>0</td>\n",
       "      <td>0</td>\n",
       "      <td>1</td>\n",
       "      <td>1</td>\n",
       "    </tr>\n",
       "    <tr>\n",
       "      <th>1</th>\n",
       "      <td>37</td>\n",
       "      <td>1</td>\n",
       "      <td>2</td>\n",
       "      <td>130</td>\n",
       "      <td>250</td>\n",
       "      <td>1</td>\n",
       "      <td>187</td>\n",
       "      <td>0</td>\n",
       "      <td>3.5</td>\n",
       "      <td>0</td>\n",
       "      <td>0</td>\n",
       "      <td>2</td>\n",
       "      <td>1</td>\n",
       "    </tr>\n",
       "    <tr>\n",
       "      <th>2</th>\n",
       "      <td>41</td>\n",
       "      <td>0</td>\n",
       "      <td>1</td>\n",
       "      <td>130</td>\n",
       "      <td>204</td>\n",
       "      <td>0</td>\n",
       "      <td>172</td>\n",
       "      <td>0</td>\n",
       "      <td>1.4</td>\n",
       "      <td>2</td>\n",
       "      <td>0</td>\n",
       "      <td>2</td>\n",
       "      <td>1</td>\n",
       "    </tr>\n",
       "    <tr>\n",
       "      <th>3</th>\n",
       "      <td>56</td>\n",
       "      <td>1</td>\n",
       "      <td>1</td>\n",
       "      <td>120</td>\n",
       "      <td>236</td>\n",
       "      <td>1</td>\n",
       "      <td>178</td>\n",
       "      <td>0</td>\n",
       "      <td>0.8</td>\n",
       "      <td>2</td>\n",
       "      <td>0</td>\n",
       "      <td>2</td>\n",
       "      <td>1</td>\n",
       "    </tr>\n",
       "    <tr>\n",
       "      <th>4</th>\n",
       "      <td>57</td>\n",
       "      <td>0</td>\n",
       "      <td>0</td>\n",
       "      <td>120</td>\n",
       "      <td>354</td>\n",
       "      <td>1</td>\n",
       "      <td>163</td>\n",
       "      <td>1</td>\n",
       "      <td>0.6</td>\n",
       "      <td>2</td>\n",
       "      <td>0</td>\n",
       "      <td>2</td>\n",
       "      <td>1</td>\n",
       "    </tr>\n",
       "  </tbody>\n",
       "</table>\n",
       "</div>"
      ],
      "text/plain": [
       "   age  sex  cp  trestbps  chol  restecg  thalach  exang  oldpeak  slope  ca  \\\n",
       "0   63    1   3       145   233        0      150      0      2.3      0   0   \n",
       "1   37    1   2       130   250        1      187      0      3.5      0   0   \n",
       "2   41    0   1       130   204        0      172      0      1.4      2   0   \n",
       "3   56    1   1       120   236        1      178      0      0.8      2   0   \n",
       "4   57    0   0       120   354        1      163      1      0.6      2   0   \n",
       "\n",
       "   thal  target  \n",
       "0     1       1  \n",
       "1     2       1  \n",
       "2     2       1  \n",
       "3     2       1  \n",
       "4     2       1  "
      ]
     },
     "execution_count": 25,
     "metadata": {},
     "output_type": "execute_result"
    }
   ],
   "source": [
    "# Dataframe final que será utilizado nos modelos\n",
    "data.head(5)"
   ]
  },
  {
   "cell_type": "code",
   "execution_count": 26,
   "metadata": {
    "colab": {
     "base_uri": "https://localhost:8080/"
    },
    "id": "f4x-Racbk2Hd",
    "outputId": "30c2e2fb-2fcd-40fe-df82-0d894cd6f254"
   },
   "outputs": [
    {
     "data": {
      "text/plain": [
       "(294, 13)"
      ]
     },
     "execution_count": 26,
     "metadata": {},
     "output_type": "execute_result"
    }
   ],
   "source": [
    "# Tamanho do df\n",
    "data.shape"
   ]
  },
  {
   "cell_type": "code",
   "execution_count": 27,
   "metadata": {
    "id": "CZS6Y3mpGNex"
   },
   "outputs": [],
   "source": [
    "# Separando as variáveis independentes (X) e dependente (y)\n",
    "X = data.iloc[:, :12].values  # Seleciona as primeiras 11 colunas\n",
    "# Transformação de X para o formato de matriz adicionado um novo eixo (newaxis)\n",
    "X = X.reshape(X.shape[0], -1)\n",
    "y = data.iloc[:, 12].values  # Seleciona a coluna 11 (target)"
   ]
  },
  {
   "cell_type": "code",
   "execution_count": 28,
   "metadata": {
    "colab": {
     "base_uri": "https://localhost:8080/"
    },
    "id": "ew8XjzopGRn3",
    "outputId": "d54b485e-93ea-4be1-a364-5a7560a1bdd7"
   },
   "outputs": [
    {
     "data": {
      "text/plain": [
       "array([1, 1, 1, 1, 1, 1, 1, 1, 1, 1, 1, 1, 1, 1, 1, 1, 1, 1, 1, 1, 1, 1,\n",
       "       1, 1, 1, 1, 1, 1, 1, 1, 1, 1, 1, 1, 1, 1, 1, 1, 1, 1, 1, 1, 1, 1,\n",
       "       1, 1, 1, 1, 1, 1, 1, 1, 1, 1, 1, 1, 1, 1, 1, 1, 1, 1, 1, 1, 1, 1,\n",
       "       1, 1, 1, 1, 1, 1, 1, 1, 1, 1, 1, 1, 1, 1, 1, 1, 1, 1, 1, 1, 1, 1,\n",
       "       1, 1, 1, 1, 1, 1, 1, 1, 1, 1, 1, 1, 1, 1, 1, 1, 1, 1, 1, 1, 1, 1,\n",
       "       1, 1, 1, 1, 1, 1, 1, 1, 1, 1, 1, 1, 1, 1, 1, 1, 1, 1, 1, 1, 1, 1,\n",
       "       1, 1, 1, 1, 1, 1, 1, 1, 1, 1, 1, 1, 1, 1, 1, 1, 1, 1, 1, 1, 1, 1,\n",
       "       1, 1, 1, 1, 1, 1, 1, 1, 1, 0, 0, 0, 0, 0, 0, 0, 0, 0, 0, 0, 0, 0,\n",
       "       0, 0, 0, 0, 0, 0, 0, 0, 0, 0, 0, 0, 0, 0, 0, 0, 0, 0, 0, 0, 0, 0,\n",
       "       0, 0, 0, 0, 0, 0, 0, 0, 0, 0, 0, 0, 0, 0, 0, 0, 0, 0, 0, 0, 0, 0,\n",
       "       0, 0, 0, 0, 0, 0, 0, 0, 0, 0, 0, 0, 0, 0, 0, 0, 0, 0, 0, 0, 0, 0,\n",
       "       0, 0, 0, 0, 0, 0, 0, 0, 0, 0, 0, 0, 0, 0, 0, 0, 0, 0, 0, 0, 0, 0,\n",
       "       0, 0, 0, 0, 0, 0, 0, 0, 0, 0, 0, 0, 0, 0, 0, 0, 0, 0, 0, 0, 0, 0,\n",
       "       0, 0, 0, 0, 0, 0, 0, 0])"
      ]
     },
     "execution_count": 28,
     "metadata": {},
     "output_type": "execute_result"
    }
   ],
   "source": [
    "# Variável alvo\n",
    "y"
   ]
  },
  {
   "cell_type": "markdown",
   "metadata": {
    "id": "-jRlCTQQvsot"
   },
   "source": [
    "## **Aplicação dos Modelos de Machine Learning**\n"
   ]
  },
  {
   "cell_type": "markdown",
   "metadata": {
    "id": "BcwX69oOYbt-"
   },
   "source": [
    "### **Regressão Lógistica**"
   ]
  },
  {
   "cell_type": "code",
   "execution_count": 29,
   "metadata": {
    "id": "ftWJKE2jalAS"
   },
   "outputs": [],
   "source": [
    "# Separação dos dados em 75% para treino e 25% para teste\n",
    "X_train, X_test, y_train, y_test = train_test_split(X, y, test_size=0.25, random_state=42)"
   ]
  },
  {
   "cell_type": "code",
   "execution_count": 30,
   "metadata": {
    "id": "z0TwnRM9ZTLO"
   },
   "outputs": [],
   "source": [
    "# Criação do modelo, treinamento e vizualização dos coeficientes\n",
    "modelo = LogisticRegression(max_iter=200)"
   ]
  },
  {
   "cell_type": "code",
   "execution_count": 31,
   "metadata": {
    "colab": {
     "base_uri": "https://localhost:8080/",
     "height": 80
    },
    "id": "jssme661axlf",
    "outputId": "01a4500f-ae7b-4abb-ba5b-0784a683ea25"
   },
   "outputs": [
    {
     "data": {
      "text/html": [
       "<style>#sk-container-id-1 {\n",
       "  /* Definition of color scheme common for light and dark mode */\n",
       "  --sklearn-color-text: #000;\n",
       "  --sklearn-color-text-muted: #666;\n",
       "  --sklearn-color-line: gray;\n",
       "  /* Definition of color scheme for unfitted estimators */\n",
       "  --sklearn-color-unfitted-level-0: #fff5e6;\n",
       "  --sklearn-color-unfitted-level-1: #f6e4d2;\n",
       "  --sklearn-color-unfitted-level-2: #ffe0b3;\n",
       "  --sklearn-color-unfitted-level-3: chocolate;\n",
       "  /* Definition of color scheme for fitted estimators */\n",
       "  --sklearn-color-fitted-level-0: #f0f8ff;\n",
       "  --sklearn-color-fitted-level-1: #d4ebff;\n",
       "  --sklearn-color-fitted-level-2: #b3dbfd;\n",
       "  --sklearn-color-fitted-level-3: cornflowerblue;\n",
       "\n",
       "  /* Specific color for light theme */\n",
       "  --sklearn-color-text-on-default-background: var(--sg-text-color, var(--theme-code-foreground, var(--jp-content-font-color1, black)));\n",
       "  --sklearn-color-background: var(--sg-background-color, var(--theme-background, var(--jp-layout-color0, white)));\n",
       "  --sklearn-color-border-box: var(--sg-text-color, var(--theme-code-foreground, var(--jp-content-font-color1, black)));\n",
       "  --sklearn-color-icon: #696969;\n",
       "\n",
       "  @media (prefers-color-scheme: dark) {\n",
       "    /* Redefinition of color scheme for dark theme */\n",
       "    --sklearn-color-text-on-default-background: var(--sg-text-color, var(--theme-code-foreground, var(--jp-content-font-color1, white)));\n",
       "    --sklearn-color-background: var(--sg-background-color, var(--theme-background, var(--jp-layout-color0, #111)));\n",
       "    --sklearn-color-border-box: var(--sg-text-color, var(--theme-code-foreground, var(--jp-content-font-color1, white)));\n",
       "    --sklearn-color-icon: #878787;\n",
       "  }\n",
       "}\n",
       "\n",
       "#sk-container-id-1 {\n",
       "  color: var(--sklearn-color-text);\n",
       "}\n",
       "\n",
       "#sk-container-id-1 pre {\n",
       "  padding: 0;\n",
       "}\n",
       "\n",
       "#sk-container-id-1 input.sk-hidden--visually {\n",
       "  border: 0;\n",
       "  clip: rect(1px 1px 1px 1px);\n",
       "  clip: rect(1px, 1px, 1px, 1px);\n",
       "  height: 1px;\n",
       "  margin: -1px;\n",
       "  overflow: hidden;\n",
       "  padding: 0;\n",
       "  position: absolute;\n",
       "  width: 1px;\n",
       "}\n",
       "\n",
       "#sk-container-id-1 div.sk-dashed-wrapped {\n",
       "  border: 1px dashed var(--sklearn-color-line);\n",
       "  margin: 0 0.4em 0.5em 0.4em;\n",
       "  box-sizing: border-box;\n",
       "  padding-bottom: 0.4em;\n",
       "  background-color: var(--sklearn-color-background);\n",
       "}\n",
       "\n",
       "#sk-container-id-1 div.sk-container {\n",
       "  /* jupyter's `normalize.less` sets `[hidden] { display: none; }`\n",
       "     but bootstrap.min.css set `[hidden] { display: none !important; }`\n",
       "     so we also need the `!important` here to be able to override the\n",
       "     default hidden behavior on the sphinx rendered scikit-learn.org.\n",
       "     See: https://github.com/scikit-learn/scikit-learn/issues/21755 */\n",
       "  display: inline-block !important;\n",
       "  position: relative;\n",
       "}\n",
       "\n",
       "#sk-container-id-1 div.sk-text-repr-fallback {\n",
       "  display: none;\n",
       "}\n",
       "\n",
       "div.sk-parallel-item,\n",
       "div.sk-serial,\n",
       "div.sk-item {\n",
       "  /* draw centered vertical line to link estimators */\n",
       "  background-image: linear-gradient(var(--sklearn-color-text-on-default-background), var(--sklearn-color-text-on-default-background));\n",
       "  background-size: 2px 100%;\n",
       "  background-repeat: no-repeat;\n",
       "  background-position: center center;\n",
       "}\n",
       "\n",
       "/* Parallel-specific style estimator block */\n",
       "\n",
       "#sk-container-id-1 div.sk-parallel-item::after {\n",
       "  content: \"\";\n",
       "  width: 100%;\n",
       "  border-bottom: 2px solid var(--sklearn-color-text-on-default-background);\n",
       "  flex-grow: 1;\n",
       "}\n",
       "\n",
       "#sk-container-id-1 div.sk-parallel {\n",
       "  display: flex;\n",
       "  align-items: stretch;\n",
       "  justify-content: center;\n",
       "  background-color: var(--sklearn-color-background);\n",
       "  position: relative;\n",
       "}\n",
       "\n",
       "#sk-container-id-1 div.sk-parallel-item {\n",
       "  display: flex;\n",
       "  flex-direction: column;\n",
       "}\n",
       "\n",
       "#sk-container-id-1 div.sk-parallel-item:first-child::after {\n",
       "  align-self: flex-end;\n",
       "  width: 50%;\n",
       "}\n",
       "\n",
       "#sk-container-id-1 div.sk-parallel-item:last-child::after {\n",
       "  align-self: flex-start;\n",
       "  width: 50%;\n",
       "}\n",
       "\n",
       "#sk-container-id-1 div.sk-parallel-item:only-child::after {\n",
       "  width: 0;\n",
       "}\n",
       "\n",
       "/* Serial-specific style estimator block */\n",
       "\n",
       "#sk-container-id-1 div.sk-serial {\n",
       "  display: flex;\n",
       "  flex-direction: column;\n",
       "  align-items: center;\n",
       "  background-color: var(--sklearn-color-background);\n",
       "  padding-right: 1em;\n",
       "  padding-left: 1em;\n",
       "}\n",
       "\n",
       "\n",
       "/* Toggleable style: style used for estimator/Pipeline/ColumnTransformer box that is\n",
       "clickable and can be expanded/collapsed.\n",
       "- Pipeline and ColumnTransformer use this feature and define the default style\n",
       "- Estimators will overwrite some part of the style using the `sk-estimator` class\n",
       "*/\n",
       "\n",
       "/* Pipeline and ColumnTransformer style (default) */\n",
       "\n",
       "#sk-container-id-1 div.sk-toggleable {\n",
       "  /* Default theme specific background. It is overwritten whether we have a\n",
       "  specific estimator or a Pipeline/ColumnTransformer */\n",
       "  background-color: var(--sklearn-color-background);\n",
       "}\n",
       "\n",
       "/* Toggleable label */\n",
       "#sk-container-id-1 label.sk-toggleable__label {\n",
       "  cursor: pointer;\n",
       "  display: flex;\n",
       "  width: 100%;\n",
       "  margin-bottom: 0;\n",
       "  padding: 0.5em;\n",
       "  box-sizing: border-box;\n",
       "  text-align: center;\n",
       "  align-items: start;\n",
       "  justify-content: space-between;\n",
       "  gap: 0.5em;\n",
       "}\n",
       "\n",
       "#sk-container-id-1 label.sk-toggleable__label .caption {\n",
       "  font-size: 0.6rem;\n",
       "  font-weight: lighter;\n",
       "  color: var(--sklearn-color-text-muted);\n",
       "}\n",
       "\n",
       "#sk-container-id-1 label.sk-toggleable__label-arrow:before {\n",
       "  /* Arrow on the left of the label */\n",
       "  content: \"▸\";\n",
       "  float: left;\n",
       "  margin-right: 0.25em;\n",
       "  color: var(--sklearn-color-icon);\n",
       "}\n",
       "\n",
       "#sk-container-id-1 label.sk-toggleable__label-arrow:hover:before {\n",
       "  color: var(--sklearn-color-text);\n",
       "}\n",
       "\n",
       "/* Toggleable content - dropdown */\n",
       "\n",
       "#sk-container-id-1 div.sk-toggleable__content {\n",
       "  max-height: 0;\n",
       "  max-width: 0;\n",
       "  overflow: hidden;\n",
       "  text-align: left;\n",
       "  /* unfitted */\n",
       "  background-color: var(--sklearn-color-unfitted-level-0);\n",
       "}\n",
       "\n",
       "#sk-container-id-1 div.sk-toggleable__content.fitted {\n",
       "  /* fitted */\n",
       "  background-color: var(--sklearn-color-fitted-level-0);\n",
       "}\n",
       "\n",
       "#sk-container-id-1 div.sk-toggleable__content pre {\n",
       "  margin: 0.2em;\n",
       "  border-radius: 0.25em;\n",
       "  color: var(--sklearn-color-text);\n",
       "  /* unfitted */\n",
       "  background-color: var(--sklearn-color-unfitted-level-0);\n",
       "}\n",
       "\n",
       "#sk-container-id-1 div.sk-toggleable__content.fitted pre {\n",
       "  /* unfitted */\n",
       "  background-color: var(--sklearn-color-fitted-level-0);\n",
       "}\n",
       "\n",
       "#sk-container-id-1 input.sk-toggleable__control:checked~div.sk-toggleable__content {\n",
       "  /* Expand drop-down */\n",
       "  max-height: 200px;\n",
       "  max-width: 100%;\n",
       "  overflow: auto;\n",
       "}\n",
       "\n",
       "#sk-container-id-1 input.sk-toggleable__control:checked~label.sk-toggleable__label-arrow:before {\n",
       "  content: \"▾\";\n",
       "}\n",
       "\n",
       "/* Pipeline/ColumnTransformer-specific style */\n",
       "\n",
       "#sk-container-id-1 div.sk-label input.sk-toggleable__control:checked~label.sk-toggleable__label {\n",
       "  color: var(--sklearn-color-text);\n",
       "  background-color: var(--sklearn-color-unfitted-level-2);\n",
       "}\n",
       "\n",
       "#sk-container-id-1 div.sk-label.fitted input.sk-toggleable__control:checked~label.sk-toggleable__label {\n",
       "  background-color: var(--sklearn-color-fitted-level-2);\n",
       "}\n",
       "\n",
       "/* Estimator-specific style */\n",
       "\n",
       "/* Colorize estimator box */\n",
       "#sk-container-id-1 div.sk-estimator input.sk-toggleable__control:checked~label.sk-toggleable__label {\n",
       "  /* unfitted */\n",
       "  background-color: var(--sklearn-color-unfitted-level-2);\n",
       "}\n",
       "\n",
       "#sk-container-id-1 div.sk-estimator.fitted input.sk-toggleable__control:checked~label.sk-toggleable__label {\n",
       "  /* fitted */\n",
       "  background-color: var(--sklearn-color-fitted-level-2);\n",
       "}\n",
       "\n",
       "#sk-container-id-1 div.sk-label label.sk-toggleable__label,\n",
       "#sk-container-id-1 div.sk-label label {\n",
       "  /* The background is the default theme color */\n",
       "  color: var(--sklearn-color-text-on-default-background);\n",
       "}\n",
       "\n",
       "/* On hover, darken the color of the background */\n",
       "#sk-container-id-1 div.sk-label:hover label.sk-toggleable__label {\n",
       "  color: var(--sklearn-color-text);\n",
       "  background-color: var(--sklearn-color-unfitted-level-2);\n",
       "}\n",
       "\n",
       "/* Label box, darken color on hover, fitted */\n",
       "#sk-container-id-1 div.sk-label.fitted:hover label.sk-toggleable__label.fitted {\n",
       "  color: var(--sklearn-color-text);\n",
       "  background-color: var(--sklearn-color-fitted-level-2);\n",
       "}\n",
       "\n",
       "/* Estimator label */\n",
       "\n",
       "#sk-container-id-1 div.sk-label label {\n",
       "  font-family: monospace;\n",
       "  font-weight: bold;\n",
       "  display: inline-block;\n",
       "  line-height: 1.2em;\n",
       "}\n",
       "\n",
       "#sk-container-id-1 div.sk-label-container {\n",
       "  text-align: center;\n",
       "}\n",
       "\n",
       "/* Estimator-specific */\n",
       "#sk-container-id-1 div.sk-estimator {\n",
       "  font-family: monospace;\n",
       "  border: 1px dotted var(--sklearn-color-border-box);\n",
       "  border-radius: 0.25em;\n",
       "  box-sizing: border-box;\n",
       "  margin-bottom: 0.5em;\n",
       "  /* unfitted */\n",
       "  background-color: var(--sklearn-color-unfitted-level-0);\n",
       "}\n",
       "\n",
       "#sk-container-id-1 div.sk-estimator.fitted {\n",
       "  /* fitted */\n",
       "  background-color: var(--sklearn-color-fitted-level-0);\n",
       "}\n",
       "\n",
       "/* on hover */\n",
       "#sk-container-id-1 div.sk-estimator:hover {\n",
       "  /* unfitted */\n",
       "  background-color: var(--sklearn-color-unfitted-level-2);\n",
       "}\n",
       "\n",
       "#sk-container-id-1 div.sk-estimator.fitted:hover {\n",
       "  /* fitted */\n",
       "  background-color: var(--sklearn-color-fitted-level-2);\n",
       "}\n",
       "\n",
       "/* Specification for estimator info (e.g. \"i\" and \"?\") */\n",
       "\n",
       "/* Common style for \"i\" and \"?\" */\n",
       "\n",
       ".sk-estimator-doc-link,\n",
       "a:link.sk-estimator-doc-link,\n",
       "a:visited.sk-estimator-doc-link {\n",
       "  float: right;\n",
       "  font-size: smaller;\n",
       "  line-height: 1em;\n",
       "  font-family: monospace;\n",
       "  background-color: var(--sklearn-color-background);\n",
       "  border-radius: 1em;\n",
       "  height: 1em;\n",
       "  width: 1em;\n",
       "  text-decoration: none !important;\n",
       "  margin-left: 0.5em;\n",
       "  text-align: center;\n",
       "  /* unfitted */\n",
       "  border: var(--sklearn-color-unfitted-level-1) 1pt solid;\n",
       "  color: var(--sklearn-color-unfitted-level-1);\n",
       "}\n",
       "\n",
       ".sk-estimator-doc-link.fitted,\n",
       "a:link.sk-estimator-doc-link.fitted,\n",
       "a:visited.sk-estimator-doc-link.fitted {\n",
       "  /* fitted */\n",
       "  border: var(--sklearn-color-fitted-level-1) 1pt solid;\n",
       "  color: var(--sklearn-color-fitted-level-1);\n",
       "}\n",
       "\n",
       "/* On hover */\n",
       "div.sk-estimator:hover .sk-estimator-doc-link:hover,\n",
       ".sk-estimator-doc-link:hover,\n",
       "div.sk-label-container:hover .sk-estimator-doc-link:hover,\n",
       ".sk-estimator-doc-link:hover {\n",
       "  /* unfitted */\n",
       "  background-color: var(--sklearn-color-unfitted-level-3);\n",
       "  color: var(--sklearn-color-background);\n",
       "  text-decoration: none;\n",
       "}\n",
       "\n",
       "div.sk-estimator.fitted:hover .sk-estimator-doc-link.fitted:hover,\n",
       ".sk-estimator-doc-link.fitted:hover,\n",
       "div.sk-label-container:hover .sk-estimator-doc-link.fitted:hover,\n",
       ".sk-estimator-doc-link.fitted:hover {\n",
       "  /* fitted */\n",
       "  background-color: var(--sklearn-color-fitted-level-3);\n",
       "  color: var(--sklearn-color-background);\n",
       "  text-decoration: none;\n",
       "}\n",
       "\n",
       "/* Span, style for the box shown on hovering the info icon */\n",
       ".sk-estimator-doc-link span {\n",
       "  display: none;\n",
       "  z-index: 9999;\n",
       "  position: relative;\n",
       "  font-weight: normal;\n",
       "  right: .2ex;\n",
       "  padding: .5ex;\n",
       "  margin: .5ex;\n",
       "  width: min-content;\n",
       "  min-width: 20ex;\n",
       "  max-width: 50ex;\n",
       "  color: var(--sklearn-color-text);\n",
       "  box-shadow: 2pt 2pt 4pt #999;\n",
       "  /* unfitted */\n",
       "  background: var(--sklearn-color-unfitted-level-0);\n",
       "  border: .5pt solid var(--sklearn-color-unfitted-level-3);\n",
       "}\n",
       "\n",
       ".sk-estimator-doc-link.fitted span {\n",
       "  /* fitted */\n",
       "  background: var(--sklearn-color-fitted-level-0);\n",
       "  border: var(--sklearn-color-fitted-level-3);\n",
       "}\n",
       "\n",
       ".sk-estimator-doc-link:hover span {\n",
       "  display: block;\n",
       "}\n",
       "\n",
       "/* \"?\"-specific style due to the `<a>` HTML tag */\n",
       "\n",
       "#sk-container-id-1 a.estimator_doc_link {\n",
       "  float: right;\n",
       "  font-size: 1rem;\n",
       "  line-height: 1em;\n",
       "  font-family: monospace;\n",
       "  background-color: var(--sklearn-color-background);\n",
       "  border-radius: 1rem;\n",
       "  height: 1rem;\n",
       "  width: 1rem;\n",
       "  text-decoration: none;\n",
       "  /* unfitted */\n",
       "  color: var(--sklearn-color-unfitted-level-1);\n",
       "  border: var(--sklearn-color-unfitted-level-1) 1pt solid;\n",
       "}\n",
       "\n",
       "#sk-container-id-1 a.estimator_doc_link.fitted {\n",
       "  /* fitted */\n",
       "  border: var(--sklearn-color-fitted-level-1) 1pt solid;\n",
       "  color: var(--sklearn-color-fitted-level-1);\n",
       "}\n",
       "\n",
       "/* On hover */\n",
       "#sk-container-id-1 a.estimator_doc_link:hover {\n",
       "  /* unfitted */\n",
       "  background-color: var(--sklearn-color-unfitted-level-3);\n",
       "  color: var(--sklearn-color-background);\n",
       "  text-decoration: none;\n",
       "}\n",
       "\n",
       "#sk-container-id-1 a.estimator_doc_link.fitted:hover {\n",
       "  /* fitted */\n",
       "  background-color: var(--sklearn-color-fitted-level-3);\n",
       "}\n",
       "</style><div id=\"sk-container-id-1\" class=\"sk-top-container\"><div class=\"sk-text-repr-fallback\"><pre>LogisticRegression(max_iter=200)</pre><b>In a Jupyter environment, please rerun this cell to show the HTML representation or trust the notebook. <br />On GitHub, the HTML representation is unable to render, please try loading this page with nbviewer.org.</b></div><div class=\"sk-container\" hidden><div class=\"sk-item\"><div class=\"sk-estimator fitted sk-toggleable\"><input class=\"sk-toggleable__control sk-hidden--visually\" id=\"sk-estimator-id-1\" type=\"checkbox\" checked><label for=\"sk-estimator-id-1\" class=\"sk-toggleable__label fitted sk-toggleable__label-arrow\"><div><div>LogisticRegression</div></div><div><a class=\"sk-estimator-doc-link fitted\" rel=\"noreferrer\" target=\"_blank\" href=\"https://scikit-learn.org/1.6/modules/generated/sklearn.linear_model.LogisticRegression.html\">?<span>Documentation for LogisticRegression</span></a><span class=\"sk-estimator-doc-link fitted\">i<span>Fitted</span></span></div></label><div class=\"sk-toggleable__content fitted\"><pre>LogisticRegression(max_iter=200)</pre></div> </div></div></div></div>"
      ],
      "text/plain": [
       "LogisticRegression(max_iter=200)"
      ]
     },
     "execution_count": 31,
     "metadata": {},
     "output_type": "execute_result"
    }
   ],
   "source": [
    "# Treinar o modelo com os dados de treino\n",
    "modelo.fit(X_train, y_train)"
   ]
  },
  {
   "cell_type": "code",
   "execution_count": 32,
   "metadata": {
    "colab": {
     "base_uri": "https://localhost:8080/"
    },
    "id": "Z_t-CXeG9QKJ",
    "outputId": "d2f2a6cb-54ad-4880-b4df-d0d25a8e2763"
   },
   "outputs": [
    {
     "data": {
      "text/plain": [
       "array([0.1335695])"
      ]
     },
     "execution_count": 32,
     "metadata": {},
     "output_type": "execute_result"
    }
   ],
   "source": [
    "# Verificando a interseção do modelo\n",
    "modelo.intercept_"
   ]
  },
  {
   "cell_type": "code",
   "execution_count": 33,
   "metadata": {
    "colab": {
     "base_uri": "https://localhost:8080/"
    },
    "id": "XlLhKKIK9TkS",
    "outputId": "4455d87d-0dc3-4b63-cf6b-feab16bf77d3"
   },
   "outputs": [
    {
     "data": {
      "text/plain": [
       "array([[ 0.02617044, -1.1533928 ,  0.80822118, -0.01309268, -0.00266547,\n",
       "         0.58997153,  0.02311284, -0.88945791, -0.55481682,  0.80659828,\n",
       "        -1.03344787, -1.07712168]])"
      ]
     },
     "execution_count": 33,
     "metadata": {},
     "output_type": "execute_result"
    }
   ],
   "source": [
    "# Verificando a angulação do modelo\n",
    "modelo.coef_"
   ]
  },
  {
   "cell_type": "code",
   "execution_count": 34,
   "metadata": {
    "id": "amUos3SCayzf"
   },
   "outputs": [],
   "source": [
    "# Fazer previsões nos dados de teste\n",
    "y_pred = modelo.predict(X_test)"
   ]
  },
  {
   "cell_type": "code",
   "execution_count": null,
   "metadata": {
    "colab": {
     "base_uri": "https://localhost:8080/"
    },
    "id": "APTISryU4YYl",
    "outputId": "db97fc93-00f6-4387-9d84-18d0f1c35a22"
   },
   "outputs": [
    {
     "name": "stdout",
     "output_type": "stream",
     "text": [
      "\n",
      "Relatório de Classificação:\n",
      "+--------------+-----------+--------+----------+---------+\n",
      "|              | precision | recall | f1-score | support |\n",
      "+--------------+-----------+--------+----------+---------+\n",
      "|      0       |   0.93    |  0.81  |   0.87   |  32.0   |\n",
      "|      1       |   0.87    |  0.95  |   0.91   |  42.0   |\n",
      "|   accuracy   |   0.89    |  0.89  |   0.89   |  0.89   |\n",
      "|  macro avg   |    0.9    |  0.88  |   0.89   |  74.0   |\n",
      "| weighted avg |    0.9    |  0.89  |   0.89   |  74.0   |\n",
      "+--------------+-----------+--------+----------+---------+\n"
     ]
    }
   ],
   "source": [
    "# type: ignore\n",
    "# Relatório de Classificação\n",
    "report = classification_report(y_test, y_pred, output_dict=True)\n",
    "df_report = pd.DataFrame(report).transpose()\n",
    "\n",
    "# Arredondando valores para 2 casas decimais\n",
    "df_report_rounded = df_report.round(2)\n",
    "\n",
    "print(\"\\nRelatório de Classificação:\")\n",
    "print(tabulate(df_report_rounded, headers='keys', tablefmt='pretty'))"
   ]
  },
  {
   "cell_type": "code",
   "execution_count": 36,
   "metadata": {
    "colab": {
     "base_uri": "https://localhost:8080/",
     "height": 433
    },
    "id": "rhSpjQE3HhfE",
    "outputId": "50a3f5aa-3647-4bc3-9296-8da3ddcaab40"
   },
   "outputs": [
    {
     "name": "stdout",
     "output_type": "stream",
     "text": [
      "Acurácia: 89.19%\n"
     ]
    },
    {
     "data": {
      "image/png": "[encoded data removed]",
      "text/plain": [
       "<Figure size 600x400 with 1 Axes>"
      ]
     },
     "metadata": {},
     "output_type": "display_data"
    }
   ],
   "source": [
    "# Plotando a matriz de confusão\n",
    "\n",
    "# 1. Calcular a acurácia\n",
    "acuracia = accuracy_score(y_test, y_pred)\n",
    "print(f\"Acurácia: {acuracia:.2%}\")\n",
    "\n",
    "# 2. Matriz de Confusão estilizada com seaborn\n",
    "cm = confusion_matrix(y_test, y_pred)\n",
    "\n",
    "plt.figure(figsize=(6, 4))\n",
    "sns.heatmap(cm, annot=True, fmt='d', cmap='Blues', cbar=False,\n",
    "            annot_kws={\"size\": 14}, linewidths=2, linecolor='black')\n",
    "\n",
    "plt.title('Matriz de Confusão', fontsize=14, fontweight='bold')\n",
    "plt.ylabel('Valor Real', fontsize=12)\n",
    "plt.xlabel('Valor Predito', fontsize=12)\n",
    "plt.xticks(fontsize=10)\n",
    "plt.yticks(fontsize=10)\n",
    "plt.show()"
   ]
  },
  {
   "cell_type": "markdown",
   "metadata": {
    "id": "9DWuoig_x6q4"
   },
   "source": [
    "#### Interpretação da Matriz de Confusão\n",
    "\n",
    "- **Verdadeiros Negativos (VN):** 26 pessoas que **não tinham tendência** de desenvolver doença cardíaca com o tempo, e o modelo classificou corretamente.  \n",
    "- **Verdadeiros Positivos (VP):** 40 pessoas que **tinham tendência** de desenvolver doença cardíaca com o tempo, e o modelo classificou corretamente.  \n",
    "- **Falsos Positivos (FP):** 6 pessoas que **não tinham tendência** de desenvolver doença cardíaca, mas o modelo previu incorretamente que tinham.  \n",
    "- **Falsos Negativos (FN):** 2 pessoas que **tinham tendência** de desenvolver doença cardíaca, mas o modelo previu incorretamente que não tinham.  \n"
   ]
  },
  {
   "cell_type": "markdown",
   "metadata": {
    "id": "LkllUbL_lJsB"
   },
   "source": [
    "### **Redes Neurais Artificiais**"
   ]
  },
  {
   "cell_type": "code",
   "execution_count": 37,
   "metadata": {
    "id": "tlgk1ntyoHUX"
   },
   "outputs": [],
   "source": [
    "# Separação dos dados em 75% para treino e 25% para teste\n",
    "X_train, X_test, y_train, y_test = train_test_split(X, y, test_size=0.25, random_state=42)"
   ]
  },
  {
   "cell_type": "code",
   "execution_count": 38,
   "metadata": {
    "id": "C_1sxLYjlMxW"
   },
   "outputs": [],
   "source": [
    "# Criando um modelo de rede neural sequencial\n",
    "classifier = Sequential()\n",
    "\n",
    "# Adicionando a primeira camada oculta com 16 neurônios, ativação ReLU e inicialização uniforme dos pesos\n",
    "# A camada de entrada possui 12 features (input_dim = 12)\n",
    "classifier.add(Dense(units=16, activation='relu', kernel_initializer='uniform', input_dim=12))\n",
    "\n",
    "# Adicionando a segunda camada oculta com 7 neurônios e ativação ReLU\n",
    "classifier.add(Dense(units=7, activation='relu', kernel_initializer='uniform'))\n",
    "\n",
    "# Adicionando a camada de saída com 1 neurônio e função de ativação sigmoide, ideal para classificação binária\n",
    "classifier.add(Dense(units=1, activation='sigmoid', kernel_initializer='uniform'))\n",
    "\n",
    "# Compilando o modelo usando o otimizador Adam e a função de perda entropia cruzada binária\n",
    "# O modelo utilizará a métrica de acurácia para avaliar o desempenho\n",
    "classifier.compile(optimizer='adam', loss='binary_crossentropy', metrics=['accuracy'])"
   ]
  },
  {
   "cell_type": "code",
   "execution_count": 39,
   "metadata": {
    "colab": {
     "base_uri": "https://localhost:8080/",
     "height": 234
    },
    "id": "PRt5qGGmmYHi",
    "outputId": "f3f962db-decc-4da5-d9a9-0a0e62d3b0f0"
   },
   "outputs": [
    {
     "data": {
      "text/html": [
       "<pre style=\"white-space:pre;overflow-x:auto;line-height:normal;font-family:Menlo,'DejaVu Sans Mono',consolas,'Courier New',monospace\"><span style=\"font-weight: bold\">Model: \"sequential\"</span>\n",
       "</pre>\n"
      ],
      "text/plain": [
       "\u001b[1mModel: \"sequential\"\u001b[0m\n"
      ]
     },
     "metadata": {},
     "output_type": "display_data"
    },
    {
     "data": {
      "text/html": [
       "<pre style=\"white-space:pre;overflow-x:auto;line-height:normal;font-family:Menlo,'DejaVu Sans Mono',consolas,'Courier New',monospace\">┏━━━━━━━━━━━━━━━━━━━━━━━━━━━━━━━━━┳━━━━━━━━━━━━━━━━━━━━━━━━┳━━━━━━━━━━━━━━━┓\n",
       "┃<span style=\"font-weight: bold\"> Layer (type)                    </span>┃<span style=\"font-weight: bold\"> Output Shape           </span>┃<span style=\"font-weight: bold\">       Param # </span>┃\n",
       "┡━━━━━━━━━━━━━━━━━━━━━━━━━━━━━━━━━╇━━━━━━━━━━━━━━━━━━━━━━━━╇━━━━━━━━━━━━━━━┩\n",
       "│ dense (<span style=\"color: #0087ff; text-decoration-color: #0087ff\">Dense</span>)                   │ (<span style=\"color: #00d7ff; text-decoration-color: #00d7ff\">None</span>, <span style=\"color: #00af00; text-decoration-color: #00af00\">16</span>)             │           <span style=\"color: #00af00; text-decoration-color: #00af00\">208</span> │\n",
       "├─────────────────────────────────┼────────────────────────┼───────────────┤\n",
       "│ dense_1 (<span style=\"color: #0087ff; text-decoration-color: #0087ff\">Dense</span>)                 │ (<span style=\"color: #00d7ff; text-decoration-color: #00d7ff\">None</span>, <span style=\"color: #00af00; text-decoration-color: #00af00\">7</span>)              │           <span style=\"color: #00af00; text-decoration-color: #00af00\">119</span> │\n",
       "├─────────────────────────────────┼────────────────────────┼───────────────┤\n",
       "│ dense_2 (<span style=\"color: #0087ff; text-decoration-color: #0087ff\">Dense</span>)                 │ (<span style=\"color: #00d7ff; text-decoration-color: #00d7ff\">None</span>, <span style=\"color: #00af00; text-decoration-color: #00af00\">1</span>)              │             <span style=\"color: #00af00; text-decoration-color: #00af00\">8</span> │\n",
       "└─────────────────────────────────┴────────────────────────┴───────────────┘\n",
       "</pre>\n"
      ],
      "text/plain": [
       "┏━━━━━━━━━━━━━━━━━━━━━━━━━━━━━━━━━┳━━━━━━━━━━━━━━━━━━━━━━━━┳━━━━━━━━━━━━━━━┓\n",
       "┃\u001b[1m \u001b[0m\u001b[1mLayer (type)                   \u001b[0m\u001b[1m \u001b[0m┃\u001b[1m \u001b[0m\u001b[1mOutput Shape          \u001b[0m\u001b[1m \u001b[0m┃\u001b[1m \u001b[0m\u001b[1m      Param #\u001b[0m\u001b[1m \u001b[0m┃\n",
       "┡━━━━━━━━━━━━━━━━━━━━━━━━━━━━━━━━━╇━━━━━━━━━━━━━━━━━━━━━━━━╇━━━━━━━━━━━━━━━┩\n",
       "│ dense (\u001b[38;5;33mDense\u001b[0m)                   │ (\u001b[38;5;45mNone\u001b[0m, \u001b[38;5;34m16\u001b[0m)             │           \u001b[38;5;34m208\u001b[0m │\n",
       "├─────────────────────────────────┼────────────────────────┼───────────────┤\n",
       "│ dense_1 (\u001b[38;5;33mDense\u001b[0m)                 │ (\u001b[38;5;45mNone\u001b[0m, \u001b[38;5;34m7\u001b[0m)              │           \u001b[38;5;34m119\u001b[0m │\n",
       "├─────────────────────────────────┼────────────────────────┼───────────────┤\n",
       "│ dense_2 (\u001b[38;5;33mDense\u001b[0m)                 │ (\u001b[38;5;45mNone\u001b[0m, \u001b[38;5;34m1\u001b[0m)              │             \u001b[38;5;34m8\u001b[0m │\n",
       "└─────────────────────────────────┴────────────────────────┴───────────────┘\n"
      ]
     },
     "metadata": {},
     "output_type": "display_data"
    },
    {
     "data": {
      "text/html": [
       "<pre style=\"white-space:pre;overflow-x:auto;line-height:normal;font-family:Menlo,'DejaVu Sans Mono',consolas,'Courier New',monospace\"><span style=\"font-weight: bold\"> Total params: </span><span style=\"color: #00af00; text-decoration-color: #00af00\">335</span> (1.31 KB)\n",
       "</pre>\n"
      ],
      "text/plain": [
       "\u001b[1m Total params: \u001b[0m\u001b[38;5;34m335\u001b[0m (1.31 KB)\n"
      ]
     },
     "metadata": {},
     "output_type": "display_data"
    },
    {
     "data": {
      "text/html": [
       "<pre style=\"white-space:pre;overflow-x:auto;line-height:normal;font-family:Menlo,'DejaVu Sans Mono',consolas,'Courier New',monospace\"><span style=\"font-weight: bold\"> Trainable params: </span><span style=\"color: #00af00; text-decoration-color: #00af00\">335</span> (1.31 KB)\n",
       "</pre>\n"
      ],
      "text/plain": [
       "\u001b[1m Trainable params: \u001b[0m\u001b[38;5;34m335\u001b[0m (1.31 KB)\n"
      ]
     },
     "metadata": {},
     "output_type": "display_data"
    },
    {
     "data": {
      "text/html": [
       "<pre style=\"white-space:pre;overflow-x:auto;line-height:normal;font-family:Menlo,'DejaVu Sans Mono',consolas,'Courier New',monospace\"><span style=\"font-weight: bold\"> Non-trainable params: </span><span style=\"color: #00af00; text-decoration-color: #00af00\">0</span> (0.00 B)\n",
       "</pre>\n"
      ],
      "text/plain": [
       "\u001b[1m Non-trainable params: \u001b[0m\u001b[38;5;34m0\u001b[0m (0.00 B)\n"
      ]
     },
     "metadata": {},
     "output_type": "display_data"
    }
   ],
   "source": [
    "# Resumo do modelo\n",
    "classifier.summary()"
   ]
  },
  {
   "cell_type": "code",
   "execution_count": 40,
   "metadata": {
    "colab": {
     "base_uri": "https://localhost:8080/"
    },
    "id": "Zd_ODJplmeO0",
    "outputId": "30ad4696-a571-4bec-d38b-b4516ed1a797"
   },
   "outputs": [
    {
     "name": "stdout",
     "output_type": "stream",
     "text": [
      "Epoch 1/200\n",
      "\u001b[1m14/14\u001b[0m \u001b[32m━━━━━━━━━━━━━━━━━━━━\u001b[0m\u001b[37m\u001b[0m \u001b[1m1s\u001b[0m 15ms/step - accuracy: 0.4934 - loss: 0.6933 - val_accuracy: 0.5676 - val_loss: 0.6904\n",
      "Epoch 2/200\n",
      "\u001b[1m14/14\u001b[0m \u001b[32m━━━━━━━━━━━━━━━━━━━━\u001b[0m\u001b[37m\u001b[0m \u001b[1m0s\u001b[0m 6ms/step - accuracy: 0.5383 - loss: 0.6902 - val_accuracy: 0.5676 - val_loss: 0.6852\n",
      "Epoch 3/200\n",
      "\u001b[1m14/14\u001b[0m \u001b[32m━━━━━━━━━━━━━━━━━━━━\u001b[0m\u001b[37m\u001b[0m \u001b[1m0s\u001b[0m 6ms/step - accuracy: 0.5167 - loss: 0.6887 - val_accuracy: 0.5676 - val_loss: 0.6789\n",
      "Epoch 4/200\n",
      "\u001b[1m14/14\u001b[0m \u001b[32m━━━━━━━━━━━━━━━━━━━━\u001b[0m\u001b[37m\u001b[0m \u001b[1m0s\u001b[0m 5ms/step - accuracy: 0.5170 - loss: 0.6818 - val_accuracy: 0.5676 - val_loss: 0.6704\n",
      "Epoch 5/200\n",
      "\u001b[1m14/14\u001b[0m \u001b[32m━━━━━━━━━━━━━━━━━━━━\u001b[0m\u001b[37m\u001b[0m \u001b[1m0s\u001b[0m 5ms/step - accuracy: 0.5516 - loss: 0.6684 - val_accuracy: 0.5676 - val_loss: 0.6607\n",
      "Epoch 6/200\n",
      "\u001b[1m14/14\u001b[0m \u001b[32m━━━━━━━━━━━━━━━━━━━━\u001b[0m\u001b[37m\u001b[0m \u001b[1m0s\u001b[0m 5ms/step - accuracy: 0.6414 - loss: 0.6642 - val_accuracy: 0.6622 - val_loss: 0.6515\n",
      "Epoch 7/200\n",
      "\u001b[1m14/14\u001b[0m \u001b[32m━━━━━━━━━━━━━━━━━━━━\u001b[0m\u001b[37m\u001b[0m \u001b[1m0s\u001b[0m 6ms/step - accuracy: 0.6487 - loss: 0.6484 - val_accuracy: 0.6216 - val_loss: 0.6395\n",
      "Epoch 8/200\n",
      "\u001b[1m14/14\u001b[0m \u001b[32m━━━━━━━━━━━━━━━━━━━━\u001b[0m\u001b[37m\u001b[0m \u001b[1m0s\u001b[0m 5ms/step - accuracy: 0.6958 - loss: 0.6224 - val_accuracy: 0.7027 - val_loss: 0.6285\n",
      "Epoch 9/200\n",
      "\u001b[1m14/14\u001b[0m \u001b[32m━━━━━━━━━━━━━━━━━━━━\u001b[0m\u001b[37m\u001b[0m \u001b[1m0s\u001b[0m 6ms/step - accuracy: 0.6823 - loss: 0.6330 - val_accuracy: 0.6486 - val_loss: 0.6101\n",
      "Epoch 10/200\n",
      "\u001b[1m14/14\u001b[0m \u001b[32m━━━━━━━━━━━━━━━━━━━━\u001b[0m\u001b[37m\u001b[0m \u001b[1m0s\u001b[0m 5ms/step - accuracy: 0.7043 - loss: 0.6144 - val_accuracy: 0.6351 - val_loss: 0.6007\n",
      "Epoch 11/200\n",
      "\u001b[1m14/14\u001b[0m \u001b[32m━━━━━━━━━━━━━━━━━━━━\u001b[0m\u001b[37m\u001b[0m \u001b[1m0s\u001b[0m 6ms/step - accuracy: 0.6443 - loss: 0.6279 - val_accuracy: 0.7162 - val_loss: 0.5857\n",
      "Epoch 12/200\n",
      "\u001b[1m14/14\u001b[0m \u001b[32m━━━━━━━━━━━━━━━━━━━━\u001b[0m\u001b[37m\u001b[0m \u001b[1m0s\u001b[0m 5ms/step - accuracy: 0.7322 - loss: 0.5664 - val_accuracy: 0.7162 - val_loss: 0.5712\n",
      "Epoch 13/200\n",
      "\u001b[1m14/14\u001b[0m \u001b[32m━━━━━━━━━━━━━━━━━━━━\u001b[0m\u001b[37m\u001b[0m \u001b[1m0s\u001b[0m 5ms/step - accuracy: 0.7323 - loss: 0.5922 - val_accuracy: 0.6757 - val_loss: 0.5758\n",
      "Epoch 14/200\n",
      "\u001b[1m14/14\u001b[0m \u001b[32m━━━━━━━━━━━━━━━━━━━━\u001b[0m\u001b[37m\u001b[0m \u001b[1m0s\u001b[0m 5ms/step - accuracy: 0.7076 - loss: 0.5652 - val_accuracy: 0.7297 - val_loss: 0.5540\n",
      "Epoch 15/200\n",
      "\u001b[1m14/14\u001b[0m \u001b[32m━━━━━━━━━━━━━━━━━━━━\u001b[0m\u001b[37m\u001b[0m \u001b[1m0s\u001b[0m 5ms/step - accuracy: 0.7616 - loss: 0.5476 - val_accuracy: 0.7162 - val_loss: 0.5422\n",
      "Epoch 16/200\n",
      "\u001b[1m14/14\u001b[0m \u001b[32m━━━━━━━━━━━━━━━━━━━━\u001b[0m\u001b[37m\u001b[0m \u001b[1m0s\u001b[0m 5ms/step - accuracy: 0.7254 - loss: 0.5336 - val_accuracy: 0.7432 - val_loss: 0.5449\n",
      "Epoch 17/200\n",
      "\u001b[1m14/14\u001b[0m \u001b[32m━━━━━━━━━━━━━━━━━━━━\u001b[0m\u001b[37m\u001b[0m \u001b[1m0s\u001b[0m 5ms/step - accuracy: 0.7424 - loss: 0.5459 - val_accuracy: 0.7162 - val_loss: 0.5391\n",
      "Epoch 18/200\n",
      "\u001b[1m14/14\u001b[0m \u001b[32m━━━━━━━━━━━━━━━━━━━━\u001b[0m\u001b[37m\u001b[0m \u001b[1m0s\u001b[0m 5ms/step - accuracy: 0.7443 - loss: 0.5226 - val_accuracy: 0.7568 - val_loss: 0.5177\n",
      "Epoch 19/200\n",
      "\u001b[1m14/14\u001b[0m \u001b[32m━━━━━━━━━━━━━━━━━━━━\u001b[0m\u001b[37m\u001b[0m \u001b[1m0s\u001b[0m 5ms/step - accuracy: 0.6990 - loss: 0.5412 - val_accuracy: 0.7568 - val_loss: 0.5184\n",
      "Epoch 20/200\n",
      "\u001b[1m14/14\u001b[0m \u001b[32m━━━━━━━━━━━━━━━━━━━━\u001b[0m\u001b[37m\u001b[0m \u001b[1m0s\u001b[0m 6ms/step - accuracy: 0.7170 - loss: 0.5389 - val_accuracy: 0.7703 - val_loss: 0.5035\n",
      "Epoch 21/200\n",
      "\u001b[1m14/14\u001b[0m \u001b[32m━━━━━━━━━━━━━━━━━━━━\u001b[0m\u001b[37m\u001b[0m \u001b[1m0s\u001b[0m 6ms/step - accuracy: 0.6591 - loss: 0.5688 - val_accuracy: 0.7432 - val_loss: 0.4985\n",
      "Epoch 22/200\n",
      "\u001b[1m14/14\u001b[0m \u001b[32m━━━━━━━━━━━━━━━━━━━━\u001b[0m\u001b[37m\u001b[0m \u001b[1m0s\u001b[0m 6ms/step - accuracy: 0.7230 - loss: 0.5156 - val_accuracy: 0.7568 - val_loss: 0.5084\n",
      "Epoch 23/200\n",
      "\u001b[1m14/14\u001b[0m \u001b[32m━━━━━━━━━━━━━━━━━━━━\u001b[0m\u001b[37m\u001b[0m \u001b[1m0s\u001b[0m 5ms/step - accuracy: 0.7104 - loss: 0.5403 - val_accuracy: 0.7568 - val_loss: 0.4858\n",
      "Epoch 24/200\n",
      "\u001b[1m14/14\u001b[0m \u001b[32m━━━━━━━━━━━━━━━━━━━━\u001b[0m\u001b[37m\u001b[0m \u001b[1m0s\u001b[0m 5ms/step - accuracy: 0.6905 - loss: 0.5688 - val_accuracy: 0.7838 - val_loss: 0.4803\n",
      "Epoch 25/200\n",
      "\u001b[1m14/14\u001b[0m \u001b[32m━━━━━━━━━━━━━━━━━━━━\u001b[0m\u001b[37m\u001b[0m \u001b[1m0s\u001b[0m 5ms/step - accuracy: 0.7661 - loss: 0.5184 - val_accuracy: 0.7838 - val_loss: 0.4888\n",
      "Epoch 26/200\n",
      "\u001b[1m14/14\u001b[0m \u001b[32m━━━━━━━━━━━━━━━━━━━━\u001b[0m\u001b[37m\u001b[0m \u001b[1m0s\u001b[0m 5ms/step - accuracy: 0.8086 - loss: 0.4668 - val_accuracy: 0.7838 - val_loss: 0.4708\n",
      "Epoch 27/200\n",
      "\u001b[1m14/14\u001b[0m \u001b[32m━━━━━━━━━━━━━━━━━━━━\u001b[0m\u001b[37m\u001b[0m \u001b[1m0s\u001b[0m 5ms/step - accuracy: 0.7301 - loss: 0.5055 - val_accuracy: 0.7838 - val_loss: 0.4659\n",
      "Epoch 28/200\n",
      "\u001b[1m14/14\u001b[0m \u001b[32m━━━━━━━━━━━━━━━━━━━━\u001b[0m\u001b[37m\u001b[0m \u001b[1m0s\u001b[0m 5ms/step - accuracy: 0.7320 - loss: 0.5064 - val_accuracy: 0.7838 - val_loss: 0.4690\n",
      "Epoch 29/200\n",
      "\u001b[1m14/14\u001b[0m \u001b[32m━━━━━━━━━━━━━━━━━━━━\u001b[0m\u001b[37m\u001b[0m \u001b[1m0s\u001b[0m 5ms/step - accuracy: 0.7539 - loss: 0.4767 - val_accuracy: 0.7432 - val_loss: 0.4658\n",
      "Epoch 30/200\n",
      "\u001b[1m14/14\u001b[0m \u001b[32m━━━━━━━━━━━━━━━━━━━━\u001b[0m\u001b[37m\u001b[0m \u001b[1m0s\u001b[0m 5ms/step - accuracy: 0.7883 - loss: 0.4799 - val_accuracy: 0.8108 - val_loss: 0.4514\n",
      "Epoch 31/200\n",
      "\u001b[1m14/14\u001b[0m \u001b[32m━━━━━━━━━━━━━━━━━━━━\u001b[0m\u001b[37m\u001b[0m \u001b[1m0s\u001b[0m 5ms/step - accuracy: 0.7773 - loss: 0.4759 - val_accuracy: 0.7703 - val_loss: 0.5052\n",
      "Epoch 32/200\n",
      "\u001b[1m14/14\u001b[0m \u001b[32m━━━━━━━━━━━━━━━━━━━━\u001b[0m\u001b[37m\u001b[0m \u001b[1m0s\u001b[0m 6ms/step - accuracy: 0.7019 - loss: 0.5552 - val_accuracy: 0.7973 - val_loss: 0.4437\n",
      "Epoch 33/200\n",
      "\u001b[1m14/14\u001b[0m \u001b[32m━━━━━━━━━━━━━━━━━━━━\u001b[0m\u001b[37m\u001b[0m \u001b[1m0s\u001b[0m 5ms/step - accuracy: 0.7524 - loss: 0.4766 - val_accuracy: 0.7838 - val_loss: 0.4419\n",
      "Epoch 34/200\n",
      "\u001b[1m14/14\u001b[0m \u001b[32m━━━━━━━━━━━━━━━━━━━━\u001b[0m\u001b[37m\u001b[0m \u001b[1m0s\u001b[0m 5ms/step - accuracy: 0.7156 - loss: 0.5111 - val_accuracy: 0.7703 - val_loss: 0.4618\n",
      "Epoch 35/200\n",
      "\u001b[1m14/14\u001b[0m \u001b[32m━━━━━━━━━━━━━━━━━━━━\u001b[0m\u001b[37m\u001b[0m \u001b[1m0s\u001b[0m 5ms/step - accuracy: 0.8013 - loss: 0.4529 - val_accuracy: 0.7703 - val_loss: 0.4368\n",
      "Epoch 36/200\n",
      "\u001b[1m14/14\u001b[0m \u001b[32m━━━━━━━━━━━━━━━━━━━━\u001b[0m\u001b[37m\u001b[0m \u001b[1m0s\u001b[0m 5ms/step - accuracy: 0.7570 - loss: 0.4855 - val_accuracy: 0.8243 - val_loss: 0.4280\n",
      "Epoch 37/200\n",
      "\u001b[1m14/14\u001b[0m \u001b[32m━━━━━━━━━━━━━━━━━━━━\u001b[0m\u001b[37m\u001b[0m \u001b[1m0s\u001b[0m 5ms/step - accuracy: 0.7992 - loss: 0.4220 - val_accuracy: 0.8108 - val_loss: 0.4282\n",
      "Epoch 38/200\n",
      "\u001b[1m14/14\u001b[0m \u001b[32m━━━━━━━━━━━━━━━━━━━━\u001b[0m\u001b[37m\u001b[0m \u001b[1m0s\u001b[0m 5ms/step - accuracy: 0.8095 - loss: 0.4227 - val_accuracy: 0.7838 - val_loss: 0.4523\n",
      "Epoch 39/200\n",
      "\u001b[1m14/14\u001b[0m \u001b[32m━━━━━━━━━━━━━━━━━━━━\u001b[0m\u001b[37m\u001b[0m \u001b[1m0s\u001b[0m 5ms/step - accuracy: 0.7595 - loss: 0.4525 - val_accuracy: 0.7838 - val_loss: 0.4499\n",
      "Epoch 40/200\n",
      "\u001b[1m14/14\u001b[0m \u001b[32m━━━━━━━━━━━━━━━━━━━━\u001b[0m\u001b[37m\u001b[0m \u001b[1m0s\u001b[0m 5ms/step - accuracy: 0.7776 - loss: 0.4991 - val_accuracy: 0.7973 - val_loss: 0.4326\n",
      "Epoch 41/200\n",
      "\u001b[1m14/14\u001b[0m \u001b[32m━━━━━━━━━━━━━━━━━━━━\u001b[0m\u001b[37m\u001b[0m \u001b[1m0s\u001b[0m 5ms/step - accuracy: 0.7412 - loss: 0.4772 - val_accuracy: 0.7838 - val_loss: 0.4175\n",
      "Epoch 42/200\n",
      "\u001b[1m14/14\u001b[0m \u001b[32m━━━━━━━━━━━━━━━━━━━━\u001b[0m\u001b[37m\u001b[0m \u001b[1m0s\u001b[0m 5ms/step - accuracy: 0.7555 - loss: 0.4778 - val_accuracy: 0.7838 - val_loss: 0.4192\n",
      "Epoch 43/200\n",
      "\u001b[1m14/14\u001b[0m \u001b[32m━━━━━━━━━━━━━━━━━━━━\u001b[0m\u001b[37m\u001b[0m \u001b[1m0s\u001b[0m 6ms/step - accuracy: 0.7732 - loss: 0.4958 - val_accuracy: 0.7703 - val_loss: 0.4797\n",
      "Epoch 44/200\n",
      "\u001b[1m14/14\u001b[0m \u001b[32m━━━━━━━━━━━━━━━━━━━━\u001b[0m\u001b[37m\u001b[0m \u001b[1m0s\u001b[0m 5ms/step - accuracy: 0.7384 - loss: 0.5213 - val_accuracy: 0.7973 - val_loss: 0.4089\n",
      "Epoch 45/200\n",
      "\u001b[1m14/14\u001b[0m \u001b[32m━━━━━━━━━━━━━━━━━━━━\u001b[0m\u001b[37m\u001b[0m \u001b[1m0s\u001b[0m 5ms/step - accuracy: 0.7805 - loss: 0.4372 - val_accuracy: 0.7838 - val_loss: 0.4117\n",
      "Epoch 46/200\n",
      "\u001b[1m14/14\u001b[0m \u001b[32m━━━━━━━━━━━━━━━━━━━━\u001b[0m\u001b[37m\u001b[0m \u001b[1m0s\u001b[0m 5ms/step - accuracy: 0.8121 - loss: 0.4355 - val_accuracy: 0.8514 - val_loss: 0.4150\n",
      "Epoch 47/200\n",
      "\u001b[1m14/14\u001b[0m \u001b[32m━━━━━━━━━━━━━━━━━━━━\u001b[0m\u001b[37m\u001b[0m \u001b[1m0s\u001b[0m 5ms/step - accuracy: 0.7705 - loss: 0.4479 - val_accuracy: 0.7838 - val_loss: 0.4077\n",
      "Epoch 48/200\n",
      "\u001b[1m14/14\u001b[0m \u001b[32m━━━━━━━━━━━━━━━━━━━━\u001b[0m\u001b[37m\u001b[0m \u001b[1m0s\u001b[0m 5ms/step - accuracy: 0.8337 - loss: 0.4123 - val_accuracy: 0.8378 - val_loss: 0.4042\n",
      "Epoch 49/200\n",
      "\u001b[1m14/14\u001b[0m \u001b[32m━━━━━━━━━━━━━━━━━━━━\u001b[0m\u001b[37m\u001b[0m \u001b[1m0s\u001b[0m 5ms/step - accuracy: 0.7718 - loss: 0.4266 - val_accuracy: 0.7973 - val_loss: 0.3992\n",
      "Epoch 50/200\n",
      "\u001b[1m14/14\u001b[0m \u001b[32m━━━━━━━━━━━━━━━━━━━━\u001b[0m\u001b[37m\u001b[0m \u001b[1m0s\u001b[0m 5ms/step - accuracy: 0.7996 - loss: 0.4390 - val_accuracy: 0.8243 - val_loss: 0.3919\n",
      "Epoch 51/200\n",
      "\u001b[1m14/14\u001b[0m \u001b[32m━━━━━━━━━━━━━━━━━━━━\u001b[0m\u001b[37m\u001b[0m \u001b[1m0s\u001b[0m 5ms/step - accuracy: 0.7950 - loss: 0.4267 - val_accuracy: 0.8514 - val_loss: 0.4033\n",
      "Epoch 52/200\n",
      "\u001b[1m14/14\u001b[0m \u001b[32m━━━━━━━━━━━━━━━━━━━━\u001b[0m\u001b[37m\u001b[0m \u001b[1m0s\u001b[0m 5ms/step - accuracy: 0.8374 - loss: 0.3752 - val_accuracy: 0.7973 - val_loss: 0.4199\n",
      "Epoch 53/200\n",
      "\u001b[1m14/14\u001b[0m \u001b[32m━━━━━━━━━━━━━━━━━━━━\u001b[0m\u001b[37m\u001b[0m \u001b[1m0s\u001b[0m 5ms/step - accuracy: 0.7393 - loss: 0.4966 - val_accuracy: 0.7973 - val_loss: 0.4115\n",
      "Epoch 54/200\n",
      "\u001b[1m14/14\u001b[0m \u001b[32m━━━━━━━━━━━━━━━━━━━━\u001b[0m\u001b[37m\u001b[0m \u001b[1m0s\u001b[0m 5ms/step - accuracy: 0.7887 - loss: 0.4320 - val_accuracy: 0.8243 - val_loss: 0.4302\n",
      "Epoch 55/200\n",
      "\u001b[1m14/14\u001b[0m \u001b[32m━━━━━━━━━━━━━━━━━━━━\u001b[0m\u001b[37m\u001b[0m \u001b[1m0s\u001b[0m 6ms/step - accuracy: 0.7748 - loss: 0.4419 - val_accuracy: 0.8108 - val_loss: 0.3951\n",
      "Epoch 56/200\n",
      "\u001b[1m14/14\u001b[0m \u001b[32m━━━━━━━━━━━━━━━━━━━━\u001b[0m\u001b[37m\u001b[0m \u001b[1m0s\u001b[0m 5ms/step - accuracy: 0.8557 - loss: 0.4107 - val_accuracy: 0.8243 - val_loss: 0.3810\n",
      "Epoch 57/200\n",
      "\u001b[1m14/14\u001b[0m \u001b[32m━━━━━━━━━━━━━━━━━━━━\u001b[0m\u001b[37m\u001b[0m \u001b[1m0s\u001b[0m 5ms/step - accuracy: 0.8179 - loss: 0.4044 - val_accuracy: 0.8649 - val_loss: 0.3897\n",
      "Epoch 58/200\n",
      "\u001b[1m14/14\u001b[0m \u001b[32m━━━━━━━━━━━━━━━━━━━━\u001b[0m\u001b[37m\u001b[0m \u001b[1m0s\u001b[0m 5ms/step - accuracy: 0.7768 - loss: 0.4347 - val_accuracy: 0.8514 - val_loss: 0.3784\n",
      "Epoch 59/200\n",
      "\u001b[1m14/14\u001b[0m \u001b[32m━━━━━━━━━━━━━━━━━━━━\u001b[0m\u001b[37m\u001b[0m \u001b[1m0s\u001b[0m 5ms/step - accuracy: 0.7617 - loss: 0.4501 - val_accuracy: 0.7973 - val_loss: 0.4094\n",
      "Epoch 60/200\n",
      "\u001b[1m14/14\u001b[0m \u001b[32m━━━━━━━━━━━━━━━━━━━━\u001b[0m\u001b[37m\u001b[0m \u001b[1m0s\u001b[0m 5ms/step - accuracy: 0.8232 - loss: 0.3936 - val_accuracy: 0.8243 - val_loss: 0.3823\n",
      "Epoch 61/200\n",
      "\u001b[1m14/14\u001b[0m \u001b[32m━━━━━━━━━━━━━━━━━━━━\u001b[0m\u001b[37m\u001b[0m \u001b[1m0s\u001b[0m 5ms/step - accuracy: 0.8251 - loss: 0.4051 - val_accuracy: 0.8243 - val_loss: 0.4092\n",
      "Epoch 62/200\n",
      "\u001b[1m14/14\u001b[0m \u001b[32m━━━━━━━━━━━━━━━━━━━━\u001b[0m\u001b[37m\u001b[0m \u001b[1m0s\u001b[0m 5ms/step - accuracy: 0.7682 - loss: 0.4349 - val_accuracy: 0.8649 - val_loss: 0.3791\n",
      "Epoch 63/200\n",
      "\u001b[1m14/14\u001b[0m \u001b[32m━━━━━━━━━━━━━━━━━━━━\u001b[0m\u001b[37m\u001b[0m \u001b[1m0s\u001b[0m 5ms/step - accuracy: 0.7818 - loss: 0.4301 - val_accuracy: 0.7838 - val_loss: 0.4334\n",
      "Epoch 64/200\n",
      "\u001b[1m14/14\u001b[0m \u001b[32m━━━━━━━━━━━━━━━━━━━━\u001b[0m\u001b[37m\u001b[0m \u001b[1m0s\u001b[0m 5ms/step - accuracy: 0.7986 - loss: 0.4409 - val_accuracy: 0.8649 - val_loss: 0.3714\n",
      "Epoch 65/200\n",
      "\u001b[1m14/14\u001b[0m \u001b[32m━━━━━━━━━━━━━━━━━━━━\u001b[0m\u001b[37m\u001b[0m \u001b[1m0s\u001b[0m 6ms/step - accuracy: 0.8639 - loss: 0.3447 - val_accuracy: 0.8649 - val_loss: 0.3702\n",
      "Epoch 66/200\n",
      "\u001b[1m14/14\u001b[0m \u001b[32m━━━━━━━━━━━━━━━━━━━━\u001b[0m\u001b[37m\u001b[0m \u001b[1m0s\u001b[0m 5ms/step - accuracy: 0.8365 - loss: 0.3935 - val_accuracy: 0.8649 - val_loss: 0.3703\n",
      "Epoch 67/200\n",
      "\u001b[1m14/14\u001b[0m \u001b[32m━━━━━━━━━━━━━━━━━━━━\u001b[0m\u001b[37m\u001b[0m \u001b[1m0s\u001b[0m 5ms/step - accuracy: 0.8399 - loss: 0.3910 - val_accuracy: 0.8378 - val_loss: 0.3769\n",
      "Epoch 68/200\n",
      "\u001b[1m14/14\u001b[0m \u001b[32m━━━━━━━━━━━━━━━━━━━━\u001b[0m\u001b[37m\u001b[0m \u001b[1m0s\u001b[0m 5ms/step - accuracy: 0.8122 - loss: 0.3974 - val_accuracy: 0.8514 - val_loss: 0.3751\n",
      "Epoch 69/200\n",
      "\u001b[1m14/14\u001b[0m \u001b[32m━━━━━━━━━━━━━━━━━━━━\u001b[0m\u001b[37m\u001b[0m \u001b[1m0s\u001b[0m 5ms/step - accuracy: 0.8107 - loss: 0.4079 - val_accuracy: 0.7703 - val_loss: 0.4217\n",
      "Epoch 70/200\n",
      "\u001b[1m14/14\u001b[0m \u001b[32m━━━━━━━━━━━━━━━━━━━━\u001b[0m\u001b[37m\u001b[0m \u001b[1m0s\u001b[0m 5ms/step - accuracy: 0.8367 - loss: 0.3926 - val_accuracy: 0.8378 - val_loss: 0.3779\n",
      "Epoch 71/200\n",
      "\u001b[1m14/14\u001b[0m \u001b[32m━━━━━━━━━━━━━━━━━━━━\u001b[0m\u001b[37m\u001b[0m \u001b[1m0s\u001b[0m 5ms/step - accuracy: 0.8219 - loss: 0.4141 - val_accuracy: 0.8378 - val_loss: 0.3800\n",
      "Epoch 72/200\n",
      "\u001b[1m14/14\u001b[0m \u001b[32m━━━━━━━━━━━━━━━━━━━━\u001b[0m\u001b[37m\u001b[0m \u001b[1m0s\u001b[0m 5ms/step - accuracy: 0.8032 - loss: 0.4100 - val_accuracy: 0.9054 - val_loss: 0.3678\n",
      "Epoch 73/200\n",
      "\u001b[1m14/14\u001b[0m \u001b[32m━━━━━━━━━━━━━━━━━━━━\u001b[0m\u001b[37m\u001b[0m \u001b[1m0s\u001b[0m 5ms/step - accuracy: 0.8636 - loss: 0.3747 - val_accuracy: 0.8649 - val_loss: 0.3658\n",
      "Epoch 74/200\n",
      "\u001b[1m14/14\u001b[0m \u001b[32m━━━━━━━━━━━━━━━━━━━━\u001b[0m\u001b[37m\u001b[0m \u001b[1m0s\u001b[0m 5ms/step - accuracy: 0.8582 - loss: 0.3330 - val_accuracy: 0.8919 - val_loss: 0.3706\n",
      "Epoch 75/200\n",
      "\u001b[1m14/14\u001b[0m \u001b[32m━━━━━━━━━━━━━━━━━━━━\u001b[0m\u001b[37m\u001b[0m \u001b[1m0s\u001b[0m 6ms/step - accuracy: 0.8639 - loss: 0.3625 - val_accuracy: 0.8784 - val_loss: 0.3639\n",
      "Epoch 76/200\n",
      "\u001b[1m14/14\u001b[0m \u001b[32m━━━━━━━━━━━━━━━━━━━━\u001b[0m\u001b[37m\u001b[0m \u001b[1m0s\u001b[0m 5ms/step - accuracy: 0.8576 - loss: 0.3622 - val_accuracy: 0.9054 - val_loss: 0.3663\n",
      "Epoch 77/200\n",
      "\u001b[1m14/14\u001b[0m \u001b[32m━━━━━━━━━━━━━━━━━━━━\u001b[0m\u001b[37m\u001b[0m \u001b[1m0s\u001b[0m 5ms/step - accuracy: 0.8544 - loss: 0.3562 - val_accuracy: 0.8108 - val_loss: 0.3985\n",
      "Epoch 78/200\n",
      "\u001b[1m14/14\u001b[0m \u001b[32m━━━━━━━━━━━━━━━━━━━━\u001b[0m\u001b[37m\u001b[0m \u001b[1m0s\u001b[0m 6ms/step - accuracy: 0.8497 - loss: 0.3327 - val_accuracy: 0.8649 - val_loss: 0.3667\n",
      "Epoch 79/200\n",
      "\u001b[1m14/14\u001b[0m \u001b[32m━━━━━━━━━━━━━━━━━━━━\u001b[0m\u001b[37m\u001b[0m \u001b[1m0s\u001b[0m 7ms/step - accuracy: 0.8608 - loss: 0.3350 - val_accuracy: 0.8649 - val_loss: 0.3723\n",
      "Epoch 80/200\n",
      "\u001b[1m14/14\u001b[0m \u001b[32m━━━━━━━━━━━━━━━━━━━━\u001b[0m\u001b[37m\u001b[0m \u001b[1m0s\u001b[0m 5ms/step - accuracy: 0.8519 - loss: 0.3688 - val_accuracy: 0.8649 - val_loss: 0.3651\n",
      "Epoch 81/200\n",
      "\u001b[1m14/14\u001b[0m \u001b[32m━━━━━━━━━━━━━━━━━━━━\u001b[0m\u001b[37m\u001b[0m \u001b[1m0s\u001b[0m 5ms/step - accuracy: 0.8428 - loss: 0.3927 - val_accuracy: 0.8919 - val_loss: 0.3742\n",
      "Epoch 82/200\n",
      "\u001b[1m14/14\u001b[0m \u001b[32m━━━━━━━━━━━━━━━━━━━━\u001b[0m\u001b[37m\u001b[0m \u001b[1m0s\u001b[0m 5ms/step - accuracy: 0.8591 - loss: 0.3397 - val_accuracy: 0.8919 - val_loss: 0.3621\n",
      "Epoch 83/200\n",
      "\u001b[1m14/14\u001b[0m \u001b[32m━━━━━━━━━━━━━━━━━━━━\u001b[0m\u001b[37m\u001b[0m \u001b[1m0s\u001b[0m 5ms/step - accuracy: 0.8310 - loss: 0.3885 - val_accuracy: 0.8514 - val_loss: 0.3826\n",
      "Epoch 84/200\n",
      "\u001b[1m14/14\u001b[0m \u001b[32m━━━━━━━━━━━━━━━━━━━━\u001b[0m\u001b[37m\u001b[0m \u001b[1m0s\u001b[0m 5ms/step - accuracy: 0.8649 - loss: 0.3158 - val_accuracy: 0.9189 - val_loss: 0.3714\n",
      "Epoch 85/200\n",
      "\u001b[1m14/14\u001b[0m \u001b[32m━━━━━━━━━━━━━━━━━━━━\u001b[0m\u001b[37m\u001b[0m \u001b[1m0s\u001b[0m 5ms/step - accuracy: 0.8226 - loss: 0.3854 - val_accuracy: 0.8919 - val_loss: 0.3619\n",
      "Epoch 86/200\n",
      "\u001b[1m14/14\u001b[0m \u001b[32m━━━━━━━━━━━━━━━━━━━━\u001b[0m\u001b[37m\u001b[0m \u001b[1m0s\u001b[0m 6ms/step - accuracy: 0.8587 - loss: 0.3519 - val_accuracy: 0.8784 - val_loss: 0.3619\n",
      "Epoch 87/200\n",
      "\u001b[1m14/14\u001b[0m \u001b[32m━━━━━━━━━━━━━━━━━━━━\u001b[0m\u001b[37m\u001b[0m \u001b[1m0s\u001b[0m 5ms/step - accuracy: 0.8353 - loss: 0.3716 - val_accuracy: 0.8649 - val_loss: 0.3809\n",
      "Epoch 88/200\n",
      "\u001b[1m14/14\u001b[0m \u001b[32m━━━━━━━━━━━━━━━━━━━━\u001b[0m\u001b[37m\u001b[0m \u001b[1m0s\u001b[0m 5ms/step - accuracy: 0.8441 - loss: 0.3808 - val_accuracy: 0.8378 - val_loss: 0.3891\n",
      "Epoch 89/200\n",
      "\u001b[1m14/14\u001b[0m \u001b[32m━━━━━━━━━━━━━━━━━━━━\u001b[0m\u001b[37m\u001b[0m \u001b[1m0s\u001b[0m 6ms/step - accuracy: 0.8219 - loss: 0.3534 - val_accuracy: 0.7973 - val_loss: 0.4215\n",
      "Epoch 90/200\n",
      "\u001b[1m14/14\u001b[0m \u001b[32m━━━━━━━━━━━━━━━━━━━━\u001b[0m\u001b[37m\u001b[0m \u001b[1m0s\u001b[0m 6ms/step - accuracy: 0.8013 - loss: 0.4099 - val_accuracy: 0.9054 - val_loss: 0.3629\n",
      "Epoch 91/200\n",
      "\u001b[1m14/14\u001b[0m \u001b[32m━━━━━━━━━━━━━━━━━━━━\u001b[0m\u001b[37m\u001b[0m \u001b[1m0s\u001b[0m 6ms/step - accuracy: 0.8931 - loss: 0.2919 - val_accuracy: 0.8243 - val_loss: 0.4045\n",
      "Epoch 92/200\n",
      "\u001b[1m14/14\u001b[0m \u001b[32m━━━━━━━━━━━━━━━━━━━━\u001b[0m\u001b[37m\u001b[0m \u001b[1m0s\u001b[0m 5ms/step - accuracy: 0.8350 - loss: 0.3880 - val_accuracy: 0.9189 - val_loss: 0.3649\n",
      "Epoch 93/200\n",
      "\u001b[1m14/14\u001b[0m \u001b[32m━━━━━━━━━━━━━━━━━━━━\u001b[0m\u001b[37m\u001b[0m \u001b[1m0s\u001b[0m 5ms/step - accuracy: 0.8656 - loss: 0.3230 - val_accuracy: 0.9054 - val_loss: 0.3626\n",
      "Epoch 94/200\n",
      "\u001b[1m14/14\u001b[0m \u001b[32m━━━━━━━━━━━━━━━━━━━━\u001b[0m\u001b[37m\u001b[0m \u001b[1m0s\u001b[0m 6ms/step - accuracy: 0.8796 - loss: 0.3511 - val_accuracy: 0.7703 - val_loss: 0.4223\n",
      "Epoch 95/200\n",
      "\u001b[1m14/14\u001b[0m \u001b[32m━━━━━━━━━━━━━━━━━━━━\u001b[0m\u001b[37m\u001b[0m \u001b[1m0s\u001b[0m 5ms/step - accuracy: 0.8822 - loss: 0.3205 - val_accuracy: 0.8514 - val_loss: 0.3858\n",
      "Epoch 96/200\n",
      "\u001b[1m14/14\u001b[0m \u001b[32m━━━━━━━━━━━━━━━━━━━━\u001b[0m\u001b[37m\u001b[0m \u001b[1m0s\u001b[0m 5ms/step - accuracy: 0.7728 - loss: 0.3940 - val_accuracy: 0.8784 - val_loss: 0.3664\n",
      "Epoch 97/200\n",
      "\u001b[1m14/14\u001b[0m \u001b[32m━━━━━━━━━━━━━━━━━━━━\u001b[0m\u001b[37m\u001b[0m \u001b[1m0s\u001b[0m 6ms/step - accuracy: 0.8542 - loss: 0.3742 - val_accuracy: 0.8649 - val_loss: 0.3820\n",
      "Epoch 98/200\n",
      "\u001b[1m14/14\u001b[0m \u001b[32m━━━━━━━━━━━━━━━━━━━━\u001b[0m\u001b[37m\u001b[0m \u001b[1m0s\u001b[0m 6ms/step - accuracy: 0.8376 - loss: 0.3398 - val_accuracy: 0.8784 - val_loss: 0.3758\n",
      "Epoch 99/200\n",
      "\u001b[1m14/14\u001b[0m \u001b[32m━━━━━━━━━━━━━━━━━━━━\u001b[0m\u001b[37m\u001b[0m \u001b[1m0s\u001b[0m 5ms/step - accuracy: 0.8570 - loss: 0.3477 - val_accuracy: 0.8514 - val_loss: 0.3875\n",
      "Epoch 100/200\n",
      "\u001b[1m14/14\u001b[0m \u001b[32m━━━━━━━━━━━━━━━━━━━━\u001b[0m\u001b[37m\u001b[0m \u001b[1m0s\u001b[0m 6ms/step - accuracy: 0.8772 - loss: 0.3174 - val_accuracy: 0.8514 - val_loss: 0.4027\n",
      "Epoch 101/200\n",
      "\u001b[1m14/14\u001b[0m \u001b[32m━━━━━━━━━━━━━━━━━━━━\u001b[0m\u001b[37m\u001b[0m \u001b[1m0s\u001b[0m 5ms/step - accuracy: 0.8468 - loss: 0.3688 - val_accuracy: 0.8784 - val_loss: 0.3633\n",
      "Epoch 102/200\n",
      "\u001b[1m14/14\u001b[0m \u001b[32m━━━━━━━━━━━━━━━━━━━━\u001b[0m\u001b[37m\u001b[0m \u001b[1m0s\u001b[0m 5ms/step - accuracy: 0.8383 - loss: 0.3766 - val_accuracy: 0.8784 - val_loss: 0.3685\n",
      "Epoch 103/200\n",
      "\u001b[1m14/14\u001b[0m \u001b[32m━━━━━━━━━━━━━━━━━━━━\u001b[0m\u001b[37m\u001b[0m \u001b[1m0s\u001b[0m 5ms/step - accuracy: 0.8340 - loss: 0.4054 - val_accuracy: 0.7838 - val_loss: 0.4486\n",
      "Epoch 104/200\n",
      "\u001b[1m14/14\u001b[0m \u001b[32m━━━━━━━━━━━━━━━━━━━━\u001b[0m\u001b[37m\u001b[0m \u001b[1m0s\u001b[0m 5ms/step - accuracy: 0.8039 - loss: 0.4139 - val_accuracy: 0.9054 - val_loss: 0.3726\n",
      "Epoch 105/200\n",
      "\u001b[1m14/14\u001b[0m \u001b[32m━━━━━━━━━━━━━━━━━━━━\u001b[0m\u001b[37m\u001b[0m \u001b[1m0s\u001b[0m 5ms/step - accuracy: 0.8418 - loss: 0.3632 - val_accuracy: 0.9054 - val_loss: 0.3639\n"
     ]
    },
    {
     "data": {
      "text/plain": [
       "<keras.src.callbacks.history.History at 0x21b1dbe8b30>"
      ]
     },
     "execution_count": 40,
     "metadata": {},
     "output_type": "execute_result"
    }
   ],
   "source": [
    "# Define o callback EarlyStopping\n",
    "early_stopping = EarlyStopping(monitor='val_loss', # Monitora a perda no conjunto de validação\n",
    "                               patience=20,        # Número de epochs para esperar antes de parar se não houver melhora\n",
    "                               restore_best_weights=True)  # Restaura os pesos do melhor modelo\n",
    "\n",
    "# Treinamento do modelo\n",
    "classifier.fit(X_train, y_train, epochs = 200, batch_size = 16, validation_data = (X_test, y_test),callbacks=[early_stopping])"
   ]
  },
  {
   "cell_type": "code",
   "execution_count": 41,
   "metadata": {
    "colab": {
     "base_uri": "https://localhost:8080/"
    },
    "id": "7j85fnwzn64C",
    "outputId": "630f8c20-ddb3-4bd1-f590-81573087dad4"
   },
   "outputs": [
    {
     "name": "stdout",
     "output_type": "stream",
     "text": [
      "\u001b[1m3/3\u001b[0m \u001b[32m━━━━━━━━━━━━━━━━━━━━\u001b[0m\u001b[37m\u001b[0m \u001b[1m0s\u001b[0m 18ms/step\n"
     ]
    }
   ],
   "source": [
    "# Previsões do modelo\n",
    "y_pred = classifier.predict(X_test)\n",
    "y_pred_binary = (y_pred >= 0.5).astype(int)"
   ]
  },
  {
   "cell_type": "code",
   "execution_count": null,
   "metadata": {
    "colab": {
     "base_uri": "https://localhost:8080/"
    },
    "id": "VPlVrHZk_hDS",
    "outputId": "176db80f-4a29-4ed1-8ef7-e34c39b7fec1"
   },
   "outputs": [
    {
     "name": "stdout",
     "output_type": "stream",
     "text": [
      "\n",
      "Relatório de Classificação:\n",
      "+--------------+-----------+--------+----------+---------+\n",
      "|              | precision | recall | f1-score | support |\n",
      "+--------------+-----------+--------+----------+---------+\n",
      "|      0       |   0.96    |  0.78  |   0.86   |  32.0   |\n",
      "|      1       |   0.85    |  0.98  |   0.91   |  42.0   |\n",
      "|   accuracy   |   0.89    |  0.89  |   0.89   |  0.89   |\n",
      "|  macro avg   |   0.91    |  0.88  |   0.89   |  74.0   |\n",
      "| weighted avg |    0.9    |  0.89  |   0.89   |  74.0   |\n",
      "+--------------+-----------+--------+----------+---------+\n"
     ]
    }
   ],
   "source": [
    "# type: ignore\n",
    "report = classification_report(y_test, y_pred_binary, output_dict=True)\n",
    "df_report = pd.DataFrame(report).transpose()\n",
    "\n",
    "# Arredondando valores para 2 casas decimais\n",
    "df_report_rounded = df_report.round(2)\n",
    "\n",
    "print(\"\\nRelatório de Classificação:\")\n",
    "print(tabulate(df_report_rounded, headers='keys', tablefmt='pretty'))"
   ]
  },
  {
   "cell_type": "code",
   "execution_count": 43,
   "metadata": {
    "colab": {
     "base_uri": "https://localhost:8080/",
     "height": 433
    },
    "id": "n9wIkwSg1JC3",
    "outputId": "b10d5005-49e4-4a85-e5f7-0c418a5b5c5b"
   },
   "outputs": [
    {
     "name": "stdout",
     "output_type": "stream",
     "text": [
      "Acurácia: 89.19%\n"
     ]
    },
    {
     "data": {
      "image/png": "[encoded data removed]",
      "text/plain": [
       "<Figure size 600x400 with 1 Axes>"
      ]
     },
     "metadata": {},
     "output_type": "display_data"
    }
   ],
   "source": [
    "# Plot da matriz de confusão\n",
    "\n",
    "# 1. Calcular a acurácia\n",
    "acuracia = accuracy_score(y_test, y_pred_binary)\n",
    "print(f\"Acurácia: {acuracia:.2%}\")\n",
    "\n",
    "# 2. Matriz de Confusão estilizada com seaborn\n",
    "cm = confusion_matrix(y_test, y_pred_binary)\n",
    "\n",
    "plt.figure(figsize=(6, 4))\n",
    "sns.heatmap(cm, annot=True, fmt='d', cmap='Blues', cbar=False,\n",
    "            annot_kws={\"size\": 14}, linewidths=2, linecolor='black')\n",
    "\n",
    "plt.title('Matriz de Confusão', fontsize=14, fontweight='bold')\n",
    "plt.ylabel('Valor Real', fontsize=12)\n",
    "plt.xlabel('Valor Predito', fontsize=12)\n",
    "plt.xticks(fontsize=10)\n",
    "plt.yticks(fontsize=10)\n",
    "plt.show()"
   ]
  },
  {
   "cell_type": "markdown",
   "metadata": {
    "id": "5-kMtIet1taT"
   },
   "source": [
    "#### Interpretação da Matriz de Confusão\n",
    "\n",
    "- **Verdadeiros Negativos (VN):** 24 pessoas que **não tinham tendência** de desenvolver doença cardíaca com o tempo, e o modelo classificou corretamente.  \n",
    "- **Verdadeiros Positivos (VP):** 41 pessoas que **tinham tendência** de desenvolver doença cardíaca com o tempo, e o modelo classificou corretamente.  \n",
    "- **Falsos Positivos (FP):** 8 pessoas que **não tinham tendência** de desenvolver doença cardíaca, mas o modelo previu incorretamente que tinham.  \n",
    "- **Falsos Negativos (FN):** 1 pessoas que **tinham tendência** de desenvolver doença cardíaca, mas o modelo previu incorretamente que não tinham.  \n"
   ]
  },
  {
   "cell_type": "markdown",
   "metadata": {
    "id": "dvcO1qDO19zs"
   },
   "source": [
    "### **MÁQUINAS DE VETORES DE SUPORTE (SVM)**"
   ]
  },
  {
   "cell_type": "code",
   "execution_count": 44,
   "metadata": {
    "colab": {
     "base_uri": "https://localhost:8080/"
    },
    "id": "wwAv3khM29D_",
    "outputId": "689efaac-aef7-47f8-d289-af5033873d2e"
   },
   "outputs": [
    {
     "name": "stdout",
     "output_type": "stream",
     "text": [
      "Forma de X: (294, 12)\n",
      "Forma de y: (294,)\n"
     ]
    }
   ],
   "source": [
    "# Aplicando padronização nos dados\n",
    "scaler = StandardScaler()\n",
    "\n",
    "# Separando as variáveis independentes (X) e dependente (y)\n",
    "X = data.iloc[:, :12]  # Seleciona as primeiras 11 colunas (índices 0 a 10)\n",
    "y = data.iloc[:, 12].values  # Seleciona a coluna 11 (target) do DataFrame original\n",
    "\n",
    "X_norm = StandardScaler().fit_transform(X)\n",
    "# Verificando as formas de X e y\n",
    "print(\"Forma de X:\", X.shape)\n",
    "print(\"Forma de y:\", y.shape)"
   ]
  },
  {
   "cell_type": "code",
   "execution_count": 45,
   "metadata": {
    "id": "pz44V0k13E_x"
   },
   "outputs": [],
   "source": [
    "# Separação dos dados em 75% para treino e 25% para teste\n",
    "X_train, X_test, y_train, y_test = train_test_split(X_norm, y, test_size=0.25, random_state=42)"
   ]
  },
  {
   "cell_type": "code",
   "execution_count": 46,
   "metadata": {
    "colab": {
     "base_uri": "https://localhost:8080/",
     "height": 80
    },
    "id": "p1Dx9AU42EM7",
    "outputId": "dbb645e2-b960-471a-9324-632d6ac57989"
   },
   "outputs": [
    {
     "data": {
      "text/html": [
       "<style>#sk-container-id-2 {\n",
       "  /* Definition of color scheme common for light and dark mode */\n",
       "  --sklearn-color-text: #000;\n",
       "  --sklearn-color-text-muted: #666;\n",
       "  --sklearn-color-line: gray;\n",
       "  /* Definition of color scheme for unfitted estimators */\n",
       "  --sklearn-color-unfitted-level-0: #fff5e6;\n",
       "  --sklearn-color-unfitted-level-1: #f6e4d2;\n",
       "  --sklearn-color-unfitted-level-2: #ffe0b3;\n",
       "  --sklearn-color-unfitted-level-3: chocolate;\n",
       "  /* Definition of color scheme for fitted estimators */\n",
       "  --sklearn-color-fitted-level-0: #f0f8ff;\n",
       "  --sklearn-color-fitted-level-1: #d4ebff;\n",
       "  --sklearn-color-fitted-level-2: #b3dbfd;\n",
       "  --sklearn-color-fitted-level-3: cornflowerblue;\n",
       "\n",
       "  /* Specific color for light theme */\n",
       "  --sklearn-color-text-on-default-background: var(--sg-text-color, var(--theme-code-foreground, var(--jp-content-font-color1, black)));\n",
       "  --sklearn-color-background: var(--sg-background-color, var(--theme-background, var(--jp-layout-color0, white)));\n",
       "  --sklearn-color-border-box: var(--sg-text-color, var(--theme-code-foreground, var(--jp-content-font-color1, black)));\n",
       "  --sklearn-color-icon: #696969;\n",
       "\n",
       "  @media (prefers-color-scheme: dark) {\n",
       "    /* Redefinition of color scheme for dark theme */\n",
       "    --sklearn-color-text-on-default-background: var(--sg-text-color, var(--theme-code-foreground, var(--jp-content-font-color1, white)));\n",
       "    --sklearn-color-background: var(--sg-background-color, var(--theme-background, var(--jp-layout-color0, #111)));\n",
       "    --sklearn-color-border-box: var(--sg-text-color, var(--theme-code-foreground, var(--jp-content-font-color1, white)));\n",
       "    --sklearn-color-icon: #878787;\n",
       "  }\n",
       "}\n",
       "\n",
       "#sk-container-id-2 {\n",
       "  color: var(--sklearn-color-text);\n",
       "}\n",
       "\n",
       "#sk-container-id-2 pre {\n",
       "  padding: 0;\n",
       "}\n",
       "\n",
       "#sk-container-id-2 input.sk-hidden--visually {\n",
       "  border: 0;\n",
       "  clip: rect(1px 1px 1px 1px);\n",
       "  clip: rect(1px, 1px, 1px, 1px);\n",
       "  height: 1px;\n",
       "  margin: -1px;\n",
       "  overflow: hidden;\n",
       "  padding: 0;\n",
       "  position: absolute;\n",
       "  width: 1px;\n",
       "}\n",
       "\n",
       "#sk-container-id-2 div.sk-dashed-wrapped {\n",
       "  border: 1px dashed var(--sklearn-color-line);\n",
       "  margin: 0 0.4em 0.5em 0.4em;\n",
       "  box-sizing: border-box;\n",
       "  padding-bottom: 0.4em;\n",
       "  background-color: var(--sklearn-color-background);\n",
       "}\n",
       "\n",
       "#sk-container-id-2 div.sk-container {\n",
       "  /* jupyter's `normalize.less` sets `[hidden] { display: none; }`\n",
       "     but bootstrap.min.css set `[hidden] { display: none !important; }`\n",
       "     so we also need the `!important` here to be able to override the\n",
       "     default hidden behavior on the sphinx rendered scikit-learn.org.\n",
       "     See: https://github.com/scikit-learn/scikit-learn/issues/21755 */\n",
       "  display: inline-block !important;\n",
       "  position: relative;\n",
       "}\n",
       "\n",
       "#sk-container-id-2 div.sk-text-repr-fallback {\n",
       "  display: none;\n",
       "}\n",
       "\n",
       "div.sk-parallel-item,\n",
       "div.sk-serial,\n",
       "div.sk-item {\n",
       "  /* draw centered vertical line to link estimators */\n",
       "  background-image: linear-gradient(var(--sklearn-color-text-on-default-background), var(--sklearn-color-text-on-default-background));\n",
       "  background-size: 2px 100%;\n",
       "  background-repeat: no-repeat;\n",
       "  background-position: center center;\n",
       "}\n",
       "\n",
       "/* Parallel-specific style estimator block */\n",
       "\n",
       "#sk-container-id-2 div.sk-parallel-item::after {\n",
       "  content: \"\";\n",
       "  width: 100%;\n",
       "  border-bottom: 2px solid var(--sklearn-color-text-on-default-background);\n",
       "  flex-grow: 1;\n",
       "}\n",
       "\n",
       "#sk-container-id-2 div.sk-parallel {\n",
       "  display: flex;\n",
       "  align-items: stretch;\n",
       "  justify-content: center;\n",
       "  background-color: var(--sklearn-color-background);\n",
       "  position: relative;\n",
       "}\n",
       "\n",
       "#sk-container-id-2 div.sk-parallel-item {\n",
       "  display: flex;\n",
       "  flex-direction: column;\n",
       "}\n",
       "\n",
       "#sk-container-id-2 div.sk-parallel-item:first-child::after {\n",
       "  align-self: flex-end;\n",
       "  width: 50%;\n",
       "}\n",
       "\n",
       "#sk-container-id-2 div.sk-parallel-item:last-child::after {\n",
       "  align-self: flex-start;\n",
       "  width: 50%;\n",
       "}\n",
       "\n",
       "#sk-container-id-2 div.sk-parallel-item:only-child::after {\n",
       "  width: 0;\n",
       "}\n",
       "\n",
       "/* Serial-specific style estimator block */\n",
       "\n",
       "#sk-container-id-2 div.sk-serial {\n",
       "  display: flex;\n",
       "  flex-direction: column;\n",
       "  align-items: center;\n",
       "  background-color: var(--sklearn-color-background);\n",
       "  padding-right: 1em;\n",
       "  padding-left: 1em;\n",
       "}\n",
       "\n",
       "\n",
       "/* Toggleable style: style used for estimator/Pipeline/ColumnTransformer box that is\n",
       "clickable and can be expanded/collapsed.\n",
       "- Pipeline and ColumnTransformer use this feature and define the default style\n",
       "- Estimators will overwrite some part of the style using the `sk-estimator` class\n",
       "*/\n",
       "\n",
       "/* Pipeline and ColumnTransformer style (default) */\n",
       "\n",
       "#sk-container-id-2 div.sk-toggleable {\n",
       "  /* Default theme specific background. It is overwritten whether we have a\n",
       "  specific estimator or a Pipeline/ColumnTransformer */\n",
       "  background-color: var(--sklearn-color-background);\n",
       "}\n",
       "\n",
       "/* Toggleable label */\n",
       "#sk-container-id-2 label.sk-toggleable__label {\n",
       "  cursor: pointer;\n",
       "  display: flex;\n",
       "  width: 100%;\n",
       "  margin-bottom: 0;\n",
       "  padding: 0.5em;\n",
       "  box-sizing: border-box;\n",
       "  text-align: center;\n",
       "  align-items: start;\n",
       "  justify-content: space-between;\n",
       "  gap: 0.5em;\n",
       "}\n",
       "\n",
       "#sk-container-id-2 label.sk-toggleable__label .caption {\n",
       "  font-size: 0.6rem;\n",
       "  font-weight: lighter;\n",
       "  color: var(--sklearn-color-text-muted);\n",
       "}\n",
       "\n",
       "#sk-container-id-2 label.sk-toggleable__label-arrow:before {\n",
       "  /* Arrow on the left of the label */\n",
       "  content: \"▸\";\n",
       "  float: left;\n",
       "  margin-right: 0.25em;\n",
       "  color: var(--sklearn-color-icon);\n",
       "}\n",
       "\n",
       "#sk-container-id-2 label.sk-toggleable__label-arrow:hover:before {\n",
       "  color: var(--sklearn-color-text);\n",
       "}\n",
       "\n",
       "/* Toggleable content - dropdown */\n",
       "\n",
       "#sk-container-id-2 div.sk-toggleable__content {\n",
       "  max-height: 0;\n",
       "  max-width: 0;\n",
       "  overflow: hidden;\n",
       "  text-align: left;\n",
       "  /* unfitted */\n",
       "  background-color: var(--sklearn-color-unfitted-level-0);\n",
       "}\n",
       "\n",
       "#sk-container-id-2 div.sk-toggleable__content.fitted {\n",
       "  /* fitted */\n",
       "  background-color: var(--sklearn-color-fitted-level-0);\n",
       "}\n",
       "\n",
       "#sk-container-id-2 div.sk-toggleable__content pre {\n",
       "  margin: 0.2em;\n",
       "  border-radius: 0.25em;\n",
       "  color: var(--sklearn-color-text);\n",
       "  /* unfitted */\n",
       "  background-color: var(--sklearn-color-unfitted-level-0);\n",
       "}\n",
       "\n",
       "#sk-container-id-2 div.sk-toggleable__content.fitted pre {\n",
       "  /* unfitted */\n",
       "  background-color: var(--sklearn-color-fitted-level-0);\n",
       "}\n",
       "\n",
       "#sk-container-id-2 input.sk-toggleable__control:checked~div.sk-toggleable__content {\n",
       "  /* Expand drop-down */\n",
       "  max-height: 200px;\n",
       "  max-width: 100%;\n",
       "  overflow: auto;\n",
       "}\n",
       "\n",
       "#sk-container-id-2 input.sk-toggleable__control:checked~label.sk-toggleable__label-arrow:before {\n",
       "  content: \"▾\";\n",
       "}\n",
       "\n",
       "/* Pipeline/ColumnTransformer-specific style */\n",
       "\n",
       "#sk-container-id-2 div.sk-label input.sk-toggleable__control:checked~label.sk-toggleable__label {\n",
       "  color: var(--sklearn-color-text);\n",
       "  background-color: var(--sklearn-color-unfitted-level-2);\n",
       "}\n",
       "\n",
       "#sk-container-id-2 div.sk-label.fitted input.sk-toggleable__control:checked~label.sk-toggleable__label {\n",
       "  background-color: var(--sklearn-color-fitted-level-2);\n",
       "}\n",
       "\n",
       "/* Estimator-specific style */\n",
       "\n",
       "/* Colorize estimator box */\n",
       "#sk-container-id-2 div.sk-estimator input.sk-toggleable__control:checked~label.sk-toggleable__label {\n",
       "  /* unfitted */\n",
       "  background-color: var(--sklearn-color-unfitted-level-2);\n",
       "}\n",
       "\n",
       "#sk-container-id-2 div.sk-estimator.fitted input.sk-toggleable__control:checked~label.sk-toggleable__label {\n",
       "  /* fitted */\n",
       "  background-color: var(--sklearn-color-fitted-level-2);\n",
       "}\n",
       "\n",
       "#sk-container-id-2 div.sk-label label.sk-toggleable__label,\n",
       "#sk-container-id-2 div.sk-label label {\n",
       "  /* The background is the default theme color */\n",
       "  color: var(--sklearn-color-text-on-default-background);\n",
       "}\n",
       "\n",
       "/* On hover, darken the color of the background */\n",
       "#sk-container-id-2 div.sk-label:hover label.sk-toggleable__label {\n",
       "  color: var(--sklearn-color-text);\n",
       "  background-color: var(--sklearn-color-unfitted-level-2);\n",
       "}\n",
       "\n",
       "/* Label box, darken color on hover, fitted */\n",
       "#sk-container-id-2 div.sk-label.fitted:hover label.sk-toggleable__label.fitted {\n",
       "  color: var(--sklearn-color-text);\n",
       "  background-color: var(--sklearn-color-fitted-level-2);\n",
       "}\n",
       "\n",
       "/* Estimator label */\n",
       "\n",
       "#sk-container-id-2 div.sk-label label {\n",
       "  font-family: monospace;\n",
       "  font-weight: bold;\n",
       "  display: inline-block;\n",
       "  line-height: 1.2em;\n",
       "}\n",
       "\n",
       "#sk-container-id-2 div.sk-label-container {\n",
       "  text-align: center;\n",
       "}\n",
       "\n",
       "/* Estimator-specific */\n",
       "#sk-container-id-2 div.sk-estimator {\n",
       "  font-family: monospace;\n",
       "  border: 1px dotted var(--sklearn-color-border-box);\n",
       "  border-radius: 0.25em;\n",
       "  box-sizing: border-box;\n",
       "  margin-bottom: 0.5em;\n",
       "  /* unfitted */\n",
       "  background-color: var(--sklearn-color-unfitted-level-0);\n",
       "}\n",
       "\n",
       "#sk-container-id-2 div.sk-estimator.fitted {\n",
       "  /* fitted */\n",
       "  background-color: var(--sklearn-color-fitted-level-0);\n",
       "}\n",
       "\n",
       "/* on hover */\n",
       "#sk-container-id-2 div.sk-estimator:hover {\n",
       "  /* unfitted */\n",
       "  background-color: var(--sklearn-color-unfitted-level-2);\n",
       "}\n",
       "\n",
       "#sk-container-id-2 div.sk-estimator.fitted:hover {\n",
       "  /* fitted */\n",
       "  background-color: var(--sklearn-color-fitted-level-2);\n",
       "}\n",
       "\n",
       "/* Specification for estimator info (e.g. \"i\" and \"?\") */\n",
       "\n",
       "/* Common style for \"i\" and \"?\" */\n",
       "\n",
       ".sk-estimator-doc-link,\n",
       "a:link.sk-estimator-doc-link,\n",
       "a:visited.sk-estimator-doc-link {\n",
       "  float: right;\n",
       "  font-size: smaller;\n",
       "  line-height: 1em;\n",
       "  font-family: monospace;\n",
       "  background-color: var(--sklearn-color-background);\n",
       "  border-radius: 1em;\n",
       "  height: 1em;\n",
       "  width: 1em;\n",
       "  text-decoration: none !important;\n",
       "  margin-left: 0.5em;\n",
       "  text-align: center;\n",
       "  /* unfitted */\n",
       "  border: var(--sklearn-color-unfitted-level-1) 1pt solid;\n",
       "  color: var(--sklearn-color-unfitted-level-1);\n",
       "}\n",
       "\n",
       ".sk-estimator-doc-link.fitted,\n",
       "a:link.sk-estimator-doc-link.fitted,\n",
       "a:visited.sk-estimator-doc-link.fitted {\n",
       "  /* fitted */\n",
       "  border: var(--sklearn-color-fitted-level-1) 1pt solid;\n",
       "  color: var(--sklearn-color-fitted-level-1);\n",
       "}\n",
       "\n",
       "/* On hover */\n",
       "div.sk-estimator:hover .sk-estimator-doc-link:hover,\n",
       ".sk-estimator-doc-link:hover,\n",
       "div.sk-label-container:hover .sk-estimator-doc-link:hover,\n",
       ".sk-estimator-doc-link:hover {\n",
       "  /* unfitted */\n",
       "  background-color: var(--sklearn-color-unfitted-level-3);\n",
       "  color: var(--sklearn-color-background);\n",
       "  text-decoration: none;\n",
       "}\n",
       "\n",
       "div.sk-estimator.fitted:hover .sk-estimator-doc-link.fitted:hover,\n",
       ".sk-estimator-doc-link.fitted:hover,\n",
       "div.sk-label-container:hover .sk-estimator-doc-link.fitted:hover,\n",
       ".sk-estimator-doc-link.fitted:hover {\n",
       "  /* fitted */\n",
       "  background-color: var(--sklearn-color-fitted-level-3);\n",
       "  color: var(--sklearn-color-background);\n",
       "  text-decoration: none;\n",
       "}\n",
       "\n",
       "/* Span, style for the box shown on hovering the info icon */\n",
       ".sk-estimator-doc-link span {\n",
       "  display: none;\n",
       "  z-index: 9999;\n",
       "  position: relative;\n",
       "  font-weight: normal;\n",
       "  right: .2ex;\n",
       "  padding: .5ex;\n",
       "  margin: .5ex;\n",
       "  width: min-content;\n",
       "  min-width: 20ex;\n",
       "  max-width: 50ex;\n",
       "  color: var(--sklearn-color-text);\n",
       "  box-shadow: 2pt 2pt 4pt #999;\n",
       "  /* unfitted */\n",
       "  background: var(--sklearn-color-unfitted-level-0);\n",
       "  border: .5pt solid var(--sklearn-color-unfitted-level-3);\n",
       "}\n",
       "\n",
       ".sk-estimator-doc-link.fitted span {\n",
       "  /* fitted */\n",
       "  background: var(--sklearn-color-fitted-level-0);\n",
       "  border: var(--sklearn-color-fitted-level-3);\n",
       "}\n",
       "\n",
       ".sk-estimator-doc-link:hover span {\n",
       "  display: block;\n",
       "}\n",
       "\n",
       "/* \"?\"-specific style due to the `<a>` HTML tag */\n",
       "\n",
       "#sk-container-id-2 a.estimator_doc_link {\n",
       "  float: right;\n",
       "  font-size: 1rem;\n",
       "  line-height: 1em;\n",
       "  font-family: monospace;\n",
       "  background-color: var(--sklearn-color-background);\n",
       "  border-radius: 1rem;\n",
       "  height: 1rem;\n",
       "  width: 1rem;\n",
       "  text-decoration: none;\n",
       "  /* unfitted */\n",
       "  color: var(--sklearn-color-unfitted-level-1);\n",
       "  border: var(--sklearn-color-unfitted-level-1) 1pt solid;\n",
       "}\n",
       "\n",
       "#sk-container-id-2 a.estimator_doc_link.fitted {\n",
       "  /* fitted */\n",
       "  border: var(--sklearn-color-fitted-level-1) 1pt solid;\n",
       "  color: var(--sklearn-color-fitted-level-1);\n",
       "}\n",
       "\n",
       "/* On hover */\n",
       "#sk-container-id-2 a.estimator_doc_link:hover {\n",
       "  /* unfitted */\n",
       "  background-color: var(--sklearn-color-unfitted-level-3);\n",
       "  color: var(--sklearn-color-background);\n",
       "  text-decoration: none;\n",
       "}\n",
       "\n",
       "#sk-container-id-2 a.estimator_doc_link.fitted:hover {\n",
       "  /* fitted */\n",
       "  background-color: var(--sklearn-color-fitted-level-3);\n",
       "}\n",
       "</style><div id=\"sk-container-id-2\" class=\"sk-top-container\"><div class=\"sk-text-repr-fallback\"><pre>SVC(C=2, random_state=1)</pre><b>In a Jupyter environment, please rerun this cell to show the HTML representation or trust the notebook. <br />On GitHub, the HTML representation is unable to render, please try loading this page with nbviewer.org.</b></div><div class=\"sk-container\" hidden><div class=\"sk-item\"><div class=\"sk-estimator fitted sk-toggleable\"><input class=\"sk-toggleable__control sk-hidden--visually\" id=\"sk-estimator-id-2\" type=\"checkbox\" checked><label for=\"sk-estimator-id-2\" class=\"sk-toggleable__label fitted sk-toggleable__label-arrow\"><div><div>SVC</div></div><div><a class=\"sk-estimator-doc-link fitted\" rel=\"noreferrer\" target=\"_blank\" href=\"https://scikit-learn.org/1.6/modules/generated/sklearn.svm.SVC.html\">?<span>Documentation for SVC</span></a><span class=\"sk-estimator-doc-link fitted\">i<span>Fitted</span></span></div></label><div class=\"sk-toggleable__content fitted\"><pre>SVC(C=2, random_state=1)</pre></div> </div></div></div></div>"
      ],
      "text/plain": [
       "SVC(C=2, random_state=1)"
      ]
     },
     "execution_count": 46,
     "metadata": {},
     "output_type": "execute_result"
    }
   ],
   "source": [
    "# Criação da maquina de vetor de suporte\n",
    "svm = SVC(kernel=\"rbf\", random_state=1, C=2)\n",
    "svm.fit(X_train, y_train)"
   ]
  },
  {
   "cell_type": "code",
   "execution_count": 47,
   "metadata": {
    "colab": {
     "base_uri": "https://localhost:8080/"
    },
    "id": "qLtVv9eo2ZTO",
    "outputId": "0cc4336e-e56b-4427-94e0-c052098947c3"
   },
   "outputs": [
    {
     "data": {
      "text/plain": [
       "array([1, 1, 1, 0, 0, 1, 0, 0, 1, 0, 1, 1, 0, 1, 1, 0, 1, 0, 0, 1, 0, 0,\n",
       "       0, 1, 0, 0, 1, 1, 1, 1, 0, 1, 0, 1, 1, 1, 1, 0, 0, 0, 1, 1, 1, 1,\n",
       "       0, 0, 0, 0, 1, 1, 0, 1, 1, 1, 1, 1, 0, 1, 0, 0, 0, 1, 1, 1, 1, 1,\n",
       "       1, 1, 1, 1, 1, 1, 1, 1])"
      ]
     },
     "execution_count": 47,
     "metadata": {},
     "output_type": "execute_result"
    }
   ],
   "source": [
    "svm_results = svm.predict(X_test)\n",
    "svm_results"
   ]
  },
  {
   "cell_type": "code",
   "execution_count": null,
   "metadata": {
    "colab": {
     "base_uri": "https://localhost:8080/"
    },
    "id": "vp5ADsxG5VJh",
    "outputId": "1513af79-bc9a-48fa-f57f-90577ba7b2f6"
   },
   "outputs": [
    {
     "name": "stdout",
     "output_type": "stream",
     "text": [
      "\n",
      "Relatório de Classificação:\n",
      "+--------------+-----------+--------+----------+---------+\n",
      "|              | precision | recall | f1-score | support |\n",
      "+--------------+-----------+--------+----------+---------+\n",
      "|      0       |   0.86    |  0.75  |   0.8    |  32.0   |\n",
      "|      1       |   0.83    |  0.9   |   0.86   |  42.0   |\n",
      "|   accuracy   |   0.84    |  0.84  |   0.84   |  0.84   |\n",
      "|  macro avg   |   0.84    |  0.83  |   0.83   |  74.0   |\n",
      "| weighted avg |   0.84    |  0.84  |   0.84   |  74.0   |\n",
      "+--------------+-----------+--------+----------+---------+\n"
     ]
    }
   ],
   "source": [
    "# type: ignore\n",
    "# Relatório de Classificação\n",
    "report = classification_report(y_test, svm_results, output_dict=True)\n",
    "df_report = pd.DataFrame(report).transpose()\n",
    "\n",
    "# Arredondando valores para 2 casas decimais\n",
    "df_report_rounded = df_report.round(2)\n",
    "\n",
    "print(\"\\nRelatório de Classificação:\")\n",
    "print(tabulate(df_report_rounded, headers='keys', tablefmt='pretty'))"
   ]
  },
  {
   "cell_type": "code",
   "execution_count": 49,
   "metadata": {
    "colab": {
     "base_uri": "https://localhost:8080/",
     "height": 433
    },
    "id": "qnOfevaa3Fc2",
    "outputId": "273d78f2-9d67-449a-b4c2-018334d92f4d"
   },
   "outputs": [
    {
     "name": "stdout",
     "output_type": "stream",
     "text": [
      "Acurácia: 83.78%\n"
     ]
    },
    {
     "data": {
      "image/png": "[encoded data removed]",
      "text/plain": [
       "<Figure size 600x400 with 1 Axes>"
      ]
     },
     "metadata": {},
     "output_type": "display_data"
    }
   ],
   "source": [
    "# 1. Calcular a acurácia\n",
    "acuracia = accuracy_score(y_test, svm_results)\n",
    "print(f\"Acurácia: {acuracia:.2%}\")\n",
    "\n",
    "# 2. Matriz de Confusão estilizada com seaborn\n",
    "cm = confusion_matrix(y_test, svm_results)\n",
    "\n",
    "plt.figure(figsize=(6, 4))\n",
    "sns.heatmap(cm, annot=True, fmt='d', cmap='Blues', cbar=False,\n",
    "            annot_kws={\"size\": 14}, linewidths=2, linecolor='black')\n",
    "\n",
    "plt.title('Matriz de Confusão', fontsize=14, fontweight='bold')\n",
    "plt.ylabel('Valor Real', fontsize=12)\n",
    "plt.xlabel('Valor Predito', fontsize=12)\n",
    "plt.xticks(fontsize=10)\n",
    "plt.yticks(fontsize=10)\n",
    "plt.show()"
   ]
  },
  {
   "cell_type": "markdown",
   "metadata": {
    "id": "VvpvS0xO3Wif"
   },
   "source": [
    "#### Interpretação da Matriz de Confusão\n",
    "\n",
    "- **Verdadeiros Negativos (VN):** 24 pessoas que **não tinham tendência** de desenvolver doença cardíaca com o tempo, e o modelo classificou corretamente.  \n",
    "- **Verdadeiros Positivos (VP):** 38 pessoas que **tinham tendência** de desenvolver doença cardíaca com o tempo, e o modelo classificou corretamente.  \n",
    "- **Falsos Positivos (FP):** 8 pessoas que **não tinham tendência** de desenvolver doença cardíaca, mas o modelo previu incorretamente que tinham.  \n",
    "- **Falsos Negativos (FN):** 4 pessoas que **tinham tendência** de desenvolver doença cardíaca, mas o modelo previu incorretamente que não tinham.  \n"
   ]
  },
  {
   "cell_type": "markdown",
   "metadata": {
    "id": "2Bjynte_3RBc"
   },
   "source": []
  },
  {
   "cell_type": "markdown",
   "metadata": {
    "id": "qYpwrDVS9qEA"
   },
   "source": [
    "### **ÁRVORE DE DECISÃO**"
   ]
  },
  {
   "cell_type": "code",
   "execution_count": 50,
   "metadata": {
    "id": "BwEul29i90sP"
   },
   "outputs": [],
   "source": [
    "# Separação dos dados em 75% para treino e 25% para teste\n",
    "X_train, X_test, y_train, y_test = train_test_split(X, y, test_size=0.25, random_state=42)"
   ]
  },
  {
   "cell_type": "code",
   "execution_count": 51,
   "metadata": {
    "colab": {
     "base_uri": "https://localhost:8080/",
     "height": 80
    },
    "id": "N8J7zf7O9u1h",
    "outputId": "c9a7001f-1192-4c33-a707-07ba7ee63b3e"
   },
   "outputs": [
    {
     "data": {
      "text/html": [
       "<style>#sk-container-id-3 {\n",
       "  /* Definition of color scheme common for light and dark mode */\n",
       "  --sklearn-color-text: #000;\n",
       "  --sklearn-color-text-muted: #666;\n",
       "  --sklearn-color-line: gray;\n",
       "  /* Definition of color scheme for unfitted estimators */\n",
       "  --sklearn-color-unfitted-level-0: #fff5e6;\n",
       "  --sklearn-color-unfitted-level-1: #f6e4d2;\n",
       "  --sklearn-color-unfitted-level-2: #ffe0b3;\n",
       "  --sklearn-color-unfitted-level-3: chocolate;\n",
       "  /* Definition of color scheme for fitted estimators */\n",
       "  --sklearn-color-fitted-level-0: #f0f8ff;\n",
       "  --sklearn-color-fitted-level-1: #d4ebff;\n",
       "  --sklearn-color-fitted-level-2: #b3dbfd;\n",
       "  --sklearn-color-fitted-level-3: cornflowerblue;\n",
       "\n",
       "  /* Specific color for light theme */\n",
       "  --sklearn-color-text-on-default-background: var(--sg-text-color, var(--theme-code-foreground, var(--jp-content-font-color1, black)));\n",
       "  --sklearn-color-background: var(--sg-background-color, var(--theme-background, var(--jp-layout-color0, white)));\n",
       "  --sklearn-color-border-box: var(--sg-text-color, var(--theme-code-foreground, var(--jp-content-font-color1, black)));\n",
       "  --sklearn-color-icon: #696969;\n",
       "\n",
       "  @media (prefers-color-scheme: dark) {\n",
       "    /* Redefinition of color scheme for dark theme */\n",
       "    --sklearn-color-text-on-default-background: var(--sg-text-color, var(--theme-code-foreground, var(--jp-content-font-color1, white)));\n",
       "    --sklearn-color-background: var(--sg-background-color, var(--theme-background, var(--jp-layout-color0, #111)));\n",
       "    --sklearn-color-border-box: var(--sg-text-color, var(--theme-code-foreground, var(--jp-content-font-color1, white)));\n",
       "    --sklearn-color-icon: #878787;\n",
       "  }\n",
       "}\n",
       "\n",
       "#sk-container-id-3 {\n",
       "  color: var(--sklearn-color-text);\n",
       "}\n",
       "\n",
       "#sk-container-id-3 pre {\n",
       "  padding: 0;\n",
       "}\n",
       "\n",
       "#sk-container-id-3 input.sk-hidden--visually {\n",
       "  border: 0;\n",
       "  clip: rect(1px 1px 1px 1px);\n",
       "  clip: rect(1px, 1px, 1px, 1px);\n",
       "  height: 1px;\n",
       "  margin: -1px;\n",
       "  overflow: hidden;\n",
       "  padding: 0;\n",
       "  position: absolute;\n",
       "  width: 1px;\n",
       "}\n",
       "\n",
       "#sk-container-id-3 div.sk-dashed-wrapped {\n",
       "  border: 1px dashed var(--sklearn-color-line);\n",
       "  margin: 0 0.4em 0.5em 0.4em;\n",
       "  box-sizing: border-box;\n",
       "  padding-bottom: 0.4em;\n",
       "  background-color: var(--sklearn-color-background);\n",
       "}\n",
       "\n",
       "#sk-container-id-3 div.sk-container {\n",
       "  /* jupyter's `normalize.less` sets `[hidden] { display: none; }`\n",
       "     but bootstrap.min.css set `[hidden] { display: none !important; }`\n",
       "     so we also need the `!important` here to be able to override the\n",
       "     default hidden behavior on the sphinx rendered scikit-learn.org.\n",
       "     See: https://github.com/scikit-learn/scikit-learn/issues/21755 */\n",
       "  display: inline-block !important;\n",
       "  position: relative;\n",
       "}\n",
       "\n",
       "#sk-container-id-3 div.sk-text-repr-fallback {\n",
       "  display: none;\n",
       "}\n",
       "\n",
       "div.sk-parallel-item,\n",
       "div.sk-serial,\n",
       "div.sk-item {\n",
       "  /* draw centered vertical line to link estimators */\n",
       "  background-image: linear-gradient(var(--sklearn-color-text-on-default-background), var(--sklearn-color-text-on-default-background));\n",
       "  background-size: 2px 100%;\n",
       "  background-repeat: no-repeat;\n",
       "  background-position: center center;\n",
       "}\n",
       "\n",
       "/* Parallel-specific style estimator block */\n",
       "\n",
       "#sk-container-id-3 div.sk-parallel-item::after {\n",
       "  content: \"\";\n",
       "  width: 100%;\n",
       "  border-bottom: 2px solid var(--sklearn-color-text-on-default-background);\n",
       "  flex-grow: 1;\n",
       "}\n",
       "\n",
       "#sk-container-id-3 div.sk-parallel {\n",
       "  display: flex;\n",
       "  align-items: stretch;\n",
       "  justify-content: center;\n",
       "  background-color: var(--sklearn-color-background);\n",
       "  position: relative;\n",
       "}\n",
       "\n",
       "#sk-container-id-3 div.sk-parallel-item {\n",
       "  display: flex;\n",
       "  flex-direction: column;\n",
       "}\n",
       "\n",
       "#sk-container-id-3 div.sk-parallel-item:first-child::after {\n",
       "  align-self: flex-end;\n",
       "  width: 50%;\n",
       "}\n",
       "\n",
       "#sk-container-id-3 div.sk-parallel-item:last-child::after {\n",
       "  align-self: flex-start;\n",
       "  width: 50%;\n",
       "}\n",
       "\n",
       "#sk-container-id-3 div.sk-parallel-item:only-child::after {\n",
       "  width: 0;\n",
       "}\n",
       "\n",
       "/* Serial-specific style estimator block */\n",
       "\n",
       "#sk-container-id-3 div.sk-serial {\n",
       "  display: flex;\n",
       "  flex-direction: column;\n",
       "  align-items: center;\n",
       "  background-color: var(--sklearn-color-background);\n",
       "  padding-right: 1em;\n",
       "  padding-left: 1em;\n",
       "}\n",
       "\n",
       "\n",
       "/* Toggleable style: style used for estimator/Pipeline/ColumnTransformer box that is\n",
       "clickable and can be expanded/collapsed.\n",
       "- Pipeline and ColumnTransformer use this feature and define the default style\n",
       "- Estimators will overwrite some part of the style using the `sk-estimator` class\n",
       "*/\n",
       "\n",
       "/* Pipeline and ColumnTransformer style (default) */\n",
       "\n",
       "#sk-container-id-3 div.sk-toggleable {\n",
       "  /* Default theme specific background. It is overwritten whether we have a\n",
       "  specific estimator or a Pipeline/ColumnTransformer */\n",
       "  background-color: var(--sklearn-color-background);\n",
       "}\n",
       "\n",
       "/* Toggleable label */\n",
       "#sk-container-id-3 label.sk-toggleable__label {\n",
       "  cursor: pointer;\n",
       "  display: flex;\n",
       "  width: 100%;\n",
       "  margin-bottom: 0;\n",
       "  padding: 0.5em;\n",
       "  box-sizing: border-box;\n",
       "  text-align: center;\n",
       "  align-items: start;\n",
       "  justify-content: space-between;\n",
       "  gap: 0.5em;\n",
       "}\n",
       "\n",
       "#sk-container-id-3 label.sk-toggleable__label .caption {\n",
       "  font-size: 0.6rem;\n",
       "  font-weight: lighter;\n",
       "  color: var(--sklearn-color-text-muted);\n",
       "}\n",
       "\n",
       "#sk-container-id-3 label.sk-toggleable__label-arrow:before {\n",
       "  /* Arrow on the left of the label */\n",
       "  content: \"▸\";\n",
       "  float: left;\n",
       "  margin-right: 0.25em;\n",
       "  color: var(--sklearn-color-icon);\n",
       "}\n",
       "\n",
       "#sk-container-id-3 label.sk-toggleable__label-arrow:hover:before {\n",
       "  color: var(--sklearn-color-text);\n",
       "}\n",
       "\n",
       "/* Toggleable content - dropdown */\n",
       "\n",
       "#sk-container-id-3 div.sk-toggleable__content {\n",
       "  max-height: 0;\n",
       "  max-width: 0;\n",
       "  overflow: hidden;\n",
       "  text-align: left;\n",
       "  /* unfitted */\n",
       "  background-color: var(--sklearn-color-unfitted-level-0);\n",
       "}\n",
       "\n",
       "#sk-container-id-3 div.sk-toggleable__content.fitted {\n",
       "  /* fitted */\n",
       "  background-color: var(--sklearn-color-fitted-level-0);\n",
       "}\n",
       "\n",
       "#sk-container-id-3 div.sk-toggleable__content pre {\n",
       "  margin: 0.2em;\n",
       "  border-radius: 0.25em;\n",
       "  color: var(--sklearn-color-text);\n",
       "  /* unfitted */\n",
       "  background-color: var(--sklearn-color-unfitted-level-0);\n",
       "}\n",
       "\n",
       "#sk-container-id-3 div.sk-toggleable__content.fitted pre {\n",
       "  /* unfitted */\n",
       "  background-color: var(--sklearn-color-fitted-level-0);\n",
       "}\n",
       "\n",
       "#sk-container-id-3 input.sk-toggleable__control:checked~div.sk-toggleable__content {\n",
       "  /* Expand drop-down */\n",
       "  max-height: 200px;\n",
       "  max-width: 100%;\n",
       "  overflow: auto;\n",
       "}\n",
       "\n",
       "#sk-container-id-3 input.sk-toggleable__control:checked~label.sk-toggleable__label-arrow:before {\n",
       "  content: \"▾\";\n",
       "}\n",
       "\n",
       "/* Pipeline/ColumnTransformer-specific style */\n",
       "\n",
       "#sk-container-id-3 div.sk-label input.sk-toggleable__control:checked~label.sk-toggleable__label {\n",
       "  color: var(--sklearn-color-text);\n",
       "  background-color: var(--sklearn-color-unfitted-level-2);\n",
       "}\n",
       "\n",
       "#sk-container-id-3 div.sk-label.fitted input.sk-toggleable__control:checked~label.sk-toggleable__label {\n",
       "  background-color: var(--sklearn-color-fitted-level-2);\n",
       "}\n",
       "\n",
       "/* Estimator-specific style */\n",
       "\n",
       "/* Colorize estimator box */\n",
       "#sk-container-id-3 div.sk-estimator input.sk-toggleable__control:checked~label.sk-toggleable__label {\n",
       "  /* unfitted */\n",
       "  background-color: var(--sklearn-color-unfitted-level-2);\n",
       "}\n",
       "\n",
       "#sk-container-id-3 div.sk-estimator.fitted input.sk-toggleable__control:checked~label.sk-toggleable__label {\n",
       "  /* fitted */\n",
       "  background-color: var(--sklearn-color-fitted-level-2);\n",
       "}\n",
       "\n",
       "#sk-container-id-3 div.sk-label label.sk-toggleable__label,\n",
       "#sk-container-id-3 div.sk-label label {\n",
       "  /* The background is the default theme color */\n",
       "  color: var(--sklearn-color-text-on-default-background);\n",
       "}\n",
       "\n",
       "/* On hover, darken the color of the background */\n",
       "#sk-container-id-3 div.sk-label:hover label.sk-toggleable__label {\n",
       "  color: var(--sklearn-color-text);\n",
       "  background-color: var(--sklearn-color-unfitted-level-2);\n",
       "}\n",
       "\n",
       "/* Label box, darken color on hover, fitted */\n",
       "#sk-container-id-3 div.sk-label.fitted:hover label.sk-toggleable__label.fitted {\n",
       "  color: var(--sklearn-color-text);\n",
       "  background-color: var(--sklearn-color-fitted-level-2);\n",
       "}\n",
       "\n",
       "/* Estimator label */\n",
       "\n",
       "#sk-container-id-3 div.sk-label label {\n",
       "  font-family: monospace;\n",
       "  font-weight: bold;\n",
       "  display: inline-block;\n",
       "  line-height: 1.2em;\n",
       "}\n",
       "\n",
       "#sk-container-id-3 div.sk-label-container {\n",
       "  text-align: center;\n",
       "}\n",
       "\n",
       "/* Estimator-specific */\n",
       "#sk-container-id-3 div.sk-estimator {\n",
       "  font-family: monospace;\n",
       "  border: 1px dotted var(--sklearn-color-border-box);\n",
       "  border-radius: 0.25em;\n",
       "  box-sizing: border-box;\n",
       "  margin-bottom: 0.5em;\n",
       "  /* unfitted */\n",
       "  background-color: var(--sklearn-color-unfitted-level-0);\n",
       "}\n",
       "\n",
       "#sk-container-id-3 div.sk-estimator.fitted {\n",
       "  /* fitted */\n",
       "  background-color: var(--sklearn-color-fitted-level-0);\n",
       "}\n",
       "\n",
       "/* on hover */\n",
       "#sk-container-id-3 div.sk-estimator:hover {\n",
       "  /* unfitted */\n",
       "  background-color: var(--sklearn-color-unfitted-level-2);\n",
       "}\n",
       "\n",
       "#sk-container-id-3 div.sk-estimator.fitted:hover {\n",
       "  /* fitted */\n",
       "  background-color: var(--sklearn-color-fitted-level-2);\n",
       "}\n",
       "\n",
       "/* Specification for estimator info (e.g. \"i\" and \"?\") */\n",
       "\n",
       "/* Common style for \"i\" and \"?\" */\n",
       "\n",
       ".sk-estimator-doc-link,\n",
       "a:link.sk-estimator-doc-link,\n",
       "a:visited.sk-estimator-doc-link {\n",
       "  float: right;\n",
       "  font-size: smaller;\n",
       "  line-height: 1em;\n",
       "  font-family: monospace;\n",
       "  background-color: var(--sklearn-color-background);\n",
       "  border-radius: 1em;\n",
       "  height: 1em;\n",
       "  width: 1em;\n",
       "  text-decoration: none !important;\n",
       "  margin-left: 0.5em;\n",
       "  text-align: center;\n",
       "  /* unfitted */\n",
       "  border: var(--sklearn-color-unfitted-level-1) 1pt solid;\n",
       "  color: var(--sklearn-color-unfitted-level-1);\n",
       "}\n",
       "\n",
       ".sk-estimator-doc-link.fitted,\n",
       "a:link.sk-estimator-doc-link.fitted,\n",
       "a:visited.sk-estimator-doc-link.fitted {\n",
       "  /* fitted */\n",
       "  border: var(--sklearn-color-fitted-level-1) 1pt solid;\n",
       "  color: var(--sklearn-color-fitted-level-1);\n",
       "}\n",
       "\n",
       "/* On hover */\n",
       "div.sk-estimator:hover .sk-estimator-doc-link:hover,\n",
       ".sk-estimator-doc-link:hover,\n",
       "div.sk-label-container:hover .sk-estimator-doc-link:hover,\n",
       ".sk-estimator-doc-link:hover {\n",
       "  /* unfitted */\n",
       "  background-color: var(--sklearn-color-unfitted-level-3);\n",
       "  color: var(--sklearn-color-background);\n",
       "  text-decoration: none;\n",
       "}\n",
       "\n",
       "div.sk-estimator.fitted:hover .sk-estimator-doc-link.fitted:hover,\n",
       ".sk-estimator-doc-link.fitted:hover,\n",
       "div.sk-label-container:hover .sk-estimator-doc-link.fitted:hover,\n",
       ".sk-estimator-doc-link.fitted:hover {\n",
       "  /* fitted */\n",
       "  background-color: var(--sklearn-color-fitted-level-3);\n",
       "  color: var(--sklearn-color-background);\n",
       "  text-decoration: none;\n",
       "}\n",
       "\n",
       "/* Span, style for the box shown on hovering the info icon */\n",
       ".sk-estimator-doc-link span {\n",
       "  display: none;\n",
       "  z-index: 9999;\n",
       "  position: relative;\n",
       "  font-weight: normal;\n",
       "  right: .2ex;\n",
       "  padding: .5ex;\n",
       "  margin: .5ex;\n",
       "  width: min-content;\n",
       "  min-width: 20ex;\n",
       "  max-width: 50ex;\n",
       "  color: var(--sklearn-color-text);\n",
       "  box-shadow: 2pt 2pt 4pt #999;\n",
       "  /* unfitted */\n",
       "  background: var(--sklearn-color-unfitted-level-0);\n",
       "  border: .5pt solid var(--sklearn-color-unfitted-level-3);\n",
       "}\n",
       "\n",
       ".sk-estimator-doc-link.fitted span {\n",
       "  /* fitted */\n",
       "  background: var(--sklearn-color-fitted-level-0);\n",
       "  border: var(--sklearn-color-fitted-level-3);\n",
       "}\n",
       "\n",
       ".sk-estimator-doc-link:hover span {\n",
       "  display: block;\n",
       "}\n",
       "\n",
       "/* \"?\"-specific style due to the `<a>` HTML tag */\n",
       "\n",
       "#sk-container-id-3 a.estimator_doc_link {\n",
       "  float: right;\n",
       "  font-size: 1rem;\n",
       "  line-height: 1em;\n",
       "  font-family: monospace;\n",
       "  background-color: var(--sklearn-color-background);\n",
       "  border-radius: 1rem;\n",
       "  height: 1rem;\n",
       "  width: 1rem;\n",
       "  text-decoration: none;\n",
       "  /* unfitted */\n",
       "  color: var(--sklearn-color-unfitted-level-1);\n",
       "  border: var(--sklearn-color-unfitted-level-1) 1pt solid;\n",
       "}\n",
       "\n",
       "#sk-container-id-3 a.estimator_doc_link.fitted {\n",
       "  /* fitted */\n",
       "  border: var(--sklearn-color-fitted-level-1) 1pt solid;\n",
       "  color: var(--sklearn-color-fitted-level-1);\n",
       "}\n",
       "\n",
       "/* On hover */\n",
       "#sk-container-id-3 a.estimator_doc_link:hover {\n",
       "  /* unfitted */\n",
       "  background-color: var(--sklearn-color-unfitted-level-3);\n",
       "  color: var(--sklearn-color-background);\n",
       "  text-decoration: none;\n",
       "}\n",
       "\n",
       "#sk-container-id-3 a.estimator_doc_link.fitted:hover {\n",
       "  /* fitted */\n",
       "  background-color: var(--sklearn-color-fitted-level-3);\n",
       "}\n",
       "</style><div id=\"sk-container-id-3\" class=\"sk-top-container\"><div class=\"sk-text-repr-fallback\"><pre>DecisionTreeClassifier(criterion=&#x27;entropy&#x27;, max_depth=3, random_state=0)</pre><b>In a Jupyter environment, please rerun this cell to show the HTML representation or trust the notebook. <br />On GitHub, the HTML representation is unable to render, please try loading this page with nbviewer.org.</b></div><div class=\"sk-container\" hidden><div class=\"sk-item\"><div class=\"sk-estimator fitted sk-toggleable\"><input class=\"sk-toggleable__control sk-hidden--visually\" id=\"sk-estimator-id-3\" type=\"checkbox\" checked><label for=\"sk-estimator-id-3\" class=\"sk-toggleable__label fitted sk-toggleable__label-arrow\"><div><div>DecisionTreeClassifier</div></div><div><a class=\"sk-estimator-doc-link fitted\" rel=\"noreferrer\" target=\"_blank\" href=\"https://scikit-learn.org/1.6/modules/generated/sklearn.tree.DecisionTreeClassifier.html\">?<span>Documentation for DecisionTreeClassifier</span></a><span class=\"sk-estimator-doc-link fitted\">i<span>Fitted</span></span></div></label><div class=\"sk-toggleable__content fitted\"><pre>DecisionTreeClassifier(criterion=&#x27;entropy&#x27;, max_depth=3, random_state=0)</pre></div> </div></div></div></div>"
      ],
      "text/plain": [
       "DecisionTreeClassifier(criterion='entropy', max_depth=3, random_state=0)"
      ]
     },
     "execution_count": 51,
     "metadata": {},
     "output_type": "execute_result"
    }
   ],
   "source": [
    "# Criação e treino do modelo de árvore de decisão\n",
    "tree = DecisionTreeClassifier(criterion='entropy', random_state = 0, max_depth=3)\n",
    "tree.fit(X_train, y_train)"
   ]
  },
  {
   "cell_type": "code",
   "execution_count": 52,
   "metadata": {
    "colab": {
     "base_uri": "https://localhost:8080/"
    },
    "id": "mdR9DdtR98N1",
    "outputId": "a570bfa7-cfaf-403c-a09d-d777b14b5388"
   },
   "outputs": [
    {
     "data": {
      "text/plain": [
       "array([1, 1, 1, 0, 0, 1, 1, 0, 1, 1, 1, 1, 0, 1, 1, 0, 0, 0, 0, 1, 1, 0,\n",
       "       0, 1, 0, 0, 1, 1, 1, 1, 0, 1, 1, 1, 1, 1, 1, 0, 0, 0, 1, 1, 1, 1,\n",
       "       0, 0, 0, 0, 1, 1, 1, 1, 1, 1, 1, 1, 1, 1, 0, 1, 0, 1, 1, 1, 1, 1,\n",
       "       1, 1, 1, 1, 1, 1, 1, 0])"
      ]
     },
     "execution_count": 52,
     "metadata": {},
     "output_type": "execute_result"
    }
   ],
   "source": [
    "# Resultados das previsões\n",
    "tree_results = tree.predict(X_test)\n",
    "tree_results"
   ]
  },
  {
   "cell_type": "code",
   "execution_count": null,
   "metadata": {
    "colab": {
     "base_uri": "https://localhost:8080/"
    },
    "id": "m-3p3_IX6Ch_",
    "outputId": "cb128d2e-ed5c-47e5-ec31-82af558d397b"
   },
   "outputs": [
    {
     "name": "stdout",
     "output_type": "stream",
     "text": [
      "\n",
      "Relatório de Classificação:\n",
      "+--------------+-----------+--------+----------+---------+\n",
      "|              | precision | recall | f1-score | support |\n",
      "+--------------+-----------+--------+----------+---------+\n",
      "|      0       |   0.91    |  0.66  |   0.76   |  32.0   |\n",
      "|      1       |   0.78    |  0.95  |   0.86   |  42.0   |\n",
      "|   accuracy   |   0.82    |  0.82  |   0.82   |  0.82   |\n",
      "|  macro avg   |   0.85    |  0.8   |   0.81   |  74.0   |\n",
      "| weighted avg |   0.84    |  0.82  |   0.82   |  74.0   |\n",
      "+--------------+-----------+--------+----------+---------+\n"
     ]
    }
   ],
   "source": [
    "# type: ignore\n",
    "# Relatório de Classificação\n",
    "report = classification_report(y_test, tree_results, output_dict=True)\n",
    "df_report = pd.DataFrame(report).transpose()\n",
    "\n",
    "# Arredondando valores para 2 casas decimais\n",
    "df_report_rounded = df_report.round(2)\n",
    "\n",
    "print(\"\\nRelatório de Classificação:\")\n",
    "print(tabulate(df_report_rounded, headers='keys', tablefmt='pretty'))"
   ]
  },
  {
   "cell_type": "code",
   "execution_count": 54,
   "metadata": {
    "colab": {
     "base_uri": "https://localhost:8080/",
     "height": 433
    },
    "id": "G8nKltob-Fqd",
    "outputId": "c5fbbe73-d8c6-4921-b2f2-13cdb466acbe"
   },
   "outputs": [
    {
     "name": "stdout",
     "output_type": "stream",
     "text": [
      "Acurácia: 82.43%\n"
     ]
    },
    {
     "data": {
      "image/png": "[encoded data removed]",
      "text/plain": [
       "<Figure size 600x400 with 1 Axes>"
      ]
     },
     "metadata": {},
     "output_type": "display_data"
    }
   ],
   "source": [
    "# 1. Calcular a acurácia\n",
    "acuracia = accuracy_score(y_test, tree_results)\n",
    "print(f\"Acurácia: {acuracia:.2%}\")\n",
    "\n",
    "# 2. Matriz de Confusão estilizada com seaborn\n",
    "cm = confusion_matrix(y_test, tree_results)\n",
    "\n",
    "plt.figure(figsize=(6, 4))\n",
    "sns.heatmap(cm, annot=True, fmt='d', cmap='Blues', cbar=False,\n",
    "            annot_kws={\"size\": 14}, linewidths=2, linecolor='black')\n",
    "\n",
    "plt.title('Matriz de Confusão', fontsize=14, fontweight='bold')\n",
    "plt.ylabel('Valor Real', fontsize=12)\n",
    "plt.xlabel('Valor Predito', fontsize=12)\n",
    "plt.xticks(fontsize=10)\n",
    "plt.yticks(fontsize=10)\n",
    "plt.show()"
   ]
  },
  {
   "cell_type": "markdown",
   "metadata": {
    "id": "lwVKHQ0X6sMa"
   },
   "source": [
    "#### Interpretação da Matriz de Confusão\n",
    "\n",
    "- **Verdadeiros Negativos (VN):** 21 pessoas que **não tinham tendência** de desenvolver doença cardíaca com o tempo, e o modelo classificou corretamente.  \n",
    "- **Verdadeiros Positivos (VP):** 40 pessoas que **tinham tendência** de desenvolver doença cardíaca com o tempo, e o modelo classificou corretamente.  \n",
    "- **Falsos Positivos (FP):** 11 pessoas que **não tinham tendência** de desenvolver doença cardíaca, mas o modelo previu incorretamente que tinham.  \n",
    "- **Falsos Negativos (FN):** 2 pessoas que **tinham tendência** de desenvolver doença cardíaca, mas o modelo previu incorretamente que não tinham.  "
   ]
  },
  {
   "cell_type": "markdown",
   "metadata": {
    "id": "KO9fItAg_o6-"
   },
   "source": [
    "### **RANDOM FOREST**"
   ]
  },
  {
   "cell_type": "code",
   "execution_count": 55,
   "metadata": {
    "id": "eqHnSdxK60CH"
   },
   "outputs": [],
   "source": [
    "# Separação dos dados em 75% para treino e 25% para teste\n",
    "X_train, X_test, y_train, y_test = train_test_split(X, y, test_size=0.25, random_state=42)"
   ]
  },
  {
   "cell_type": "code",
   "execution_count": 56,
   "metadata": {
    "colab": {
     "base_uri": "https://localhost:8080/",
     "height": 98
    },
    "id": "ASO_KVG8_tIH",
    "outputId": "9f397676-c9f0-457e-c2f5-2c4fa29dbd1f"
   },
   "outputs": [
    {
     "data": {
      "text/html": [
       "<style>#sk-container-id-4 {\n",
       "  /* Definition of color scheme common for light and dark mode */\n",
       "  --sklearn-color-text: #000;\n",
       "  --sklearn-color-text-muted: #666;\n",
       "  --sklearn-color-line: gray;\n",
       "  /* Definition of color scheme for unfitted estimators */\n",
       "  --sklearn-color-unfitted-level-0: #fff5e6;\n",
       "  --sklearn-color-unfitted-level-1: #f6e4d2;\n",
       "  --sklearn-color-unfitted-level-2: #ffe0b3;\n",
       "  --sklearn-color-unfitted-level-3: chocolate;\n",
       "  /* Definition of color scheme for fitted estimators */\n",
       "  --sklearn-color-fitted-level-0: #f0f8ff;\n",
       "  --sklearn-color-fitted-level-1: #d4ebff;\n",
       "  --sklearn-color-fitted-level-2: #b3dbfd;\n",
       "  --sklearn-color-fitted-level-3: cornflowerblue;\n",
       "\n",
       "  /* Specific color for light theme */\n",
       "  --sklearn-color-text-on-default-background: var(--sg-text-color, var(--theme-code-foreground, var(--jp-content-font-color1, black)));\n",
       "  --sklearn-color-background: var(--sg-background-color, var(--theme-background, var(--jp-layout-color0, white)));\n",
       "  --sklearn-color-border-box: var(--sg-text-color, var(--theme-code-foreground, var(--jp-content-font-color1, black)));\n",
       "  --sklearn-color-icon: #696969;\n",
       "\n",
       "  @media (prefers-color-scheme: dark) {\n",
       "    /* Redefinition of color scheme for dark theme */\n",
       "    --sklearn-color-text-on-default-background: var(--sg-text-color, var(--theme-code-foreground, var(--jp-content-font-color1, white)));\n",
       "    --sklearn-color-background: var(--sg-background-color, var(--theme-background, var(--jp-layout-color0, #111)));\n",
       "    --sklearn-color-border-box: var(--sg-text-color, var(--theme-code-foreground, var(--jp-content-font-color1, white)));\n",
       "    --sklearn-color-icon: #878787;\n",
       "  }\n",
       "}\n",
       "\n",
       "#sk-container-id-4 {\n",
       "  color: var(--sklearn-color-text);\n",
       "}\n",
       "\n",
       "#sk-container-id-4 pre {\n",
       "  padding: 0;\n",
       "}\n",
       "\n",
       "#sk-container-id-4 input.sk-hidden--visually {\n",
       "  border: 0;\n",
       "  clip: rect(1px 1px 1px 1px);\n",
       "  clip: rect(1px, 1px, 1px, 1px);\n",
       "  height: 1px;\n",
       "  margin: -1px;\n",
       "  overflow: hidden;\n",
       "  padding: 0;\n",
       "  position: absolute;\n",
       "  width: 1px;\n",
       "}\n",
       "\n",
       "#sk-container-id-4 div.sk-dashed-wrapped {\n",
       "  border: 1px dashed var(--sklearn-color-line);\n",
       "  margin: 0 0.4em 0.5em 0.4em;\n",
       "  box-sizing: border-box;\n",
       "  padding-bottom: 0.4em;\n",
       "  background-color: var(--sklearn-color-background);\n",
       "}\n",
       "\n",
       "#sk-container-id-4 div.sk-container {\n",
       "  /* jupyter's `normalize.less` sets `[hidden] { display: none; }`\n",
       "     but bootstrap.min.css set `[hidden] { display: none !important; }`\n",
       "     so we also need the `!important` here to be able to override the\n",
       "     default hidden behavior on the sphinx rendered scikit-learn.org.\n",
       "     See: https://github.com/scikit-learn/scikit-learn/issues/21755 */\n",
       "  display: inline-block !important;\n",
       "  position: relative;\n",
       "}\n",
       "\n",
       "#sk-container-id-4 div.sk-text-repr-fallback {\n",
       "  display: none;\n",
       "}\n",
       "\n",
       "div.sk-parallel-item,\n",
       "div.sk-serial,\n",
       "div.sk-item {\n",
       "  /* draw centered vertical line to link estimators */\n",
       "  background-image: linear-gradient(var(--sklearn-color-text-on-default-background), var(--sklearn-color-text-on-default-background));\n",
       "  background-size: 2px 100%;\n",
       "  background-repeat: no-repeat;\n",
       "  background-position: center center;\n",
       "}\n",
       "\n",
       "/* Parallel-specific style estimator block */\n",
       "\n",
       "#sk-container-id-4 div.sk-parallel-item::after {\n",
       "  content: \"\";\n",
       "  width: 100%;\n",
       "  border-bottom: 2px solid var(--sklearn-color-text-on-default-background);\n",
       "  flex-grow: 1;\n",
       "}\n",
       "\n",
       "#sk-container-id-4 div.sk-parallel {\n",
       "  display: flex;\n",
       "  align-items: stretch;\n",
       "  justify-content: center;\n",
       "  background-color: var(--sklearn-color-background);\n",
       "  position: relative;\n",
       "}\n",
       "\n",
       "#sk-container-id-4 div.sk-parallel-item {\n",
       "  display: flex;\n",
       "  flex-direction: column;\n",
       "}\n",
       "\n",
       "#sk-container-id-4 div.sk-parallel-item:first-child::after {\n",
       "  align-self: flex-end;\n",
       "  width: 50%;\n",
       "}\n",
       "\n",
       "#sk-container-id-4 div.sk-parallel-item:last-child::after {\n",
       "  align-self: flex-start;\n",
       "  width: 50%;\n",
       "}\n",
       "\n",
       "#sk-container-id-4 div.sk-parallel-item:only-child::after {\n",
       "  width: 0;\n",
       "}\n",
       "\n",
       "/* Serial-specific style estimator block */\n",
       "\n",
       "#sk-container-id-4 div.sk-serial {\n",
       "  display: flex;\n",
       "  flex-direction: column;\n",
       "  align-items: center;\n",
       "  background-color: var(--sklearn-color-background);\n",
       "  padding-right: 1em;\n",
       "  padding-left: 1em;\n",
       "}\n",
       "\n",
       "\n",
       "/* Toggleable style: style used for estimator/Pipeline/ColumnTransformer box that is\n",
       "clickable and can be expanded/collapsed.\n",
       "- Pipeline and ColumnTransformer use this feature and define the default style\n",
       "- Estimators will overwrite some part of the style using the `sk-estimator` class\n",
       "*/\n",
       "\n",
       "/* Pipeline and ColumnTransformer style (default) */\n",
       "\n",
       "#sk-container-id-4 div.sk-toggleable {\n",
       "  /* Default theme specific background. It is overwritten whether we have a\n",
       "  specific estimator or a Pipeline/ColumnTransformer */\n",
       "  background-color: var(--sklearn-color-background);\n",
       "}\n",
       "\n",
       "/* Toggleable label */\n",
       "#sk-container-id-4 label.sk-toggleable__label {\n",
       "  cursor: pointer;\n",
       "  display: flex;\n",
       "  width: 100%;\n",
       "  margin-bottom: 0;\n",
       "  padding: 0.5em;\n",
       "  box-sizing: border-box;\n",
       "  text-align: center;\n",
       "  align-items: start;\n",
       "  justify-content: space-between;\n",
       "  gap: 0.5em;\n",
       "}\n",
       "\n",
       "#sk-container-id-4 label.sk-toggleable__label .caption {\n",
       "  font-size: 0.6rem;\n",
       "  font-weight: lighter;\n",
       "  color: var(--sklearn-color-text-muted);\n",
       "}\n",
       "\n",
       "#sk-container-id-4 label.sk-toggleable__label-arrow:before {\n",
       "  /* Arrow on the left of the label */\n",
       "  content: \"▸\";\n",
       "  float: left;\n",
       "  margin-right: 0.25em;\n",
       "  color: var(--sklearn-color-icon);\n",
       "}\n",
       "\n",
       "#sk-container-id-4 label.sk-toggleable__label-arrow:hover:before {\n",
       "  color: var(--sklearn-color-text);\n",
       "}\n",
       "\n",
       "/* Toggleable content - dropdown */\n",
       "\n",
       "#sk-container-id-4 div.sk-toggleable__content {\n",
       "  max-height: 0;\n",
       "  max-width: 0;\n",
       "  overflow: hidden;\n",
       "  text-align: left;\n",
       "  /* unfitted */\n",
       "  background-color: var(--sklearn-color-unfitted-level-0);\n",
       "}\n",
       "\n",
       "#sk-container-id-4 div.sk-toggleable__content.fitted {\n",
       "  /* fitted */\n",
       "  background-color: var(--sklearn-color-fitted-level-0);\n",
       "}\n",
       "\n",
       "#sk-container-id-4 div.sk-toggleable__content pre {\n",
       "  margin: 0.2em;\n",
       "  border-radius: 0.25em;\n",
       "  color: var(--sklearn-color-text);\n",
       "  /* unfitted */\n",
       "  background-color: var(--sklearn-color-unfitted-level-0);\n",
       "}\n",
       "\n",
       "#sk-container-id-4 div.sk-toggleable__content.fitted pre {\n",
       "  /* unfitted */\n",
       "  background-color: var(--sklearn-color-fitted-level-0);\n",
       "}\n",
       "\n",
       "#sk-container-id-4 input.sk-toggleable__control:checked~div.sk-toggleable__content {\n",
       "  /* Expand drop-down */\n",
       "  max-height: 200px;\n",
       "  max-width: 100%;\n",
       "  overflow: auto;\n",
       "}\n",
       "\n",
       "#sk-container-id-4 input.sk-toggleable__control:checked~label.sk-toggleable__label-arrow:before {\n",
       "  content: \"▾\";\n",
       "}\n",
       "\n",
       "/* Pipeline/ColumnTransformer-specific style */\n",
       "\n",
       "#sk-container-id-4 div.sk-label input.sk-toggleable__control:checked~label.sk-toggleable__label {\n",
       "  color: var(--sklearn-color-text);\n",
       "  background-color: var(--sklearn-color-unfitted-level-2);\n",
       "}\n",
       "\n",
       "#sk-container-id-4 div.sk-label.fitted input.sk-toggleable__control:checked~label.sk-toggleable__label {\n",
       "  background-color: var(--sklearn-color-fitted-level-2);\n",
       "}\n",
       "\n",
       "/* Estimator-specific style */\n",
       "\n",
       "/* Colorize estimator box */\n",
       "#sk-container-id-4 div.sk-estimator input.sk-toggleable__control:checked~label.sk-toggleable__label {\n",
       "  /* unfitted */\n",
       "  background-color: var(--sklearn-color-unfitted-level-2);\n",
       "}\n",
       "\n",
       "#sk-container-id-4 div.sk-estimator.fitted input.sk-toggleable__control:checked~label.sk-toggleable__label {\n",
       "  /* fitted */\n",
       "  background-color: var(--sklearn-color-fitted-level-2);\n",
       "}\n",
       "\n",
       "#sk-container-id-4 div.sk-label label.sk-toggleable__label,\n",
       "#sk-container-id-4 div.sk-label label {\n",
       "  /* The background is the default theme color */\n",
       "  color: var(--sklearn-color-text-on-default-background);\n",
       "}\n",
       "\n",
       "/* On hover, darken the color of the background */\n",
       "#sk-container-id-4 div.sk-label:hover label.sk-toggleable__label {\n",
       "  color: var(--sklearn-color-text);\n",
       "  background-color: var(--sklearn-color-unfitted-level-2);\n",
       "}\n",
       "\n",
       "/* Label box, darken color on hover, fitted */\n",
       "#sk-container-id-4 div.sk-label.fitted:hover label.sk-toggleable__label.fitted {\n",
       "  color: var(--sklearn-color-text);\n",
       "  background-color: var(--sklearn-color-fitted-level-2);\n",
       "}\n",
       "\n",
       "/* Estimator label */\n",
       "\n",
       "#sk-container-id-4 div.sk-label label {\n",
       "  font-family: monospace;\n",
       "  font-weight: bold;\n",
       "  display: inline-block;\n",
       "  line-height: 1.2em;\n",
       "}\n",
       "\n",
       "#sk-container-id-4 div.sk-label-container {\n",
       "  text-align: center;\n",
       "}\n",
       "\n",
       "/* Estimator-specific */\n",
       "#sk-container-id-4 div.sk-estimator {\n",
       "  font-family: monospace;\n",
       "  border: 1px dotted var(--sklearn-color-border-box);\n",
       "  border-radius: 0.25em;\n",
       "  box-sizing: border-box;\n",
       "  margin-bottom: 0.5em;\n",
       "  /* unfitted */\n",
       "  background-color: var(--sklearn-color-unfitted-level-0);\n",
       "}\n",
       "\n",
       "#sk-container-id-4 div.sk-estimator.fitted {\n",
       "  /* fitted */\n",
       "  background-color: var(--sklearn-color-fitted-level-0);\n",
       "}\n",
       "\n",
       "/* on hover */\n",
       "#sk-container-id-4 div.sk-estimator:hover {\n",
       "  /* unfitted */\n",
       "  background-color: var(--sklearn-color-unfitted-level-2);\n",
       "}\n",
       "\n",
       "#sk-container-id-4 div.sk-estimator.fitted:hover {\n",
       "  /* fitted */\n",
       "  background-color: var(--sklearn-color-fitted-level-2);\n",
       "}\n",
       "\n",
       "/* Specification for estimator info (e.g. \"i\" and \"?\") */\n",
       "\n",
       "/* Common style for \"i\" and \"?\" */\n",
       "\n",
       ".sk-estimator-doc-link,\n",
       "a:link.sk-estimator-doc-link,\n",
       "a:visited.sk-estimator-doc-link {\n",
       "  float: right;\n",
       "  font-size: smaller;\n",
       "  line-height: 1em;\n",
       "  font-family: monospace;\n",
       "  background-color: var(--sklearn-color-background);\n",
       "  border-radius: 1em;\n",
       "  height: 1em;\n",
       "  width: 1em;\n",
       "  text-decoration: none !important;\n",
       "  margin-left: 0.5em;\n",
       "  text-align: center;\n",
       "  /* unfitted */\n",
       "  border: var(--sklearn-color-unfitted-level-1) 1pt solid;\n",
       "  color: var(--sklearn-color-unfitted-level-1);\n",
       "}\n",
       "\n",
       ".sk-estimator-doc-link.fitted,\n",
       "a:link.sk-estimator-doc-link.fitted,\n",
       "a:visited.sk-estimator-doc-link.fitted {\n",
       "  /* fitted */\n",
       "  border: var(--sklearn-color-fitted-level-1) 1pt solid;\n",
       "  color: var(--sklearn-color-fitted-level-1);\n",
       "}\n",
       "\n",
       "/* On hover */\n",
       "div.sk-estimator:hover .sk-estimator-doc-link:hover,\n",
       ".sk-estimator-doc-link:hover,\n",
       "div.sk-label-container:hover .sk-estimator-doc-link:hover,\n",
       ".sk-estimator-doc-link:hover {\n",
       "  /* unfitted */\n",
       "  background-color: var(--sklearn-color-unfitted-level-3);\n",
       "  color: var(--sklearn-color-background);\n",
       "  text-decoration: none;\n",
       "}\n",
       "\n",
       "div.sk-estimator.fitted:hover .sk-estimator-doc-link.fitted:hover,\n",
       ".sk-estimator-doc-link.fitted:hover,\n",
       "div.sk-label-container:hover .sk-estimator-doc-link.fitted:hover,\n",
       ".sk-estimator-doc-link.fitted:hover {\n",
       "  /* fitted */\n",
       "  background-color: var(--sklearn-color-fitted-level-3);\n",
       "  color: var(--sklearn-color-background);\n",
       "  text-decoration: none;\n",
       "}\n",
       "\n",
       "/* Span, style for the box shown on hovering the info icon */\n",
       ".sk-estimator-doc-link span {\n",
       "  display: none;\n",
       "  z-index: 9999;\n",
       "  position: relative;\n",
       "  font-weight: normal;\n",
       "  right: .2ex;\n",
       "  padding: .5ex;\n",
       "  margin: .5ex;\n",
       "  width: min-content;\n",
       "  min-width: 20ex;\n",
       "  max-width: 50ex;\n",
       "  color: var(--sklearn-color-text);\n",
       "  box-shadow: 2pt 2pt 4pt #999;\n",
       "  /* unfitted */\n",
       "  background: var(--sklearn-color-unfitted-level-0);\n",
       "  border: .5pt solid var(--sklearn-color-unfitted-level-3);\n",
       "}\n",
       "\n",
       ".sk-estimator-doc-link.fitted span {\n",
       "  /* fitted */\n",
       "  background: var(--sklearn-color-fitted-level-0);\n",
       "  border: var(--sklearn-color-fitted-level-3);\n",
       "}\n",
       "\n",
       ".sk-estimator-doc-link:hover span {\n",
       "  display: block;\n",
       "}\n",
       "\n",
       "/* \"?\"-specific style due to the `<a>` HTML tag */\n",
       "\n",
       "#sk-container-id-4 a.estimator_doc_link {\n",
       "  float: right;\n",
       "  font-size: 1rem;\n",
       "  line-height: 1em;\n",
       "  font-family: monospace;\n",
       "  background-color: var(--sklearn-color-background);\n",
       "  border-radius: 1rem;\n",
       "  height: 1rem;\n",
       "  width: 1rem;\n",
       "  text-decoration: none;\n",
       "  /* unfitted */\n",
       "  color: var(--sklearn-color-unfitted-level-1);\n",
       "  border: var(--sklearn-color-unfitted-level-1) 1pt solid;\n",
       "}\n",
       "\n",
       "#sk-container-id-4 a.estimator_doc_link.fitted {\n",
       "  /* fitted */\n",
       "  border: var(--sklearn-color-fitted-level-1) 1pt solid;\n",
       "  color: var(--sklearn-color-fitted-level-1);\n",
       "}\n",
       "\n",
       "/* On hover */\n",
       "#sk-container-id-4 a.estimator_doc_link:hover {\n",
       "  /* unfitted */\n",
       "  background-color: var(--sklearn-color-unfitted-level-3);\n",
       "  color: var(--sklearn-color-background);\n",
       "  text-decoration: none;\n",
       "}\n",
       "\n",
       "#sk-container-id-4 a.estimator_doc_link.fitted:hover {\n",
       "  /* fitted */\n",
       "  background-color: var(--sklearn-color-fitted-level-3);\n",
       "}\n",
       "</style><div id=\"sk-container-id-4\" class=\"sk-top-container\"><div class=\"sk-text-repr-fallback\"><pre>RandomForestClassifier(criterion=&#x27;entropy&#x27;, max_depth=4, n_estimators=150,\n",
       "                       random_state=0)</pre><b>In a Jupyter environment, please rerun this cell to show the HTML representation or trust the notebook. <br />On GitHub, the HTML representation is unable to render, please try loading this page with nbviewer.org.</b></div><div class=\"sk-container\" hidden><div class=\"sk-item\"><div class=\"sk-estimator fitted sk-toggleable\"><input class=\"sk-toggleable__control sk-hidden--visually\" id=\"sk-estimator-id-4\" type=\"checkbox\" checked><label for=\"sk-estimator-id-4\" class=\"sk-toggleable__label fitted sk-toggleable__label-arrow\"><div><div>RandomForestClassifier</div></div><div><a class=\"sk-estimator-doc-link fitted\" rel=\"noreferrer\" target=\"_blank\" href=\"https://scikit-learn.org/1.6/modules/generated/sklearn.ensemble.RandomForestClassifier.html\">?<span>Documentation for RandomForestClassifier</span></a><span class=\"sk-estimator-doc-link fitted\">i<span>Fitted</span></span></div></label><div class=\"sk-toggleable__content fitted\"><pre>RandomForestClassifier(criterion=&#x27;entropy&#x27;, max_depth=4, n_estimators=150,\n",
       "                       random_state=0)</pre></div> </div></div></div></div>"
      ],
      "text/plain": [
       "RandomForestClassifier(criterion='entropy', max_depth=4, n_estimators=150,\n",
       "                       random_state=0)"
      ]
     },
     "execution_count": 56,
     "metadata": {},
     "output_type": "execute_result"
    }
   ],
   "source": [
    "# Criação e treinamento do modelo de floresta aleatória\n",
    "random = RandomForestClassifier(n_estimators=150, criterion='entropy', random_state = 0, max_depth=4)\n",
    "random.fit(X_train, y_train)"
   ]
  },
  {
   "cell_type": "code",
   "execution_count": 57,
   "metadata": {
    "colab": {
     "base_uri": "https://localhost:8080/"
    },
    "id": "TcbFNcLK_9jS",
    "outputId": "ccad4e30-ebaf-4f0e-ce75-c92245c3c016"
   },
   "outputs": [
    {
     "data": {
      "text/plain": [
       "array([1, 1, 1, 0, 0, 1, 1, 0, 1, 0, 1, 1, 0, 1, 1, 0, 1, 0, 0, 1, 0, 0,\n",
       "       0, 1, 0, 0, 1, 1, 0, 1, 0, 1, 0, 1, 1, 1, 1, 0, 0, 0, 1, 0, 1, 1,\n",
       "       0, 0, 0, 0, 1, 1, 1, 1, 1, 1, 1, 1, 1, 1, 0, 0, 0, 0, 1, 1, 1, 1,\n",
       "       1, 1, 1, 1, 1, 1, 1, 0])"
      ]
     },
     "execution_count": 57,
     "metadata": {},
     "output_type": "execute_result"
    }
   ],
   "source": [
    "# Previsões do modelo\n",
    "random_predict = random.predict(X_test)\n",
    "random_predict"
   ]
  },
  {
   "cell_type": "code",
   "execution_count": null,
   "metadata": {
    "colab": {
     "base_uri": "https://localhost:8080/"
    },
    "id": "n6KMo8zm694p",
    "outputId": "dfdba756-8d3c-4a3a-c95c-9cd6dcb572e7"
   },
   "outputs": [
    {
     "name": "stdout",
     "output_type": "stream",
     "text": [
      "\n",
      "Relatório de Classificação:\n",
      "+--------------+-----------+--------+----------+---------+\n",
      "|              | precision | recall | f1-score | support |\n",
      "+--------------+-----------+--------+----------+---------+\n",
      "|      0       |   0.93    |  0.84  |   0.89   |  32.0   |\n",
      "|      1       |   0.89    |  0.95  |   0.92   |  42.0   |\n",
      "|   accuracy   |   0.91    |  0.91  |   0.91   |  0.91   |\n",
      "|  macro avg   |   0.91    |  0.9   |   0.9    |  74.0   |\n",
      "| weighted avg |   0.91    |  0.91  |   0.9    |  74.0   |\n",
      "+--------------+-----------+--------+----------+---------+\n"
     ]
    }
   ],
   "source": [
    "# type: ignore\n",
    "# Relatório de Classificação\n",
    "report = classification_report(y_test, random_predict, output_dict=True)\n",
    "df_report = pd.DataFrame(report).transpose()\n",
    "\n",
    "# Arredondando valores para 2 casas decimais\n",
    "df_report_rounded = df_report.round(2)\n",
    "\n",
    "print(\"\\nRelatório de Classificação:\")\n",
    "print(tabulate(df_report_rounded, headers='keys', tablefmt='pretty'))"
   ]
  },
  {
   "cell_type": "code",
   "execution_count": 59,
   "metadata": {
    "colab": {
     "base_uri": "https://localhost:8080/",
     "height": 433
    },
    "id": "33qAM9bp7NNn",
    "outputId": "e3f61b24-b423-4dda-dde1-17a844402a25"
   },
   "outputs": [
    {
     "name": "stdout",
     "output_type": "stream",
     "text": [
      "Acurácia: 90.54%\n"
     ]
    },
    {
     "data": {
      "image/png": "[encoded data removed]",
      "text/plain": [
       "<Figure size 600x400 with 1 Axes>"
      ]
     },
     "metadata": {},
     "output_type": "display_data"
    }
   ],
   "source": [
    "# Plot da matriz de confusão\n",
    "\n",
    "# 1. Calcular a acurácia\n",
    "acuracia = accuracy_score(y_test, random_predict)\n",
    "print(f\"Acurácia: {acuracia:.2%}\")\n",
    "\n",
    "# 2. Matriz de Confusão estilizada com seaborn\n",
    "cm = confusion_matrix(y_test, random_predict)\n",
    "\n",
    "plt.figure(figsize=(6, 4))\n",
    "sns.heatmap(cm, annot=True, fmt='d', cmap='Blues', cbar=False,\n",
    "            annot_kws={\"size\": 14}, linewidths=2, linecolor='black')\n",
    "\n",
    "plt.title('Matriz de Confusão', fontsize=14, fontweight='bold')\n",
    "plt.ylabel('Valor Real', fontsize=12)\n",
    "plt.xlabel('Valor Predito', fontsize=12)\n",
    "plt.xticks(fontsize=10)\n",
    "plt.yticks(fontsize=10)\n",
    "plt.show()"
   ]
  },
  {
   "cell_type": "markdown",
   "metadata": {
    "id": "fNuFaTKu8IU4"
   },
   "source": [
    "#### Interpretação da Matriz de Confusão\n",
    "\n",
    "- **Verdadeiros Negativos (VN):** 27 pessoas que **não tinham tendência** de desenvolver doença cardíaca com o tempo, e o modelo classificou corretamente.  \n",
    "- **Verdadeiros Positivos (VP):** 40 pessoas que **tinham tendência** de desenvolver doença cardíaca com o tempo, e o modelo classificou corretamente.  \n",
    "- **Falsos Positivos (FP):** 5 pessoas que **não tinham tendência** de desenvolver doença cardíaca, mas o modelo previu incorretamente que tinham.  \n",
    "- **Falsos Negativos (FN):** 2 pessoas que **tinham tendência** de desenvolver doença cardíaca, mas o modelo previu incorretamente que não tinham.  "
   ]
  },
  {
   "cell_type": "markdown",
   "metadata": {
    "id": "tkHCqnog8f8C"
   },
   "source": [
    "## Análise de Modelos de Previsão de Doença Cardíaca\n",
    "\n",
    "### Divisão dos Dados e Padronização\n",
    "\n",
    "- **Divisão dos Dados:**\n",
    "  - 75% para treinamento.\n",
    "  - 15% para teste.\n",
    "\n",
    "- **Padronização com Z-score:**\n",
    "  - Aplicada apenas no modelo SVM, resultando em um ganho considerável de desempenho.\n",
    "  - Nos testes realizados com Regressão Logística e Redes Neurais, a padronização ocasionou uma perda de desempenho.\n",
    "  - Os modelos baseados em Floresta Aleatória e Árvore de Decisão não necessitaram da padronização.\n",
    "\n",
    "### Resultados Obtidos (Holdout)\n",
    "\n",
    "- **Floresta Aleatória:** 90,54% (67 acertos)\n",
    "- **Regressão Logística:** 89,19% (66 acertos)\n",
    "- **Redes Neurais:** 87,84% (65 acertos)\n",
    "- **Máquinas de Vetores de Suporte (SVM):** 83,78% (62 acertos)\n",
    "- **Árvore de Decisão:** 82,43% (61 acertos)\n",
    "\n",
    "### Conclusão\n",
    "\n",
    "O modelo que apresentou o melhor desempenho na previsão da tendência de uma pessoa desenvolver algum tipo de doença cardíaca, com base em fatores clínicos e laboratoriais, foi a **Floresta Aleatória**. Apesar de todos os modelos terem demonstrado um desempenho satisfatório, a Floresta Aleatória destacou-se como a opção mais eficaz.\n"
   ]
  },
  {
   "cell_type": "markdown",
   "metadata": {
    "id": "q19gRcWmuitM"
   },
   "source": [
    "## **Demonstração**"
   ]
  },
  {
   "cell_type": "code",
   "execution_count": 60,
   "metadata": {
    "colab": {
     "base_uri": "https://localhost:8080/"
    },
    "id": "OUqLXCfxurnH",
    "outputId": "ec6fec78-2a61-4c9c-927e-818c596ac3d8"
   },
   "outputs": [
    {
     "name": "stdout",
     "output_type": "stream",
     "text": [
      "Dados de entrada:\n",
      "   age  sex  cp  trestbps  chol  restecg  thalach  exang  oldpeak  slope  ca  \\\n",
      "0   55    0   3       123   348        2      182      1      0.2      2   1   \n",
      "\n",
      "   thal  \n",
      "0     7  \n",
      "\n",
      "Predição: Possível presença de doença cardíaca.\n"
     ]
    }
   ],
   "source": [
    "# Função para gerar um registro fictício com base nas colunas do dataset\n",
    "def gerar_dado_ficticio():\n",
    "    dado = {\n",
    "        'age': np.random.randint(29, 78),                   # idade entre 29 e 77 anos\n",
    "        'sex': np.random.choice([0, 1]),                    # 0: feminino, 1: masculino\n",
    "        'cp': np.random.randint(0, 4),                      # tipo de dor no peito (0 a 3)\n",
    "        'trestbps': np.random.randint(90, 201),             # pressão arterial de repouso (mm Hg)\n",
    "        'chol': np.random.randint(150, 400),                # colesterol sérico (mg/dl)\n",
    "        'restecg': np.random.randint(0, 3),                 # resultados do eletrocardiograma de repouso (0 a 2)\n",
    "        'thalach': np.random.randint(70, 211),              # frequência cardíaca máxima atingida\n",
    "        'exang': np.random.choice([0, 1]),                  # angina induzida por exercício (0 ou 1)\n",
    "        'oldpeak': round(np.random.uniform(0, 6), 1),       # depressão do ST induzida pelo exercício\n",
    "        'slope': np.random.randint(0, 3),                   # inclinação do segmento ST (0 a 2)\n",
    "        'ca': np.random.randint(0, 4),                      # número de vasos sanguíneos principais (0 a 3)\n",
    "        'thal': np.random.choice([3, 6, 7])                 # valor categórico para thal (3: normal, 6: defeito fixo, 7: defeito reversível)\n",
    "    }\n",
    "    # Converte o dicionário para um DataFrame (uma única linha)\n",
    "    return pd.DataFrame([dado])\n",
    "\n",
    "# Função para prever a presença de doença cardíaca usando o modelo treinado\n",
    "def prever_doenca_cardiaca(modelo, dado):\n",
    "    # Aqui, 'dado' deve ser um DataFrame com as mesmas colunas do dataset original\n",
    "    pred = modelo.predict(dado)\n",
    "    # Dependendo da codificação do target: 1 (doença) ou 0 (sem doença)\n",
    "    if pred[0] == 1:\n",
    "        return \"Predição: Possível presença de doença cardíaca.\"\n",
    "    else:\n",
    "        return \"Predição: Baixo risco de doença cardíaca.\"\n",
    "\n",
    "# Exemplo de uso:\n",
    "# Supondo que o seu modelo Random Forest treinado esteja na variável 'random'\n",
    "# Gerar dados fictícios\n",
    "dado_ficticio = gerar_dado_ficticio()\n",
    "print(\"Dados de entrada:\")\n",
    "print(dado_ficticio)\n",
    "\n",
    "# Realizar a previsão\n",
    "resultado = prever_doenca_cardiaca(random, dado_ficticio)\n",
    "print(\"\\n\" + resultado)\n"
   ]
  }
 ],
 "metadata": {
  "colab": {
   "provenance": [],
   "toc_visible": true
  },
  "kernelspec": {
   "display_name": "venv",
   "language": "python",
   "name": "python3"
  },
  "language_info": {
   "codemirror_mode": {
    "name": "ipython",
    "version": 3
   },
   "file_extension": ".py",
   "mimetype": "text/x-python",
   "name": "python",
   "nbconvert_exporter": "python",
   "pygments_lexer": "ipython3",
   "version": "3.12.3"
  }
 },
 "nbformat": 4,
 "nbformat_minor": 0
}
